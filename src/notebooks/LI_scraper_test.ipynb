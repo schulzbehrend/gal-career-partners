{
 "cells": [
  {
   "cell_type": "code",
   "execution_count": 1,
   "metadata": {},
   "outputs": [],
   "source": [
    "from collections import defaultdict\n",
    "import pandas as pd\n",
    "from time import sleep\n",
    "\n",
    "from selenium import webdriver\n",
    "from selenium.webdriver.common.action_chains import ActionChains\n",
    "from selenium.webdriver.common.keys import Keys\n",
    "import chromedriver_binary\n",
    "from bs4 import BeautifulSoup\n",
    "\n",
    "\n",
    "from pymongo import MongoClient"
   ]
  },
  {
   "cell_type": "code",
   "execution_count": 2,
   "metadata": {},
   "outputs": [],
   "source": [
    "def get_login():\n",
    "    '''\n",
    "    Access keys from external file and placed in a list.\n",
    "\n",
    "    Parameters\n",
    "    ----------\n",
    "    None:\n",
    "\n",
    "    Returns\n",
    "    ----------\n",
    "    creds: (list)\n",
    "        Return keys used for session.\n",
    "    '''\n",
    "    f = open('../../data/LI_login.txt', 'r')\n",
    "    creds = f.readlines()\n",
    "\n",
    "    for idx, key in enumerate(creds):\n",
    "        creds[idx] = key.replace('\\n', '')\n",
    "\n",
    "    return creds"
   ]
  },
  {
   "cell_type": "code",
   "execution_count": 3,
   "metadata": {},
   "outputs": [],
   "source": [
    "def li_login():\n",
    "    '''\n",
    "    Login into LinkedIn and webdriver session for more web manipulation.\n",
    "    Sets up flow to search in LinkedIn head search bar.\n",
    "\n",
    "    Parameters\n",
    "    ----------\n",
    "    None:\n",
    "\n",
    "    Returns\n",
    "    ----------\n",
    "    driver: (selenium.webdriver.chrome.webdriver.WebDriver)\n",
    "        Return webdriver session for web manipulation.\n",
    "    '''\n",
    "    # session keys for LI instance\n",
    "    email, pw = get_login()\n",
    "    \n",
    "    # selenium webdriver\n",
    "    driver = webdriver.Chrome()\n",
    "    driver.get('https://www.linkedin.com/')\n",
    "    # log in\n",
    "    driver.find_element_by_id('session_key').send_keys(email)\n",
    "    driver.find_element_by_id('session_password').send_keys(pw)\n",
    "    driver.find_element_by_id('session_password').send_keys(Keys.RETURN)\n",
    "\n",
    "    return driver"
   ]
  },
  {
   "cell_type": "code",
   "execution_count": 4,
   "metadata": {},
   "outputs": [],
   "source": [
    "def scrape_contacts(driver, co):\n",
    "    '''\n",
    "    Search company (co) in LinkedIn head search bar and scrape that company's contacts of interest.\n",
    "    Returns dictionary of {co: {name: link}}\n",
    "\n",
    "    Parameters\n",
    "    ----------\n",
    "    driver: (selenium.webdriver.chrome.webdriver.WebDriver)\n",
    "        Webdriver session for web manipulation.\n",
    "    co: (str)\n",
    "        Company string to search in head search bar.\n",
    "\n",
    "    Returns\n",
    "    ----------\n",
    "    d: (dict)\n",
    "        Return dictionary for mongo DB insert.\n",
    "    '''\n",
    "    # XPaths\n",
    "    # Click first item when search company\n",
    "    srch_x_path = '//*[@id=\"ember16\"]/input'\n",
    "    co_x_path = '/html/body/div[7]/div[3]/div/div[2]/div/div/div/div[1]/div/div/div/div[2]/div[1]/div[1]/span/div/span/span/a'\n",
    "    ppl_x_path = '/html/body/div[7]/div[3]/div/div[3]/div[2]/div[1]/div/div/nav/ul/li[5]/a'\n",
    "    ppl_search_xpath = '/html/body/div[7]/div[3]/div/div[3]/div[2]/div[2]/div[1]/div[2]/div/div/div/input'\n",
    "    gal_alum = 'galvanize'\n",
    "    tech_rec = 'technical recruiter'\n",
    "    \n",
    "    \n",
    "    sleep(5)\n",
    "    driver.find_element_by_xpath(srch_x_path).send_keys(co + Keys.RETURN)\n",
    "    sleep(5) #TODO check page load\n",
    "    driver.find_element_by_xpath(co_x_path).click()\n",
    "    sleep(5) #TODO check page load\n",
    "    driver.find_element_by_xpath(ppl_x_path).click()\n",
    "    sleep(5) #TODO check page load\n",
    "    driver.find_element_by_xpath(srch_x_path).clear()\n",
    "    sleep(5) \n",
    "    driver.find_element_by_xpath(ppl_search_xpath).send_keys(tech_rec + Keys.RETURN)\n",
    "    sleep(5)\n",
    "    scroll_to_end(driver)\n",
    "    r = driver.page_source\n",
    "    soup = BeautifulSoup(r, 'html.parser')\n",
    "    # TODO insert mongo raw scrape\n",
    "    results = soup.find('ul', 'org-people-profiles-module__profile-list')\n",
    "    \n",
    "    d = mongo_insert(results, co)\n",
    "    \n",
    "    return d\n",
    "    \n",
    "    \n",
    "#     try:\n",
    "#         driver.find_element_by_xpath(co_x_path).click()\n",
    "#         driver.find_element_by_xpath(ppl_x_path).click()\n",
    "#         driver.find_element_by_xpath(srch_x_path).clear()\n",
    "#         return 'PASS', co\n",
    "#     except:\n",
    "#         driver.find_element_by_xpath(srch_x_path).clear()\n",
    "#         return 'FAIL', co\n",
    "#     sleep(2)"
   ]
  },
  {
   "cell_type": "code",
   "execution_count": 5,
   "metadata": {},
   "outputs": [],
   "source": [
    "def scroll_to_end(driver):\n",
    "    action = ActionChains(driver)\n",
    "    action.send_keys(Keys.END)\n",
    "    action.perform()"
   ]
  },
  {
   "cell_type": "code",
   "execution_count": 6,
   "metadata": {},
   "outputs": [],
   "source": [
    "def mongo_insert(results, co):\n",
    "    contact_elements = results.find_all('li', 'org-people-profiles-module__profile-item')\n",
    "    \n",
    "    d = defaultdict(dict)\n",
    "    \n",
    "    for contact in contact_elements:\n",
    "        name = contact.find('div', 'org-people-profile-card__profile-title t-black lt-line-clamp lt-line-clamp--single-line ember-view')\n",
    "        if name is None:\n",
    "            continue\n",
    "        name = name.text.rstrip().replace(' ', '', 2)\n",
    "        link = 'https://www.linkedin.com' + contact.a['href']\n",
    "\n",
    "        if co not in d:\n",
    "            d[co]\n",
    "\n",
    "        if name not in co:\n",
    "            d[co][name] = link\n",
    "    \n",
    "    return d"
   ]
  },
  {
   "cell_type": "code",
   "execution_count": 7,
   "metadata": {},
   "outputs": [],
   "source": [
    "df = pd.read_csv('../../data/glassdoor_scrape_1.csv')\n",
    "df.dropna(inplace=True)\n",
    "edu_flag = df['industry'].apply(lambda x: True if 'College' in x else False)\n",
    "cos = pd.Series(df.name[~edu_flag].unique())"
   ]
  },
  {
   "cell_type": "code",
   "execution_count": 23,
   "metadata": {},
   "outputs": [],
   "source": [
    "driver = li_login()"
   ]
  },
  {
   "cell_type": "code",
   "execution_count": 34,
   "metadata": {},
   "outputs": [],
   "source": [
    "def scroll(driver, timeout):\n",
    "    scroll_pause_time = timeout\n",
    "\n",
    "    # Get scroll height\n",
    "    last_height = driver.execute_script(\"return document.body.scrollHeight\")\n",
    "\n",
    "    while True:\n",
    "        # Scroll down to bottom\n",
    "        driver.execute_script(\"window.scrollTo(0, document.body.scrollHeight);\")\n",
    "\n",
    "        # Wait to load page\n",
    "        sleep(scroll_pause_time)\n",
    "\n",
    "        # Calculate new scroll height and compare with last scroll height\n",
    "        new_height = driver.execute_script(\"return document.body.scrollHeight\")\n",
    "        if new_height == last_height:\n",
    "            # If heights are the same it will exit the function\n",
    "            break\n",
    "        last_height = new_height"
   ]
  },
  {
   "cell_type": "code",
   "execution_count": 36,
   "metadata": {},
   "outputs": [],
   "source": [
    "scroll(driver, 3)"
   ]
  },
  {
   "cell_type": "code",
   "execution_count": 26,
   "metadata": {},
   "outputs": [
    {
     "name": "stdout",
     "output_type": "stream",
     "text": [
      "Failed\n"
     ]
    }
   ],
   "source": [
    "pageHeight = driver.execute_script(\"return document.body.scrollHeight\")\n",
    "totalScrolledHeight = driver.execute_script(\"return window.pageYOffset + window.innerHeight\")\n",
    "\n",
    "# -1 is to make sure the rounding issues\n",
    "if((pageHeight-1)<=totalScrolledHeight):\n",
    "   print(\"pass\")\n",
    "else:\n",
    "  print(\"Failed\")"
   ]
  },
  {
   "cell_type": "code",
   "execution_count": 29,
   "metadata": {},
   "outputs": [],
   "source": [
    "Divs=driver.find_element_by_tag_name('div').text"
   ]
  },
  {
   "cell_type": "code",
   "execution_count": 30,
   "metadata": {},
   "outputs": [
    {
     "data": {
      "text/plain": [
       "'0 notifications total'"
      ]
     },
     "execution_count": 30,
     "metadata": {},
     "output_type": "execute_result"
    }
   ],
   "source": [
    "Divs"
   ]
  },
  {
   "cell_type": "code",
   "execution_count": 9,
   "metadata": {
    "scrolled": true
   },
   "outputs": [
    {
     "data": {
      "text/plain": [
       "0                     Apple\n",
       "1         Dell Technologies\n",
       "2                       IBM\n",
       "3      National Instruments\n",
       "4                    NVIDIA\n",
       "5                 Atlassian\n",
       "6              Silicon Labs\n",
       "7    SailPoint Technologies\n",
       "8                  Facebook\n",
       "9                    Google\n",
       "dtype: object"
      ]
     },
     "execution_count": 9,
     "metadata": {},
     "output_type": "execute_result"
    }
   ],
   "source": [
    "sample_test = cos[:10]\n",
    "sample_test"
   ]
  },
  {
   "cell_type": "code",
   "execution_count": 39,
   "metadata": {},
   "outputs": [],
   "source": [
    "# results variable to testing, otherwise no var\n",
    "results = scrape_contacts(driver, sample_test[4])"
   ]
  },
  {
   "cell_type": "code",
   "execution_count": 10,
   "metadata": {},
   "outputs": [],
   "source": [
    "# test single co with scroll\n",
    "d = scrape_contacts(driver, sample_test[5])"
   ]
  },
  {
   "cell_type": "code",
   "execution_count": 11,
   "metadata": {},
   "outputs": [
    {
     "data": {
      "text/plain": [
       "defaultdict(dict,\n",
       "            {'Atlassian': {'Jamie Hayes': 'https://www.linkedin.com/in/jamieghayes/',\n",
       "              'Amanda Sloup': 'https://www.linkedin.com/in/amandapadellaro/',\n",
       "              'Monica Harris': 'https://www.linkedin.com/in/monicarickenbacher/',\n",
       "              'Elena Wester, PHR': 'https://www.linkedin.com/in/westerelenac/',\n",
       "              'Dipti Sood': 'https://www.linkedin.com/in/dipti-sood-108ba37/',\n",
       "              'Mark Grantham': 'https://www.linkedin.com/in/mgrantham/',\n",
       "              'Michelle Rivera': 'https://www.linkedin.com/in/michellerivera3/',\n",
       "              'Amali Siedlecki': 'https://www.linkedin.com/in/amalids/',\n",
       "              'Jake Foster': 'https://www.linkedin.com/in/jacobfoster1/',\n",
       "              'Mitra Mahdavi': 'https://www.linkedin.com/in/mitra-mahdavi-15413611/',\n",
       "              'Kristin Barger': 'https://www.linkedin.com/in/kristintbarger/'}})"
      ]
     },
     "execution_count": 11,
     "metadata": {},
     "output_type": "execute_result"
    }
   ],
   "source": [
    "d"
   ]
  },
  {
   "cell_type": "code",
   "execution_count": 16,
   "metadata": {},
   "outputs": [],
   "source": [
    "scroll_to_end(driver)"
   ]
  },
  {
   "cell_type": "code",
   "execution_count": 20,
   "metadata": {},
   "outputs": [],
   "source": [
    "action = ActionChains(driver)\n",
    "\n"
   ]
  },
  {
   "cell_type": "code",
   "execution_count": 21,
   "metadata": {},
   "outputs": [
    {
     "data": {
      "text/plain": [
       "<selenium.webdriver.common.action_chains.ActionChains at 0x13a40a700>"
      ]
     },
     "execution_count": 21,
     "metadata": {},
     "output_type": "execute_result"
    }
   ],
   "source": [
    "action.send_keys(Keys.END)"
   ]
  },
  {
   "cell_type": "code",
   "execution_count": 22,
   "metadata": {},
   "outputs": [],
   "source": [
    "action.perform()"
   ]
  },
  {
   "cell_type": "code",
   "execution_count": 10,
   "metadata": {},
   "outputs": [
    {
     "ename": "KeyboardInterrupt",
     "evalue": "",
     "output_type": "error",
     "traceback": [
      "\u001b[0;31m---------------------------------------------------------------------------\u001b[0m",
      "\u001b[0;31mKeyboardInterrupt\u001b[0m                         Traceback (most recent call last)",
      "\u001b[0;32m<ipython-input-10-8b32d5699b4d>\u001b[0m in \u001b[0;36m<module>\u001b[0;34m\u001b[0m\n\u001b[1;32m      1\u001b[0m \u001b[0;31m# d variable to testing, otherwise no var\u001b[0m\u001b[0;34m\u001b[0m\u001b[0;34m\u001b[0m\u001b[0;34m\u001b[0m\u001b[0m\n\u001b[0;32m----> 2\u001b[0;31m \u001b[0mds\u001b[0m \u001b[0;34m=\u001b[0m \u001b[0msample_test\u001b[0m\u001b[0;34m.\u001b[0m\u001b[0mapply\u001b[0m\u001b[0;34m(\u001b[0m\u001b[0;32mlambda\u001b[0m \u001b[0mx\u001b[0m\u001b[0;34m:\u001b[0m \u001b[0mscrape_contacts\u001b[0m\u001b[0;34m(\u001b[0m\u001b[0mdriver\u001b[0m\u001b[0;34m,\u001b[0m \u001b[0mx\u001b[0m\u001b[0;34m)\u001b[0m\u001b[0;34m)\u001b[0m\u001b[0;34m\u001b[0m\u001b[0;34m\u001b[0m\u001b[0m\n\u001b[0m",
      "\u001b[0;32m/usr/local/lib/python3.9/site-packages/pandas/core/series.py\u001b[0m in \u001b[0;36mapply\u001b[0;34m(self, func, convert_dtype, args, **kwds)\u001b[0m\n\u001b[1;32m   4198\u001b[0m             \u001b[0;32melse\u001b[0m\u001b[0;34m:\u001b[0m\u001b[0;34m\u001b[0m\u001b[0;34m\u001b[0m\u001b[0m\n\u001b[1;32m   4199\u001b[0m                 \u001b[0mvalues\u001b[0m \u001b[0;34m=\u001b[0m \u001b[0mself\u001b[0m\u001b[0;34m.\u001b[0m\u001b[0mastype\u001b[0m\u001b[0;34m(\u001b[0m\u001b[0mobject\u001b[0m\u001b[0;34m)\u001b[0m\u001b[0;34m.\u001b[0m\u001b[0m_values\u001b[0m\u001b[0;34m\u001b[0m\u001b[0;34m\u001b[0m\u001b[0m\n\u001b[0;32m-> 4200\u001b[0;31m                 \u001b[0mmapped\u001b[0m \u001b[0;34m=\u001b[0m \u001b[0mlib\u001b[0m\u001b[0;34m.\u001b[0m\u001b[0mmap_infer\u001b[0m\u001b[0;34m(\u001b[0m\u001b[0mvalues\u001b[0m\u001b[0;34m,\u001b[0m \u001b[0mf\u001b[0m\u001b[0;34m,\u001b[0m \u001b[0mconvert\u001b[0m\u001b[0;34m=\u001b[0m\u001b[0mconvert_dtype\u001b[0m\u001b[0;34m)\u001b[0m\u001b[0;34m\u001b[0m\u001b[0;34m\u001b[0m\u001b[0m\n\u001b[0m\u001b[1;32m   4201\u001b[0m \u001b[0;34m\u001b[0m\u001b[0m\n\u001b[1;32m   4202\u001b[0m         \u001b[0;32mif\u001b[0m \u001b[0mlen\u001b[0m\u001b[0;34m(\u001b[0m\u001b[0mmapped\u001b[0m\u001b[0;34m)\u001b[0m \u001b[0;32mand\u001b[0m \u001b[0misinstance\u001b[0m\u001b[0;34m(\u001b[0m\u001b[0mmapped\u001b[0m\u001b[0;34m[\u001b[0m\u001b[0;36m0\u001b[0m\u001b[0;34m]\u001b[0m\u001b[0;34m,\u001b[0m \u001b[0mSeries\u001b[0m\u001b[0;34m)\u001b[0m\u001b[0;34m:\u001b[0m\u001b[0;34m\u001b[0m\u001b[0;34m\u001b[0m\u001b[0m\n",
      "\u001b[0;32mpandas/_libs/lib.pyx\u001b[0m in \u001b[0;36mpandas._libs.lib.map_infer\u001b[0;34m()\u001b[0m\n",
      "\u001b[0;32m<ipython-input-10-8b32d5699b4d>\u001b[0m in \u001b[0;36m<lambda>\u001b[0;34m(x)\u001b[0m\n\u001b[1;32m      1\u001b[0m \u001b[0;31m# d variable to testing, otherwise no var\u001b[0m\u001b[0;34m\u001b[0m\u001b[0;34m\u001b[0m\u001b[0;34m\u001b[0m\u001b[0m\n\u001b[0;32m----> 2\u001b[0;31m \u001b[0mds\u001b[0m \u001b[0;34m=\u001b[0m \u001b[0msample_test\u001b[0m\u001b[0;34m.\u001b[0m\u001b[0mapply\u001b[0m\u001b[0;34m(\u001b[0m\u001b[0;32mlambda\u001b[0m \u001b[0mx\u001b[0m\u001b[0;34m:\u001b[0m \u001b[0mscrape_contacts\u001b[0m\u001b[0;34m(\u001b[0m\u001b[0mdriver\u001b[0m\u001b[0;34m,\u001b[0m \u001b[0mx\u001b[0m\u001b[0;34m)\u001b[0m\u001b[0;34m)\u001b[0m\u001b[0;34m\u001b[0m\u001b[0;34m\u001b[0m\u001b[0m\n\u001b[0m",
      "\u001b[0;32m<ipython-input-4-11749843cab0>\u001b[0m in \u001b[0;36mscrape_contacts\u001b[0;34m(driver, co)\u001b[0m\n\u001b[1;32m     36\u001b[0m     \u001b[0msleep\u001b[0m\u001b[0;34m(\u001b[0m\u001b[0;36m5\u001b[0m\u001b[0;34m)\u001b[0m\u001b[0;34m\u001b[0m\u001b[0;34m\u001b[0m\u001b[0m\n\u001b[1;32m     37\u001b[0m     \u001b[0mdriver\u001b[0m\u001b[0;34m.\u001b[0m\u001b[0mfind_element_by_xpath\u001b[0m\u001b[0;34m(\u001b[0m\u001b[0mgen_search_xpath\u001b[0m\u001b[0;34m)\u001b[0m\u001b[0;34m.\u001b[0m\u001b[0msend_keys\u001b[0m\u001b[0;34m(\u001b[0m\u001b[0mgal_alum\u001b[0m \u001b[0;34m+\u001b[0m \u001b[0mKeys\u001b[0m\u001b[0;34m.\u001b[0m\u001b[0mRETURN\u001b[0m\u001b[0;34m)\u001b[0m\u001b[0;34m\u001b[0m\u001b[0;34m\u001b[0m\u001b[0m\n\u001b[0;32m---> 38\u001b[0;31m     \u001b[0mscroll_to_end\u001b[0m\u001b[0;34m(\u001b[0m\u001b[0mdriver\u001b[0m\u001b[0;34m)\u001b[0m\u001b[0;34m\u001b[0m\u001b[0;34m\u001b[0m\u001b[0m\n\u001b[0m\u001b[1;32m     39\u001b[0m     \u001b[0mr\u001b[0m \u001b[0;34m=\u001b[0m \u001b[0mdriver\u001b[0m\u001b[0;34m.\u001b[0m\u001b[0mpage_source\u001b[0m\u001b[0;34m\u001b[0m\u001b[0;34m\u001b[0m\u001b[0m\n\u001b[1;32m     40\u001b[0m     \u001b[0msoup\u001b[0m \u001b[0;34m=\u001b[0m \u001b[0mBeautifulSoup\u001b[0m\u001b[0;34m(\u001b[0m\u001b[0mr\u001b[0m\u001b[0;34m,\u001b[0m \u001b[0;34m'html.parser'\u001b[0m\u001b[0;34m)\u001b[0m\u001b[0;34m\u001b[0m\u001b[0;34m\u001b[0m\u001b[0m\n",
      "\u001b[0;32m<ipython-input-5-5f49af482df4>\u001b[0m in \u001b[0;36mscroll_to_end\u001b[0;34m(driver)\u001b[0m\n\u001b[1;32m      5\u001b[0m         \u001b[0;31m# Scroll down to the bottom.\u001b[0m\u001b[0;34m\u001b[0m\u001b[0;34m\u001b[0m\u001b[0;34m\u001b[0m\u001b[0m\n\u001b[1;32m      6\u001b[0m         \u001b[0mdriver\u001b[0m\u001b[0;34m.\u001b[0m\u001b[0mexecute_script\u001b[0m\u001b[0;34m(\u001b[0m\u001b[0;34m\"window.scrollTo(0, document.body.scrollHeight);\"\u001b[0m\u001b[0;34m)\u001b[0m\u001b[0;34m\u001b[0m\u001b[0;34m\u001b[0m\u001b[0m\n\u001b[0;32m----> 7\u001b[0;31m         \u001b[0msleep\u001b[0m\u001b[0;34m(\u001b[0m\u001b[0;36m3\u001b[0m\u001b[0;34m)\u001b[0m\u001b[0;34m\u001b[0m\u001b[0;34m\u001b[0m\u001b[0m\n\u001b[0m\u001b[1;32m      8\u001b[0m         \u001b[0;31m# Calculate new scroll height and compare with last scroll height.\u001b[0m\u001b[0;34m\u001b[0m\u001b[0;34m\u001b[0m\u001b[0;34m\u001b[0m\u001b[0m\n\u001b[1;32m      9\u001b[0m         \u001b[0mnew_height\u001b[0m \u001b[0;34m=\u001b[0m \u001b[0mdriver\u001b[0m\u001b[0;34m.\u001b[0m\u001b[0mexecute_script\u001b[0m\u001b[0;34m(\u001b[0m\u001b[0;34m\"return document.body.scrollHeight\"\u001b[0m\u001b[0;34m)\u001b[0m\u001b[0;34m\u001b[0m\u001b[0;34m\u001b[0m\u001b[0m\n",
      "\u001b[0;31mKeyboardInterrupt\u001b[0m: "
     ]
    }
   ],
   "source": [
    "# d variable to testing, otherwise no var\n",
    "ds = sample_test.apply(lambda x: scrape_contacts(driver, x))"
   ]
  },
  {
   "cell_type": "markdown",
   "metadata": {},
   "source": [
    "## selenium scroll done\n",
    "## scrapping results"
   ]
  },
  {
   "cell_type": "code",
   "execution_count": 40,
   "metadata": {},
   "outputs": [],
   "source": [
    "contact_elements = results.find_all('li', 'org-people-profiles-module__profile-item')"
   ]
  },
  {
   "cell_type": "code",
   "execution_count": 41,
   "metadata": {},
   "outputs": [
    {
     "data": {
      "text/plain": [
       "97"
      ]
     },
     "execution_count": 41,
     "metadata": {},
     "output_type": "execute_result"
    }
   ],
   "source": [
    "len(contact_elements)"
   ]
  },
  {
   "cell_type": "code",
   "execution_count": 43,
   "metadata": {},
   "outputs": [],
   "source": [
    "d = defaultdict(dict)"
   ]
  },
  {
   "cell_type": "code",
   "execution_count": 37,
   "metadata": {},
   "outputs": [
    {
     "data": {
      "text/plain": [
       "NoneType"
      ]
     },
     "execution_count": 37,
     "metadata": {},
     "output_type": "execute_result"
    }
   ],
   "source": [
    "# returned None from scrape\n",
    "# TODO: add None handling to dict construction\n",
    "#type(contact_elements[19].find('div', 'org-people-profile-card__profile-title t-black lt-line-clamp lt-line-clamp--single-line ember-view'))"
   ]
  },
  {
   "cell_type": "code",
   "execution_count": 44,
   "metadata": {},
   "outputs": [],
   "source": [
    "for contact in contact_elements:\n",
    "    name = contact.find('div', 'org-people-profile-card__profile-title t-black lt-line-clamp lt-line-clamp--single-line ember-view').text.rstrip()\n",
    "    name = name.replace(' ', '', 2)\n",
    "    link = 'https://www.linkedin.com' + contact.a['href']\n",
    "    \n",
    "    if co_test not in d:\n",
    "        d[co_test]\n",
    "        \n",
    "    if name not in co_test:\n",
    "        d[co_test][name] = link"
   ]
  },
  {
   "cell_type": "code",
   "execution_count": 45,
   "metadata": {},
   "outputs": [
    {
     "data": {
      "text/plain": [
       "defaultdict(dict,\n",
       "            {'NVIDIA': {'Steve Stepan Kehayan': 'https://www.linkedin.com/in/steve-stepan-kehayan-77b3753/',\n",
       "              'Bella Yanovsky': 'https://www.linkedin.com/in/bella-yanovsky-4a17ba3/',\n",
       "              'Thaddeus Dickens': 'https://www.linkedin.com/in/thaddeusdickens/',\n",
       "              'Linda Trias': 'https://www.linkedin.com/in/lindatrias2005/',\n",
       "              'Marilyn Ibanez': 'https://www.linkedin.com/in/marilyn-ibanez-1b7347141/',\n",
       "              'Larry Gonzales': 'https://www.linkedin.com/in/larrygonzales1/',\n",
       "              'Jennifer Jones': 'https://www.linkedin.com/in/jenniferannkim/',\n",
       "              'Meryl Kaiser': 'https://www.linkedin.com/in/merylkaiser/',\n",
       "              'Lisa Calderon': 'https://www.linkedin.com/in/lisacal/',\n",
       "              'Anita Rexinger': 'https://www.linkedin.com/in/rexinger/',\n",
       "              'DAN PATEL': 'https://www.linkedin.com/in/recruiterdan/',\n",
       "              'Julia Tyson': 'https://www.linkedin.com/in/julia-tyson-b935ab/',\n",
       "              'Josie Aguada Soriano': 'https://www.linkedin.com/in/josiesoriano/',\n",
       "              'Jackie Moore': 'https://www.linkedin.com/in/moorejackie/',\n",
       "              'Michael Lazarin': 'https://www.linkedin.com/in/michaellazarin/',\n",
       "              'Joshua Hasten': 'https://www.linkedin.com/in/joshuahasten/',\n",
       "              'Carol Stanford': 'https://www.linkedin.com/in/carolstanford/',\n",
       "              'James Mitchell': 'https://www.linkedin.com/in/james-mitchell-79a550144/',\n",
       "              'Purnima Rathore': 'https://www.linkedin.com/in/purnima-rathore117/',\n",
       "              'Sabina Sury': 'https://www.linkedin.com/in/sabina-sury/',\n",
       "              'Dayna W.': 'https://www.linkedin.com/in/daynalcwu/',\n",
       "              'Billy Palmieri': 'https://www.linkedin.com/in/billy-palmieri-bb6125/',\n",
       "              'Jessica J.': 'https://www.linkedin.com/in/jessica-m-jimenez/',\n",
       "              'Lexy Aldape': 'https://www.linkedin.com/in/lexy-aldape/',\n",
       "              'Christian Bada': 'https://www.linkedin.com/in/jcbada/',\n",
       "              'Mate Horvath': 'https://www.linkedin.com/in/mate-horvath-30b47734/',\n",
       "              'Joanna Davies': 'https://www.linkedin.com/in/joanna-davies-8a498544/',\n",
       "              'Olga Nikolaev': 'https://www.linkedin.com/in/olga-nikolaev/',\n",
       "              'Jackie Frye': 'https://www.linkedin.com/in/jackiebernardo/',\n",
       "              'Greg Homoya': 'https://www.linkedin.com/in/greghomoya/',\n",
       "              'Katerina Polovinko': 'https://www.linkedin.com/in/katerinapolovinko/',\n",
       "              'Jason LaBarbera': 'https://www.linkedin.com/in/jasonlabarbera/',\n",
       "              'Vennessa Hasten': 'https://www.linkedin.com/in/vennessa-hasten-b7614b4/',\n",
       "              'Carla Long': 'https://www.linkedin.com/in/carlalong/',\n",
       "              'Charu Gupta': 'https://www.linkedin.com/in/charuguptaa/',\n",
       "              'Hemachander Santhanam': 'https://www.linkedin.com/in/hemachander06/',\n",
       "              'Ashley Jetson': 'https://www.linkedin.com/in/ashleyciuk/',\n",
       "              'Lüsya Ishkova': 'https://www.linkedin.com/in/l-ishkova-recruit/',\n",
       "              'Samuel Osei Afriyie': 'https://www.linkedin.com/in/samuel-osei-afriyie-b1543257/',\n",
       "              'Deekshma Naik': 'https://www.linkedin.com/in/deekshma-naik-4a35a21/',\n",
       "              'Abhilasha Sharma': 'https://www.linkedin.com/in/abhilasha-sharma-4a980b39/',\n",
       "              'Serena Reiss': 'https://www.linkedin.com/in/serenareiss/',\n",
       "              'Jazylette Windell': 'https://www.linkedin.com/in/windelljaz/',\n",
       "              'Mike Antaya': 'https://www.linkedin.com/in/mikeantaya/',\n",
       "              'Mary Fox': 'https://www.linkedin.com/in/marywfox/',\n",
       "              'Ray Rufino': 'https://www.linkedin.com/in/rayrufino/',\n",
       "              'Kevin Dailey (LION, TopLinked)': 'https://www.linkedin.com/in/kevinjdailey/',\n",
       "              'Nancy Huynh': 'https://www.linkedin.com/in/nthuynh2016/',\n",
       "              'Raelene Conkin': 'https://www.linkedin.com/in/raelene-conkin-0910194/',\n",
       "              'Floyd Clark - SPHR': 'https://www.linkedin.com/in/floydclark/',\n",
       "              'Monique Romanowsky': 'https://www.linkedin.com/in/moniqueromanowsky/',\n",
       "              \"Dale D'Alessio\": 'https://www.linkedin.com/in/dale-d-alessio-1297321/',\n",
       "              'Noelle Tardieu': 'https://www.linkedin.com/in/noelle/',\n",
       "              'Lorena Garza': 'https://www.linkedin.com/in/lorena-garza-a86718/',\n",
       "              'Sandeep Tripathi': 'https://www.linkedin.com/in/sandeep-tripathi-172a863/',\n",
       "              'Wendell Tull': 'https://www.linkedin.com/in/wendelltull/',\n",
       "              'Eric Yeung': 'https://www.linkedin.com/in/ericyeung/',\n",
       "              'Ali Bahrainwala': 'https://www.linkedin.com/in/ali-bahrainwala-8b74383/',\n",
       "              'Michal Lubitch': 'https://www.linkedin.com/in/michal-lubitch-222a2648/',\n",
       "              'Maggie Chow': 'https://www.linkedin.com/in/maggie-chow-63102542/',\n",
       "              'Andy Dowley': 'https://www.linkedin.com/in/andydowley/',\n",
       "              'Adi Amiel': 'https://www.linkedin.com/in/adi-amiel-a4337850/',\n",
       "              'Haider Polan': 'https://www.linkedin.com/in/hpolan1984/',\n",
       "              'Ella Lamdani': 'https://www.linkedin.com/in/ellalamdani/',\n",
       "              'Jennifer Green, SPHR, SHRM-SCP': 'https://www.linkedin.com/in/jenniferkgreen/',\n",
       "              'Iris Dorfman Oren': 'https://www.linkedin.com/in/iris-dorfman-oren-8126b0141/',\n",
       "              'Jimcy Daniel': 'https://www.linkedin.com/in/jimcy-daniel-3aa4b94/',\n",
       "              'Shahid Khan': 'https://www.linkedin.com/in/shahid-khan-842665ab/',\n",
       "              'Ambika Yache': 'https://www.linkedin.com/in/ambika-yache-269a77b5/',\n",
       "              'Brian DeBar': 'https://www.linkedin.com/in/brian-debar-94b281/',\n",
       "              'Link Robertson': 'https://www.linkedin.com/in/link-robertson-435a672/',\n",
       "              'Judy DeSherlia': 'https://www.linkedin.com/in/judydesherlia/',\n",
       "              'Hannah Kuhns': 'https://www.linkedin.com/in/hannah-kuhns-3534615b/',\n",
       "              'Tinkle Chen': 'https://www.linkedin.com/in/tinklechan/',\n",
       "              'Mor Gayer': 'https://www.linkedin.com/in/mor-gayer-323077144/',\n",
       "              'Andrea Malloni': 'https://www.linkedin.com/in/andreamalloni/',\n",
       "              'Hanson Zhang': 'https://www.linkedin.com/in/hanson-zhang-b4925627/',\n",
       "              'René Peters Jr.': 'https://www.linkedin.com/in/rjpjr/',\n",
       "              'Prashant Srivatsa': 'https://www.linkedin.com/in/prashantsrivatsa/',\n",
       "              'Antoine Froger': 'https://www.linkedin.com/in/antoine-froger-567014117/',\n",
       "              'Delphine Ni': 'https://www.linkedin.com/in/delphineni/',\n",
       "              'Jennifer Reis': 'https://www.linkedin.com/in/jennifer-reis-5633ab41/',\n",
       "              'Elena Zinchenko': 'https://www.linkedin.com/in/ezinchenko/',\n",
       "              'Kavvya Rao': 'https://www.linkedin.com/in/kavvya-rao-30a00a13/',\n",
       "              'Marina Terzi': 'https://www.linkedin.com/in/marina-terzi-14a31469/',\n",
       "              'Esther L.': 'https://www.linkedin.com/in/estherleekm/',\n",
       "              'Ann Comerford Ison': 'https://www.linkedin.com/in/ann-comerford-ison-5b91351/',\n",
       "              'Nivedita Rathore': 'https://www.linkedin.com/in/nivedita-rathore-b8232814/',\n",
       "              'Irena Rainer': 'https://www.linkedin.com/in/irena-rainer-70792737/',\n",
       "              'Srija Yetukuri': 'https://www.linkedin.com/in/srija-yetukuri-3ba6a0176/',\n",
       "              'Matthew Lazarowitz': 'https://www.linkedin.com/in/matthew-lazarowitz/',\n",
       "              'Andi Levin': 'https://www.linkedin.com/in/andil/',\n",
       "              'Shriram R.': 'https://www.linkedin.com/in/shriramravi/',\n",
       "              'Lina Ido': 'https://www.linkedin.com/in/lina-ido-52aa49a5/',\n",
       "              'Perla Slutzky': 'https://www.linkedin.com/in/pslutzky/',\n",
       "              'John Mathieson': 'https://www.linkedin.com/in/johnmathieson/',\n",
       "              'Pankaj Kothari': 'https://www.linkedin.com/in/pankaj-kothari-94736265/'}})"
      ]
     },
     "execution_count": 45,
     "metadata": {},
     "output_type": "execute_result"
    }
   ],
   "source": [
    "d"
   ]
  },
  {
   "cell_type": "code",
   "execution_count": null,
   "metadata": {},
   "outputs": [],
   "source": [
    "cos_scrape = cos.apply(lambda x: scrape_contacts(driver, x))"
   ]
  },
  {
   "cell_type": "markdown",
   "metadata": {},
   "source": [
    "### Unused below\n",
    "### ~~defining flow for `li_login` function~~"
   ]
  },
  {
   "cell_type": "code",
   "execution_count": 3,
   "metadata": {},
   "outputs": [
    {
     "data": {
      "text/plain": [
       "'TODO: .click() with xpath'"
      ]
     },
     "execution_count": 3,
     "metadata": {},
     "output_type": "execute_result"
    }
   ],
   "source": [
    "email, pw = get_login()\n",
    "# pull pw/login from external file\n",
    "driver = webdriver.Chrome()\n",
    "# inst chrome webdriver\n",
    "driver.get('https://www.linkedin.com/')\n",
    "# open LI page\n",
    "driver.find_element_by_id('session_key').send_keys(email)\n",
    "# pass in email\n",
    "driver.find_element_by_id('session_password').send_keys(pw)\n",
    "# pass in pw\n",
    "'''TODO: .click() with xpath'''\n",
    "\n",
    "# driver.find_element_by_id('homepage-basic_signin-form_submit-button').click()"
   ]
  },
  {
   "cell_type": "code",
   "execution_count": 5,
   "metadata": {},
   "outputs": [],
   "source": [
    "driver.find_element_by_id('session_password').send_keys(Keys.RETURN)\n",
    "# press enter for to log in"
   ]
  },
  {
   "cell_type": "code",
   "execution_count": 4,
   "metadata": {},
   "outputs": [],
   "source": [
    "co_test = 'apple'"
   ]
  },
  {
   "cell_type": "code",
   "execution_count": 5,
   "metadata": {},
   "outputs": [],
   "source": [
    "driver.find_element_by_xpath('//*[@id=\"ember16\"]/input').send_keys(co_test)"
   ]
  },
  {
   "cell_type": "code",
   "execution_count": 6,
   "metadata": {},
   "outputs": [],
   "source": [
    "driver.find_element_by_xpath('//*[@id=\"ember16\"]/input').send_keys(Keys.RETURN)\n",
    "# enter search for co. name"
   ]
  },
  {
   "cell_type": "code",
   "execution_count": 7,
   "metadata": {},
   "outputs": [],
   "source": [
    "co_x_path = '/html/body/div[7]/div[3]/div/div[2]/div/div[2]/div/div/div/ul/li[1]/div/div/div[2]/a/h3'"
   ]
  },
  {
   "cell_type": "code",
   "execution_count": 8,
   "metadata": {},
   "outputs": [],
   "source": [
    "driver.find_element_by_xpath(co_x_path).click()\n",
    "# click co. link"
   ]
  },
  {
   "cell_type": "code",
   "execution_count": 9,
   "metadata": {},
   "outputs": [],
   "source": [
    "ppl_x_path = '/html/body/div[7]/div[3]/div/div[3]/div[2]/div[1]/div/div/nav/ul/li[5]/a'"
   ]
  },
  {
   "cell_type": "code",
   "execution_count": 10,
   "metadata": {},
   "outputs": [],
   "source": [
    "driver.find_element_by_xpath(ppl_x_path).click()\n",
    "# click People"
   ]
  },
  {
   "cell_type": "markdown",
   "metadata": {},
   "source": [
    "## ~~edit button testing~~\n",
    "### moving to general search, b/c more flexibility in search"
   ]
  },
  {
   "cell_type": "code",
   "execution_count": 16,
   "metadata": {},
   "outputs": [],
   "source": [
    "gen_search_xpath = '/html/body/div[7]/div[3]/div/div[3]/div[2]/div[2]/div[1]/div[2]/div/div/div/input'\n",
    "gal_alum = 'galvanize'\n",
    "tech_rec = 'technical recruiter'"
   ]
  },
  {
   "cell_type": "code",
   "execution_count": 17,
   "metadata": {},
   "outputs": [],
   "source": [
    "driver.find_element_by_xpath(gen_search_xpath).send_keys(gal_alum)\n",
    "driver.find_element_by_xpath(gen_search_xpath).send_keys(Keys.RETURN)"
   ]
  },
  {
   "cell_type": "code",
   "execution_count": 37,
   "metadata": {},
   "outputs": [],
   "source": [
    "r = driver.page_source"
   ]
  },
  {
   "cell_type": "code",
   "execution_count": 38,
   "metadata": {},
   "outputs": [],
   "source": [
    "soup = BeautifulSoup(r, 'html.parser')"
   ]
  },
  {
   "cell_type": "code",
   "execution_count": 39,
   "metadata": {},
   "outputs": [],
   "source": [
    "results = soup.find('ul', 'org-people-profiles-module__profile-list')"
   ]
  },
  {
   "cell_type": "code",
   "execution_count": 40,
   "metadata": {},
   "outputs": [
    {
     "data": {
      "text/plain": [
       "3007"
      ]
     },
     "execution_count": 40,
     "metadata": {},
     "output_type": "execute_result"
    }
   ],
   "source": [
    "len(results)"
   ]
  },
  {
   "cell_type": "code",
   "execution_count": 41,
   "metadata": {},
   "outputs": [],
   "source": [
    "contact_elements = results.find_all('li', 'org-people-profiles-module__profile-item')"
   ]
  },
  {
   "cell_type": "markdown",
   "metadata": {},
   "source": [
    "### iterate through indecies of `contact_elements` to pull k-v pairs"
   ]
  },
  {
   "cell_type": "code",
   "execution_count": 42,
   "metadata": {},
   "outputs": [],
   "source": [
    "name = contact_elements[1].find('div', 'org-people-profile-card__profile-title t-black lt-line-clamp lt-line-clamp--single-line ember-view')\n"
   ]
  },
  {
   "cell_type": "code",
   "execution_count": 43,
   "metadata": {},
   "outputs": [
    {
     "ename": "TypeError",
     "evalue": "'NoneType' object is not callable",
     "output_type": "error",
     "traceback": [
      "\u001b[0;31m---------------------------------------------------------------------------\u001b[0m",
      "\u001b[0;31mTypeError\u001b[0m                                 Traceback (most recent call last)",
      "\u001b[0;32m<ipython-input-43-cfbb7e082aec>\u001b[0m in \u001b[0;36m<module>\u001b[0;34m\u001b[0m\n\u001b[0;32m----> 1\u001b[0;31m \u001b[0mname\u001b[0m \u001b[0;34m=\u001b[0m \u001b[0mname\u001b[0m\u001b[0;34m.\u001b[0m\u001b[0mreplace\u001b[0m\u001b[0;34m(\u001b[0m\u001b[0;34m' '\u001b[0m\u001b[0;34m,\u001b[0m \u001b[0;34m''\u001b[0m\u001b[0;34m,\u001b[0m \u001b[0;36m2\u001b[0m\u001b[0;34m)\u001b[0m\u001b[0;34m.\u001b[0m\u001b[0mtext\u001b[0m\u001b[0;34m.\u001b[0m\u001b[0mrstrip\u001b[0m\u001b[0;34m(\u001b[0m\u001b[0;34m)\u001b[0m\u001b[0;34m\u001b[0m\u001b[0;34m\u001b[0m\u001b[0m\n\u001b[0m",
      "\u001b[0;31mTypeError\u001b[0m: 'NoneType' object is not callable"
     ]
    }
   ],
   "source": [
    "name = name.replace(' ', '', 2).text.rstrip()"
   ]
  },
  {
   "cell_type": "code",
   "execution_count": 22,
   "metadata": {},
   "outputs": [
    {
     "data": {
      "text/plain": [
       "'Antwan Little'"
      ]
     },
     "execution_count": 22,
     "metadata": {},
     "output_type": "execute_result"
    }
   ],
   "source": [
    "#k example\n",
    "name = contact_elements[-1].find('div', 'org-people-profile-card__profile-title t-black lt-line-clamp lt-line-clamp--single-line ember-view').text.rstrip()\n",
    "name = name.replace(' ', '', 2)\n",
    "name"
   ]
  },
  {
   "cell_type": "code",
   "execution_count": 23,
   "metadata": {},
   "outputs": [
    {
     "data": {
      "text/plain": [
       "'https://www.linkedin.com/in/antwanlittle/'"
      ]
     },
     "execution_count": 23,
     "metadata": {},
     "output_type": "execute_result"
    }
   ],
   "source": [
    "#v example\n",
    "#link to contact\n",
    "link = 'https://www.linkedin.com' + contact_elements[-1].a['href']\n",
    "link"
   ]
  },
  {
   "cell_type": "code",
   "execution_count": 45,
   "metadata": {},
   "outputs": [],
   "source": [
    "co_test = 'apple'"
   ]
  },
  {
   "cell_type": "code",
   "execution_count": 48,
   "metadata": {},
   "outputs": [
    {
     "name": "stdout",
     "output_type": "stream",
     "text": [
      "1\n",
      "2\n",
      "3\n",
      "4\n",
      "5\n",
      "6\n",
      "7\n",
      "8\n",
      "9\n",
      "10\n",
      "11\n",
      "12\n",
      "13\n",
      "14\n",
      "15\n",
      "16\n",
      "17\n",
      "18\n",
      "19\n",
      "20\n",
      "21\n",
      "22\n",
      "23\n",
      "24\n",
      "25\n",
      "26\n",
      "27\n",
      "28\n",
      "29\n",
      "30\n",
      "31\n",
      "32\n",
      "33\n",
      "34\n",
      "35\n",
      "36\n",
      "37\n",
      "38\n",
      "39\n",
      "40\n",
      "41\n",
      "42\n",
      "43\n",
      "44\n",
      "45\n",
      "46\n",
      "47\n",
      "48\n",
      "49\n",
      "50\n",
      "51\n",
      "52\n",
      "53\n",
      "54\n",
      "55\n",
      "56\n",
      "57\n",
      "58\n",
      "59\n",
      "60\n",
      "61\n",
      "62\n",
      "63\n",
      "64\n",
      "65\n",
      "66\n",
      "67\n",
      "68\n",
      "69\n",
      "70\n",
      "71\n",
      "72\n",
      "73\n",
      "74\n",
      "75\n",
      "76\n",
      "77\n",
      "78\n",
      "79\n",
      "80\n",
      "81\n",
      "82\n",
      "83\n",
      "84\n",
      "85\n",
      "86\n",
      "87\n",
      "88\n",
      "89\n",
      "90\n",
      "91\n",
      "92\n",
      "93\n",
      "94\n",
      "95\n",
      "96\n",
      "97\n",
      "98\n",
      "99\n",
      "100\n",
      "101\n",
      "102\n",
      "103\n",
      "104\n",
      "105\n",
      "106\n",
      "107\n",
      "108\n",
      "109\n",
      "110\n",
      "111\n",
      "112\n",
      "113\n",
      "114\n",
      "115\n",
      "116\n",
      "117\n",
      "118\n",
      "119\n",
      "120\n",
      "121\n",
      "122\n",
      "123\n",
      "124\n",
      "125\n",
      "126\n",
      "127\n",
      "128\n",
      "129\n",
      "130\n",
      "131\n",
      "132\n",
      "133\n",
      "134\n",
      "135\n",
      "136\n",
      "137\n",
      "138\n",
      "139\n",
      "140\n",
      "141\n",
      "142\n",
      "143\n",
      "144\n",
      "145\n",
      "146\n",
      "147\n",
      "148\n",
      "149\n",
      "150\n",
      "151\n",
      "152\n",
      "153\n",
      "154\n",
      "155\n",
      "156\n",
      "157\n",
      "158\n",
      "159\n",
      "160\n",
      "161\n",
      "162\n",
      "163\n",
      "164\n",
      "165\n",
      "166\n"
     ]
    },
    {
     "ename": "AttributeError",
     "evalue": "'NoneType' object has no attribute 'text'",
     "output_type": "error",
     "traceback": [
      "\u001b[0;31m---------------------------------------------------------------------------\u001b[0m",
      "\u001b[0;31mAttributeError\u001b[0m                            Traceback (most recent call last)",
      "\u001b[0;32m<ipython-input-48-4bc363daa852>\u001b[0m in \u001b[0;36m<module>\u001b[0;34m\u001b[0m\n\u001b[1;32m      4\u001b[0m \u001b[0;32mfor\u001b[0m \u001b[0mcontact\u001b[0m \u001b[0;32min\u001b[0m \u001b[0mcontact_elements\u001b[0m\u001b[0;34m:\u001b[0m\u001b[0;34m\u001b[0m\u001b[0;34m\u001b[0m\u001b[0m\n\u001b[1;32m      5\u001b[0m     \u001b[0mprint\u001b[0m\u001b[0;34m(\u001b[0m\u001b[0mcnt\u001b[0m\u001b[0;34m)\u001b[0m\u001b[0;34m\u001b[0m\u001b[0;34m\u001b[0m\u001b[0m\n\u001b[0;32m----> 6\u001b[0;31m     \u001b[0mname\u001b[0m \u001b[0;34m=\u001b[0m \u001b[0mcontact\u001b[0m\u001b[0;34m.\u001b[0m\u001b[0mfind\u001b[0m\u001b[0;34m(\u001b[0m\u001b[0;34m'div'\u001b[0m\u001b[0;34m,\u001b[0m \u001b[0;34m'org-people-profile-card__profile-title t-black lt-line-clamp lt-line-clamp--single-line ember-view'\u001b[0m\u001b[0;34m)\u001b[0m\u001b[0;34m.\u001b[0m\u001b[0mtext\u001b[0m\u001b[0;34m.\u001b[0m\u001b[0mrstrip\u001b[0m\u001b[0;34m(\u001b[0m\u001b[0;34m)\u001b[0m\u001b[0;34m\u001b[0m\u001b[0;34m\u001b[0m\u001b[0m\n\u001b[0m\u001b[1;32m      7\u001b[0m     \u001b[0mname\u001b[0m \u001b[0;34m=\u001b[0m \u001b[0mname\u001b[0m\u001b[0;34m.\u001b[0m\u001b[0mreplace\u001b[0m\u001b[0;34m(\u001b[0m\u001b[0;34m' '\u001b[0m\u001b[0;34m,\u001b[0m \u001b[0;34m''\u001b[0m\u001b[0;34m,\u001b[0m \u001b[0;36m2\u001b[0m\u001b[0;34m)\u001b[0m\u001b[0;34m\u001b[0m\u001b[0;34m\u001b[0m\u001b[0m\n\u001b[1;32m      8\u001b[0m     \u001b[0mlink\u001b[0m \u001b[0;34m=\u001b[0m \u001b[0;34m'https://www.linkedin.com'\u001b[0m \u001b[0;34m+\u001b[0m \u001b[0mcontact\u001b[0m\u001b[0;34m.\u001b[0m\u001b[0ma\u001b[0m\u001b[0;34m[\u001b[0m\u001b[0;34m'href'\u001b[0m\u001b[0;34m]\u001b[0m\u001b[0;34m\u001b[0m\u001b[0;34m\u001b[0m\u001b[0m\n",
      "\u001b[0;31mAttributeError\u001b[0m: 'NoneType' object has no attribute 'text'"
     ]
    }
   ],
   "source": [
    "# for loop and dictionary pop init\n",
    "d = defaultdict(dict)\n",
    "cnt = 1\n",
    "for contact in contact_elements:\n",
    "\n",
    "    name = contact.find('div', 'org-people-profile-card__profile-title t-black lt-line-clamp lt-line-clamp--single-line ember-view').text.rstrip()\n",
    "    name = name.replace(' ', '', 2)\n",
    "    link = 'https://www.linkedin.com' + contact.a['href']\n",
    "    \n",
    "    if co_test not in d:\n",
    "        d[co_test]\n",
    "        \n",
    "    if name not in co_test:\n",
    "        d[co_test][name] = link"
   ]
  },
  {
   "cell_type": "code",
   "execution_count": 49,
   "metadata": {},
   "outputs": [
    {
     "data": {
      "text/plain": [
       "defaultdict(dict,\n",
       "            {'apple': {'Joy Baughman': 'https://www.linkedin.com/in/joy-baughman/',\n",
       "              'Jaquala Couch': 'https://www.linkedin.com/in/jaquala-couch-a74102116/',\n",
       "              'Sanam Delrooz, CIR': 'https://www.linkedin.com/in/sanamdelrooz/',\n",
       "              'Janelle Parkin': 'https://www.linkedin.com/in/janelleparkin/',\n",
       "              'Tiffany Landayan': 'https://www.linkedin.com/in/tiffany-landayan-9b46847/',\n",
       "              'Kimberly Janes': 'https://www.linkedin.com/in/kimberlypuzzo/',\n",
       "              'Kal Luben': 'https://www.linkedin.com/in/kallubenrecruiter/',\n",
       "              'Joseph Verdugo': 'https://www.linkedin.com/in/jverdugo78/',\n",
       "              'Lauren Bokum Alaee': 'https://www.linkedin.com/in/laurenalaee/',\n",
       "              'Jenny Voges': 'https://www.linkedin.com/in/jennyvoges/',\n",
       "              'Long Phung': 'https://www.linkedin.com/in/lphung/',\n",
       "              'Nataly Cortes': 'https://www.linkedin.com/in/natalygracecortes/',\n",
       "              'Kashan Shami': 'https://www.linkedin.com/in/kashanshami/',\n",
       "              'Julia Vargas': 'https://www.linkedin.com/in/juliavargas/',\n",
       "              'Kean Smith': 'https://www.linkedin.com/in/keansmith/',\n",
       "              'Carlyn Cheatham': 'https://www.linkedin.com/in/carlyn/',\n",
       "              'Janice Miller': 'https://www.linkedin.com/in/janicemiller/',\n",
       "              'Brooke Atkinson': 'https://www.linkedin.com/in/brookeatkinson/',\n",
       "              'Brandon Gonzales': 'https://www.linkedin.com/in/brandongonzales/',\n",
       "              'Sandy Perlman': 'https://www.linkedin.com/in/sandyperlman/',\n",
       "              'Jason Fotenos': 'https://www.linkedin.com/in/jfotenos/',\n",
       "              'Isabel Sarkis': 'https://www.linkedin.com/in/isabelsarkis/',\n",
       "              'Haley Maddox': 'https://www.linkedin.com/in/haley-maddox-195431159/',\n",
       "              'Brian Moran': 'https://www.linkedin.com/in/brianmoran3/',\n",
       "              'Lauren Checky': 'https://www.linkedin.com/in/laurenchecky/',\n",
       "              'Nicole N.': 'https://www.linkedin.com/in/nicole-n-8b674818/',\n",
       "              'Kerie Darner': 'https://www.linkedin.com/in/keriedarner/',\n",
       "              'Chris Shaw': 'https://www.linkedin.com/in/chrisshaw2/',\n",
       "              'Shaun Sedgwick': 'https://www.linkedin.com/in/shaunsedgwick/',\n",
       "              'Beata Kempanowski': 'https://www.linkedin.com/in/beatakempanowski/',\n",
       "              'Roshan Gupta': 'https://www.linkedin.com/in/roshan-gupta-85924a164/',\n",
       "              'Brandon Coates': 'https://www.linkedin.com/in/brandoncoates/',\n",
       "              'Ramiro Barrientos': 'https://www.linkedin.com/in/ramiro-barrientos-6817973b/',\n",
       "              'Mark Rinovato': 'https://www.linkedin.com/in/markrinovato/',\n",
       "              'jason cohen': 'https://www.linkedin.com/in/jasonlcohen/',\n",
       "              'Michael Maxey (he/him/his)': 'https://www.linkedin.com/in/michael-maxey-he-him-his-86655144/',\n",
       "              'Fred Bitter': 'https://www.linkedin.com/in/fredbitter/',\n",
       "              'Zynnya Shelley (She/Her/Hers)': 'https://www.linkedin.com/in/zynnyashelley/',\n",
       "              'Ruben Casillan': 'https://www.linkedin.com/in/rcasillan/',\n",
       "              'Lijntje L. Stevens': 'https://www.linkedin.com/in/lijntje-l-stevens-07b30a/',\n",
       "              'Lisa Paraker-Jacoby': 'https://www.linkedin.com/in/lisa-paraker-jacoby-0b85a9/',\n",
       "              'Pete Farias': 'https://www.linkedin.com/in/petefarias/',\n",
       "              'Michael Ta Le': 'https://www.linkedin.com/in/michael-ta-le-6a8b0019/',\n",
       "              'Vicki VanDerBoom': 'https://www.linkedin.com/in/recruiting4u/',\n",
       "              'Yvette Rodriguez': 'https://www.linkedin.com/in/yvette-rodriguez/',\n",
       "              'Cathy Jay': 'https://www.linkedin.com/in/cathy-jay-7697594/',\n",
       "              'David Sneed': 'https://www.linkedin.com/in/davidsneed/',\n",
       "              'Thanh Tran': 'https://www.linkedin.com/in/thanhtran1/',\n",
       "              'Ruba Alsukhon': 'https://www.linkedin.com/in/rubaalsukhon/',\n",
       "              'Susan Merrow': 'https://www.linkedin.com/in/susan-merrow-7a28791/',\n",
       "              'Bianca Medina': 'https://www.linkedin.com/in/biancamedina/',\n",
       "              'Daniel Payomo': 'https://www.linkedin.com/in/danielpayomo3/',\n",
       "              'Jeff Schnable': 'https://www.linkedin.com/in/jeff-schnable-0940891/',\n",
       "              'Sangeeta Gupta': 'https://www.linkedin.com/in/sangeeta-gupta-8807a020/',\n",
       "              'Mike Villarreal': 'https://www.linkedin.com/in/michaelvillarreal/',\n",
       "              'Tomiko McEathron': 'https://www.linkedin.com/in/tomikomceathron/',\n",
       "              'Colby Whitman': 'https://www.linkedin.com/in/colbywhitman/',\n",
       "              'Jon Schneickert': 'https://www.linkedin.com/in/jons0504/',\n",
       "              'Mike Masuhr': 'https://www.linkedin.com/in/mikemasuhr/',\n",
       "              'Joanne Yun': 'https://www.linkedin.com/in/yunjoanne/',\n",
       "              'Bich “Dao” Tran': 'https://www.linkedin.com/in/bich-%E2%80%9Cdao%E2%80%9D-tran-476aa89a/',\n",
       "              'Michael Elias': 'https://www.linkedin.com/in/eliasmichael/',\n",
       "              'Ed Blom': 'https://www.linkedin.com/in/ed-blom-37a802/',\n",
       "              'Natalie Prieto': 'https://www.linkedin.com/in/natalie-prieto-515b1874/',\n",
       "              'Timothy P.': 'https://www.linkedin.com/in/timothy-pratt97/',\n",
       "              'Melissa Contreras': 'https://www.linkedin.com/in/melissa-contreras-a152a073/',\n",
       "              'Justin Kress': 'https://www.linkedin.com/in/justinkress/',\n",
       "              'Lindsey Crossland': 'https://www.linkedin.com/in/lindseyday87/',\n",
       "              'MaryJane Dow': 'https://www.linkedin.com/in/maryjane-dow-8834431/',\n",
       "              'Hieu Do': 'https://www.linkedin.com/in/hieunicorn/',\n",
       "              'Desiree Barton': 'https://www.linkedin.com/in/desireebarton/',\n",
       "              'Jeremy Jones': 'https://www.linkedin.com/in/jeremyyjones/',\n",
       "              'Divya Shivaprasad': 'https://www.linkedin.com/in/divyakalachary/',\n",
       "              'Isela A.': 'https://www.linkedin.com/in/isela-a-69b857a4/',\n",
       "              'Katherine Navarro': 'https://www.linkedin.com/in/katherinehe1/',\n",
       "              'Anh Nguyen': 'https://www.linkedin.com/in/nguyenanh/',\n",
       "              'Michael Schnyder': 'https://www.linkedin.com/in/michaelschnyder/',\n",
       "              'David Dixon': 'https://www.linkedin.com/in/davedixon2009/',\n",
       "              'Gregg Lynch': 'https://www.linkedin.com/in/gregglynch/',\n",
       "              'Phinni B.': 'https://www.linkedin.com/in/phinnibenjaminson/',\n",
       "              'Austin McDowell': 'https://www.linkedin.com/in/austinmcdowell1993/',\n",
       "              'Jack Smith, III': 'https://www.linkedin.com/in/jsmithiii/',\n",
       "              'Steve Munoz': 'https://www.linkedin.com/in/steve-munoz-4bb3081/',\n",
       "              'Violet Davey': 'https://www.linkedin.com/in/violethydie/',\n",
       "              'Sandra Gras': 'https://www.linkedin.com/in/sandragras/',\n",
       "              'Julia Peterson': 'https://www.linkedin.com/in/petersonjulia/',\n",
       "              'Navpreet Kaur': 'https://www.linkedin.com/in/navpreetkaur16/',\n",
       "              'Gretchen Farr': 'https://www.linkedin.com/in/gretchenfarr/',\n",
       "              'Abdul Savage': 'https://www.linkedin.com/in/abdulsavage/',\n",
       "              'Aurna Irani': 'https://www.linkedin.com/in/aurna-irani-a649a5192/',\n",
       "              'Samantha C.': 'https://www.linkedin.com/in/grant1024/',\n",
       "              'Claudia Nunley': 'https://www.linkedin.com/in/claudianunley/',\n",
       "              'Liz Papangellin': 'https://www.linkedin.com/in/liz-papangellin/',\n",
       "              'Dan St. Peter': 'https://www.linkedin.com/in/danstpeter2011/',\n",
       "              'Tina Campbell': 'https://www.linkedin.com/in/tinacampbell1/',\n",
       "              'Nathalie Collins-Moon': 'https://www.linkedin.com/in/nathaliecollins/',\n",
       "              'Sonali Bhushan': 'https://www.linkedin.com/in/sonali-bhushan-5073571/',\n",
       "              'Pam Berst': 'https://www.linkedin.com/in/pam-berst-5b51b92/',\n",
       "              'Brad Fuellenbach': 'https://www.linkedin.com/in/fuellenbach/',\n",
       "              'Anthony Ross': 'https://www.linkedin.com/in/anthony-ross-0b29b93/',\n",
       "              'Blake McAuley': 'https://www.linkedin.com/in/blakemcauley/',\n",
       "              'Taylor Murphy': 'https://www.linkedin.com/in/taylorvalle/',\n",
       "              'Katrena Meyer': 'https://www.linkedin.com/in/katrena-meyer-a15657/',\n",
       "              'Deb Nowlin Aragon': 'https://www.linkedin.com/in/debnowlin/',\n",
       "              'Lorena Alcazar': 'https://www.linkedin.com/in/lalcazar/',\n",
       "              'Silas Brickner': 'https://www.linkedin.com/in/silas-brickner-62897182/',\n",
       "              'Richard Strand': 'https://www.linkedin.com/in/ristrand/',\n",
       "              'Fernanda Del Aguila': 'https://www.linkedin.com/in/fernanda-del-aguila-866864/',\n",
       "              'Edward Cabral': 'https://www.linkedin.com/in/edwardcabral/',\n",
       "              'Warren Cusick': 'https://www.linkedin.com/in/warrencusick/',\n",
       "              'Yvonne Gillett': 'https://www.linkedin.com/in/ywong/',\n",
       "              'Kendra Tyson': 'https://www.linkedin.com/in/kendra-tyson-636a6a29/',\n",
       "              'Jack Jensen': 'https://www.linkedin.com/in/jackdjensen/',\n",
       "              'Raechelle (Medellin) Johnson': 'https://www.linkedin.com/in/raechellemedellin/',\n",
       "              'Jack Tran': 'https://www.linkedin.com/in/jackttran/',\n",
       "              'David Notaro': 'https://www.linkedin.com/in/davidnotaro/',\n",
       "              'Scott Spears': 'https://www.linkedin.com/in/scottbspears/',\n",
       "              'Carol Hansen': 'https://www.linkedin.com/in/hansencarol/',\n",
       "              'Alexis Martinez': 'https://www.linkedin.com/in/alexis-martinez-42a46a2/',\n",
       "              'Gabby N.': 'https://www.linkedin.com/in/gabby-n/',\n",
       "              'Jean Bender': 'https://www.linkedin.com/in/jeanbender/',\n",
       "              'Charles Chang, PHR': 'https://www.linkedin.com/in/charles-chang-phr-74914063/',\n",
       "              'Jeff Branscombe': 'https://www.linkedin.com/in/jeffreybbranscombe/',\n",
       "              'Daniel Slesnick': 'https://www.linkedin.com/in/daniel-slesnick-6a929954/',\n",
       "              'Paul G.': 'https://www.linkedin.com/in/paulogoyena/',\n",
       "              'marc diamond   (he/him)': 'https://www.linkedin.com/in/marc-diamond-he-him-a77b481/',\n",
       "              'Hina Azam': 'https://www.linkedin.com/in/hina-azam-41215a23/',\n",
       "              'Autumn Brunke': 'https://www.linkedin.com/in/autumnbrunke/',\n",
       "              'Olivia Salva': 'https://www.linkedin.com/in/olivia-salva-2a5010a/',\n",
       "              'Katrina Ocampo': 'https://www.linkedin.com/in/katrinaocampo/',\n",
       "              'Marissa Burke': 'https://www.linkedin.com/in/marissa-burke-8a215885/',\n",
       "              'Rodne Joseph': 'https://www.linkedin.com/in/rodne-joseph/',\n",
       "              'Sabrina Zare': 'https://www.linkedin.com/in/sabrinazare/',\n",
       "              'Creighton Kitsu': 'https://www.linkedin.com/in/creighton-kitsu-0383ab2/',\n",
       "              'Victoria Nudel': 'https://www.linkedin.com/in/victoria-nudel-02a99275/',\n",
       "              'Brenda Rivera': 'https://www.linkedin.com/in/brendarrivera/',\n",
       "              'Natalie Thomas': 'https://www.linkedin.com/in/thomasnatalie/',\n",
       "              'Melissa Pava-Chavez': 'https://www.linkedin.com/in/melissa-pava-chavez-180b4533/',\n",
       "              'Sean Ellingsen': 'https://www.linkedin.com/in/sean-ellingsen-063bb37a/',\n",
       "              'Benjamin Han': 'https://www.linkedin.com/in/benjaminhan26/',\n",
       "              'Nabila Lerohl': 'https://www.linkedin.com/in/nabilalerohl/',\n",
       "              'Corey Humphrey': 'https://www.linkedin.com/in/humphreycorey/',\n",
       "              'Sally Graves Rich': 'https://www.linkedin.com/in/sallygravesrich/',\n",
       "              'John Seigle': 'https://www.linkedin.com/in/john-seigle22285/',\n",
       "              'Tony Guzman': 'https://www.linkedin.com/in/toguzman/',\n",
       "              'Reggie Cabael': 'https://www.linkedin.com/in/reggiecabael/',\n",
       "              'Taylor Mack': 'https://www.linkedin.com/in/taylormack/',\n",
       "              'Grace Tam': 'https://www.linkedin.com/in/gracetam/',\n",
       "              'Robyn Stewart': 'https://www.linkedin.com/in/stewartrobyn/',\n",
       "              'Sarah Rogers': 'https://www.linkedin.com/in/sarah-marie-rogers/',\n",
       "              'Amy Green': 'https://www.linkedin.com/in/amygreen2/',\n",
       "              'Jade Sloane, PHR': 'https://www.linkedin.com/in/jade-sloane/',\n",
       "              'Swapna Balan': 'https://www.linkedin.com/in/swapnabalan/',\n",
       "              'Archana Shekar': 'https://www.linkedin.com/in/archanashekar/',\n",
       "              'John Penick': 'https://www.linkedin.com/in/johnpenick/',\n",
       "              'Nicole Rico-Loe': 'https://www.linkedin.com/in/nicolerico/',\n",
       "              'Michael Perez': 'https://www.linkedin.com/in/michael-perez-45b44219b/',\n",
       "              'Russel Goodwin': 'https://www.linkedin.com/in/russel-goodwin-1983281b0/',\n",
       "              'Thao Nguyen': 'https://www.linkedin.com/in/thao-nguyen-78731431/',\n",
       "              'Jessica Westling': 'https://www.linkedin.com/in/jessicawestling/',\n",
       "              'Warunee Facter': 'https://www.linkedin.com/in/wfacter/',\n",
       "              'Dianna Chourarath': 'https://www.linkedin.com/in/dianna-chourarath-296a7677/',\n",
       "              'Rimmi Amjad': 'https://www.linkedin.com/in/rimmiamjad/',\n",
       "              'Kevin Son': 'https://www.linkedin.com/in/sonk90/',\n",
       "              'Brooke Mannelly': 'https://www.linkedin.com/in/brooke-mannelly/'}})"
      ]
     },
     "execution_count": 49,
     "metadata": {},
     "output_type": "execute_result"
    }
   ],
   "source": [
    "d"
   ]
  },
  {
   "cell_type": "code",
   "execution_count": null,
   "metadata": {},
   "outputs": [],
   "source": []
  },
  {
   "cell_type": "markdown",
   "metadata": {},
   "source": [
    "Ok, interacting with LI just fine. ~~Need to refine 'add' edu \"Galvanize\" and~~ Move to general search for flexbility. Able to search co. for my desired fields... Need to scrape portion of return employees. "
   ]
  },
  {
   "cell_type": "markdown",
   "metadata": {},
   "source": [
    "--> ~~beautifulsoup to scrape return cells for (k) employee name (v) url to profile~~"
   ]
  },
  {
   "cell_type": "markdown",
   "metadata": {},
   "source": [
    "--> script Just portion. Just need DF out. for list of co's to search"
   ]
  },
  {
   "cell_type": "markdown",
   "metadata": {},
   "source": [
    "--> MongoDB for k-v's"
   ]
  },
  {
   "cell_type": "markdown",
   "metadata": {},
   "source": [
    "--> Dataframes\n",
    "\n",
    "*perhaps load into psql for py wrapper struc. RDBMS experience*"
   ]
  }
 ],
 "metadata": {
  "kernelspec": {
   "display_name": "Python 3",
   "language": "python",
   "name": "python3"
  },
  "language_info": {
   "codemirror_mode": {
    "name": "ipython",
    "version": 3
   },
   "file_extension": ".py",
   "mimetype": "text/x-python",
   "name": "python",
   "nbconvert_exporter": "python",
   "pygments_lexer": "ipython3",
   "version": "3.9.0"
  }
 },
 "nbformat": 4,
 "nbformat_minor": 4
}
