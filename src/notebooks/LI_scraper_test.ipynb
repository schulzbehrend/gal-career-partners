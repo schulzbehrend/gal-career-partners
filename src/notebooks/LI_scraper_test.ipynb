{
 "cells": [
  {
   "cell_type": "code",
   "execution_count": 1,
   "metadata": {},
   "outputs": [],
   "source": [
    "from collections import defaultdict\n",
    "import pandas as pd\n",
    "from time import sleep\n",
    "\n",
    "from selenium import webdriver\n",
    "from selenium.webdriver.common.keys import Keys\n",
    "import chromedriver_binary\n",
    "from bs4 import BeautifulSoup\n",
    "\n",
    "from pymongo import MongoClient"
   ]
  },
  {
   "cell_type": "code",
   "execution_count": 2,
   "metadata": {},
   "outputs": [],
   "source": [
    "def get_login():\n",
    "    '''\n",
    "    Access keys from external file and placed in a list.\n",
    "\n",
    "    Parameters\n",
    "    ----------\n",
    "    None:\n",
    "\n",
    "    Returns\n",
    "    ----------\n",
    "    creds: (list)\n",
    "        Return keys used for session.\n",
    "    '''\n",
    "    f = open('../../data/LI_login.txt', 'r')\n",
    "    creds = f.readlines()\n",
    "\n",
    "    for idx, key in enumerate(creds):\n",
    "        creds[idx] = key.replace('\\n', '')\n",
    "\n",
    "    return creds"
   ]
  },
  {
   "cell_type": "code",
   "execution_count": 3,
   "metadata": {},
   "outputs": [],
   "source": [
    "def li_login():\n",
    "    '''\n",
    "    Login into LinkedIn and webdriver session for more web manipulation.\n",
    "    Sets up flow to search in LinkedIn head search bar.\n",
    "\n",
    "    Parameters\n",
    "    ----------\n",
    "    None:\n",
    "\n",
    "    Returns\n",
    "    ----------\n",
    "    driver: (selenium.webdriver.chrome.webdriver.WebDriver)\n",
    "        Return webdriver session for web manipulation.\n",
    "    '''\n",
    "    # session keys for LI instance\n",
    "    email, pw = get_login()\n",
    "    \n",
    "    # selenium webdriver\n",
    "    driver = webdriver.Chrome()\n",
    "    driver.get('https://www.linkedin.com/')\n",
    "    # log in\n",
    "    driver.find_element_by_id('session_key').send_keys(email)\n",
    "    driver.find_element_by_id('session_password').send_keys(pw)\n",
    "    driver.find_element_by_id('session_password').send_keys(Keys.RETURN)\n",
    "\n",
    "    return driver"
   ]
  },
  {
   "cell_type": "code",
   "execution_count": 46,
   "metadata": {},
   "outputs": [],
   "source": [
    "def scrape_contacts(driver, co):\n",
    "    '''\n",
    "    Search company (co) in LinkedIn head search bar and scrape that company's contacts of interest.\n",
    "    Returns dictionary of {co: {name: link}}\n",
    "\n",
    "    Parameters\n",
    "    ----------\n",
    "    driver: (selenium.webdriver.chrome.webdriver.WebDriver)\n",
    "        Webdriver session for web manipulation.\n",
    "    co: (str)\n",
    "        Company string to search in head search bar.\n",
    "\n",
    "    Returns\n",
    "    ----------\n",
    "    d: (dict)\n",
    "        Return dictionary for mongo DB insert.\n",
    "    '''\n",
    "    # XPaths\n",
    "    # Click first item when search company\n",
    "    srch_x_path = '//*[@id=\"ember16\"]/input'\n",
    "    co_x_path = '/html/body/div[7]/div[3]/div/div[2]/div/div/div/div[1]/div/div/div/div[2]/div[1]/div[1]/span/div/span/span/a'\n",
    "    ppl_x_path = '/html/body/div[7]/div[3]/div/div[3]/div[2]/div[1]/div/div/nav/ul/li[5]/a'\n",
    "    gen_search_xpath = '/html/body/div[7]/div[3]/div/div[3]/div[2]/div[2]/div[1]/div[2]/div/div/div/input'\n",
    "    gal_alum = 'galvanize'\n",
    "    tech_rec = 'technical recruiter'\n",
    "    \n",
    "    \n",
    "    sleep(5)\n",
    "    driver.find_element_by_xpath(srch_x_path).send_keys(co + Keys.RETURN)\n",
    "    sleep(5) #TODO check page load\n",
    "    driver.find_element_by_xpath(co_x_path).click()\n",
    "    sleep(5) #TODO check page load\n",
    "    driver.find_element_by_xpath(ppl_x_path).click()\n",
    "    sleep(5) #TODO check page load\n",
    "    driver.find_element_by_xpath(srch_x_path).clear()\n",
    "    sleep(5) \n",
    "    driver.find_element_by_xpath(gen_search_xpath).send_keys(tech_rec + Keys.RETURN)\n",
    "    scroll_to_end(driver)\n",
    "    r = driver.page_source\n",
    "    soup = BeautifulSoup(r, 'html.parser')\n",
    "    results = soup.find('ul', 'org-people-profiles-module__profile-list')\n",
    "    \n",
    "    d = mongo_insert(results, co)\n",
    "    \n",
    "    return d\n",
    "    \n",
    "    \n",
    "#     try:\n",
    "#         driver.find_element_by_xpath(co_x_path).click()\n",
    "#         driver.find_element_by_xpath(ppl_x_path).click()\n",
    "#         driver.find_element_by_xpath(srch_x_path).clear()\n",
    "#         return 'PASS', co\n",
    "#     except:\n",
    "#         driver.find_element_by_xpath(srch_x_path).clear()\n",
    "#         return 'FAIL', co\n",
    "#     sleep(2)"
   ]
  },
  {
   "cell_type": "code",
   "execution_count": 47,
   "metadata": {},
   "outputs": [],
   "source": [
    "def scroll_to_end(driver):\n",
    "    last_height = driver.execute_script(\"return document.body.scrollHeight\")\n",
    "\n",
    "    while True:\n",
    "        # Scroll down to the bottom.\n",
    "        driver.execute_script(\"window.scrollTo(0, document.body.scrollHeight);\")\n",
    "        sleep(2)\n",
    "        # Calculate new scroll height and compare with last scroll height.\n",
    "        new_height = driver.execute_script(\"return document.body.scrollHeight\")\n",
    "        if new_height == last_height:\n",
    "            break"
   ]
  },
  {
   "cell_type": "code",
   "execution_count": 53,
   "metadata": {},
   "outputs": [],
   "source": [
    "def mongo_insert(results, co):\n",
    "    contact_elements = results.find_all('li', 'org-people-profiles-module__profile-item')\n",
    "    \n",
    "    d = defaultdict(dict)\n",
    "    \n",
    "    for contact in contact_elements:\n",
    "        name = contact.find('div', 'org-people-profile-card__profile-title t-black lt-line-clamp lt-line-clamp--single-line ember-view').text.rstrip()\n",
    "        name = name.replace(' ', '', 2)\n",
    "        link = 'https://www.linkedin.com' + contact.a['href']\n",
    "\n",
    "        if co_test not in d:\n",
    "            d[co_test]\n",
    "\n",
    "        if name not in co_test:\n",
    "            d[co_test][name] = link\n",
    "    \n",
    "    return d"
   ]
  },
  {
   "cell_type": "code",
   "execution_count": 6,
   "metadata": {},
   "outputs": [],
   "source": [
    "df = pd.read_csv('../../data/glassdoor_scrape_1.csv')\n",
    "df.dropna(inplace=True)\n",
    "edu_flag = df['industry'].apply(lambda x: True if 'College' in x else False)\n",
    "cos = pd.Series(df.name[~edu_flag].unique())"
   ]
  },
  {
   "cell_type": "code",
   "execution_count": 7,
   "metadata": {},
   "outputs": [],
   "source": [
    "driver = li_login()"
   ]
  },
  {
   "cell_type": "code",
   "execution_count": 35,
   "metadata": {
    "scrolled": true
   },
   "outputs": [
    {
     "data": {
      "text/plain": [
       "0                     Apple\n",
       "1         Dell Technologies\n",
       "2                       IBM\n",
       "3      National Instruments\n",
       "4                    NVIDIA\n",
       "5                 Atlassian\n",
       "6              Silicon Labs\n",
       "7    SailPoint Technologies\n",
       "8                  Facebook\n",
       "9                    Google\n",
       "dtype: object"
      ]
     },
     "execution_count": 35,
     "metadata": {},
     "output_type": "execute_result"
    }
   ],
   "source": [
    "sample_test = cos[:10]\n",
    "sample_test"
   ]
  },
  {
   "cell_type": "code",
   "execution_count": 42,
   "metadata": {},
   "outputs": [],
   "source": [
    "co_test = sample_test[4]"
   ]
  },
  {
   "cell_type": "code",
   "execution_count": 39,
   "metadata": {},
   "outputs": [],
   "source": [
    "# results variable to testing, otherwise no var\n",
    "results = scrape_contacts(driver, sample_test[4])"
   ]
  },
  {
   "cell_type": "markdown",
   "metadata": {},
   "source": [
    "## selenium scroll done\n",
    "## scrapping results"
   ]
  },
  {
   "cell_type": "code",
   "execution_count": 40,
   "metadata": {},
   "outputs": [],
   "source": [
    "contact_elements = results.find_all('li', 'org-people-profiles-module__profile-item')"
   ]
  },
  {
   "cell_type": "code",
   "execution_count": 41,
   "metadata": {},
   "outputs": [
    {
     "data": {
      "text/plain": [
       "97"
      ]
     },
     "execution_count": 41,
     "metadata": {},
     "output_type": "execute_result"
    }
   ],
   "source": [
    "len(contact_elements)"
   ]
  },
  {
   "cell_type": "code",
   "execution_count": 43,
   "metadata": {},
   "outputs": [],
   "source": [
    "d = defaultdict(dict)"
   ]
  },
  {
   "cell_type": "code",
   "execution_count": 37,
   "metadata": {},
   "outputs": [
    {
     "data": {
      "text/plain": [
       "NoneType"
      ]
     },
     "execution_count": 37,
     "metadata": {},
     "output_type": "execute_result"
    }
   ],
   "source": [
    "# returned None from scrape\n",
    "# TODO: add None handling to dict construction\n",
    "#type(contact_elements[19].find('div', 'org-people-profile-card__profile-title t-black lt-line-clamp lt-line-clamp--single-line ember-view'))"
   ]
  },
  {
   "cell_type": "code",
   "execution_count": 44,
   "metadata": {},
   "outputs": [],
   "source": [
    "for contact in contact_elements:\n",
    "    name = contact.find('div', 'org-people-profile-card__profile-title t-black lt-line-clamp lt-line-clamp--single-line ember-view').text.rstrip()\n",
    "    name = name.replace(' ', '', 2)\n",
    "    link = 'https://www.linkedin.com' + contact.a['href']\n",
    "    \n",
    "    if co_test not in d:\n",
    "        d[co_test]\n",
    "        \n",
    "    if name not in co_test:\n",
    "        d[co_test][name] = link"
   ]
  },
  {
   "cell_type": "code",
   "execution_count": 45,
   "metadata": {},
   "outputs": [
    {
     "data": {
      "text/plain": [
       "defaultdict(dict,\n",
       "            {'NVIDIA': {'Steve Stepan Kehayan': 'https://www.linkedin.com/in/steve-stepan-kehayan-77b3753/',\n",
       "              'Bella Yanovsky': 'https://www.linkedin.com/in/bella-yanovsky-4a17ba3/',\n",
       "              'Thaddeus Dickens': 'https://www.linkedin.com/in/thaddeusdickens/',\n",
       "              'Linda Trias': 'https://www.linkedin.com/in/lindatrias2005/',\n",
       "              'Marilyn Ibanez': 'https://www.linkedin.com/in/marilyn-ibanez-1b7347141/',\n",
       "              'Larry Gonzales': 'https://www.linkedin.com/in/larrygonzales1/',\n",
       "              'Jennifer Jones': 'https://www.linkedin.com/in/jenniferannkim/',\n",
       "              'Meryl Kaiser': 'https://www.linkedin.com/in/merylkaiser/',\n",
       "              'Lisa Calderon': 'https://www.linkedin.com/in/lisacal/',\n",
       "              'Anita Rexinger': 'https://www.linkedin.com/in/rexinger/',\n",
       "              'DAN PATEL': 'https://www.linkedin.com/in/recruiterdan/',\n",
       "              'Julia Tyson': 'https://www.linkedin.com/in/julia-tyson-b935ab/',\n",
       "              'Josie Aguada Soriano': 'https://www.linkedin.com/in/josiesoriano/',\n",
       "              'Jackie Moore': 'https://www.linkedin.com/in/moorejackie/',\n",
       "              'Michael Lazarin': 'https://www.linkedin.com/in/michaellazarin/',\n",
       "              'Joshua Hasten': 'https://www.linkedin.com/in/joshuahasten/',\n",
       "              'Carol Stanford': 'https://www.linkedin.com/in/carolstanford/',\n",
       "              'James Mitchell': 'https://www.linkedin.com/in/james-mitchell-79a550144/',\n",
       "              'Purnima Rathore': 'https://www.linkedin.com/in/purnima-rathore117/',\n",
       "              'Sabina Sury': 'https://www.linkedin.com/in/sabina-sury/',\n",
       "              'Dayna W.': 'https://www.linkedin.com/in/daynalcwu/',\n",
       "              'Billy Palmieri': 'https://www.linkedin.com/in/billy-palmieri-bb6125/',\n",
       "              'Jessica J.': 'https://www.linkedin.com/in/jessica-m-jimenez/',\n",
       "              'Lexy Aldape': 'https://www.linkedin.com/in/lexy-aldape/',\n",
       "              'Christian Bada': 'https://www.linkedin.com/in/jcbada/',\n",
       "              'Mate Horvath': 'https://www.linkedin.com/in/mate-horvath-30b47734/',\n",
       "              'Joanna Davies': 'https://www.linkedin.com/in/joanna-davies-8a498544/',\n",
       "              'Olga Nikolaev': 'https://www.linkedin.com/in/olga-nikolaev/',\n",
       "              'Jackie Frye': 'https://www.linkedin.com/in/jackiebernardo/',\n",
       "              'Greg Homoya': 'https://www.linkedin.com/in/greghomoya/',\n",
       "              'Katerina Polovinko': 'https://www.linkedin.com/in/katerinapolovinko/',\n",
       "              'Jason LaBarbera': 'https://www.linkedin.com/in/jasonlabarbera/',\n",
       "              'Vennessa Hasten': 'https://www.linkedin.com/in/vennessa-hasten-b7614b4/',\n",
       "              'Carla Long': 'https://www.linkedin.com/in/carlalong/',\n",
       "              'Charu Gupta': 'https://www.linkedin.com/in/charuguptaa/',\n",
       "              'Hemachander Santhanam': 'https://www.linkedin.com/in/hemachander06/',\n",
       "              'Ashley Jetson': 'https://www.linkedin.com/in/ashleyciuk/',\n",
       "              'Lüsya Ishkova': 'https://www.linkedin.com/in/l-ishkova-recruit/',\n",
       "              'Samuel Osei Afriyie': 'https://www.linkedin.com/in/samuel-osei-afriyie-b1543257/',\n",
       "              'Deekshma Naik': 'https://www.linkedin.com/in/deekshma-naik-4a35a21/',\n",
       "              'Abhilasha Sharma': 'https://www.linkedin.com/in/abhilasha-sharma-4a980b39/',\n",
       "              'Serena Reiss': 'https://www.linkedin.com/in/serenareiss/',\n",
       "              'Jazylette Windell': 'https://www.linkedin.com/in/windelljaz/',\n",
       "              'Mike Antaya': 'https://www.linkedin.com/in/mikeantaya/',\n",
       "              'Mary Fox': 'https://www.linkedin.com/in/marywfox/',\n",
       "              'Ray Rufino': 'https://www.linkedin.com/in/rayrufino/',\n",
       "              'Kevin Dailey (LION, TopLinked)': 'https://www.linkedin.com/in/kevinjdailey/',\n",
       "              'Nancy Huynh': 'https://www.linkedin.com/in/nthuynh2016/',\n",
       "              'Raelene Conkin': 'https://www.linkedin.com/in/raelene-conkin-0910194/',\n",
       "              'Floyd Clark - SPHR': 'https://www.linkedin.com/in/floydclark/',\n",
       "              'Monique Romanowsky': 'https://www.linkedin.com/in/moniqueromanowsky/',\n",
       "              \"Dale D'Alessio\": 'https://www.linkedin.com/in/dale-d-alessio-1297321/',\n",
       "              'Noelle Tardieu': 'https://www.linkedin.com/in/noelle/',\n",
       "              'Lorena Garza': 'https://www.linkedin.com/in/lorena-garza-a86718/',\n",
       "              'Sandeep Tripathi': 'https://www.linkedin.com/in/sandeep-tripathi-172a863/',\n",
       "              'Wendell Tull': 'https://www.linkedin.com/in/wendelltull/',\n",
       "              'Eric Yeung': 'https://www.linkedin.com/in/ericyeung/',\n",
       "              'Ali Bahrainwala': 'https://www.linkedin.com/in/ali-bahrainwala-8b74383/',\n",
       "              'Michal Lubitch': 'https://www.linkedin.com/in/michal-lubitch-222a2648/',\n",
       "              'Maggie Chow': 'https://www.linkedin.com/in/maggie-chow-63102542/',\n",
       "              'Andy Dowley': 'https://www.linkedin.com/in/andydowley/',\n",
       "              'Adi Amiel': 'https://www.linkedin.com/in/adi-amiel-a4337850/',\n",
       "              'Haider Polan': 'https://www.linkedin.com/in/hpolan1984/',\n",
       "              'Ella Lamdani': 'https://www.linkedin.com/in/ellalamdani/',\n",
       "              'Jennifer Green, SPHR, SHRM-SCP': 'https://www.linkedin.com/in/jenniferkgreen/',\n",
       "              'Iris Dorfman Oren': 'https://www.linkedin.com/in/iris-dorfman-oren-8126b0141/',\n",
       "              'Jimcy Daniel': 'https://www.linkedin.com/in/jimcy-daniel-3aa4b94/',\n",
       "              'Shahid Khan': 'https://www.linkedin.com/in/shahid-khan-842665ab/',\n",
       "              'Ambika Yache': 'https://www.linkedin.com/in/ambika-yache-269a77b5/',\n",
       "              'Brian DeBar': 'https://www.linkedin.com/in/brian-debar-94b281/',\n",
       "              'Link Robertson': 'https://www.linkedin.com/in/link-robertson-435a672/',\n",
       "              'Judy DeSherlia': 'https://www.linkedin.com/in/judydesherlia/',\n",
       "              'Hannah Kuhns': 'https://www.linkedin.com/in/hannah-kuhns-3534615b/',\n",
       "              'Tinkle Chen': 'https://www.linkedin.com/in/tinklechan/',\n",
       "              'Mor Gayer': 'https://www.linkedin.com/in/mor-gayer-323077144/',\n",
       "              'Andrea Malloni': 'https://www.linkedin.com/in/andreamalloni/',\n",
       "              'Hanson Zhang': 'https://www.linkedin.com/in/hanson-zhang-b4925627/',\n",
       "              'René Peters Jr.': 'https://www.linkedin.com/in/rjpjr/',\n",
       "              'Prashant Srivatsa': 'https://www.linkedin.com/in/prashantsrivatsa/',\n",
       "              'Antoine Froger': 'https://www.linkedin.com/in/antoine-froger-567014117/',\n",
       "              'Delphine Ni': 'https://www.linkedin.com/in/delphineni/',\n",
       "              'Jennifer Reis': 'https://www.linkedin.com/in/jennifer-reis-5633ab41/',\n",
       "              'Elena Zinchenko': 'https://www.linkedin.com/in/ezinchenko/',\n",
       "              'Kavvya Rao': 'https://www.linkedin.com/in/kavvya-rao-30a00a13/',\n",
       "              'Marina Terzi': 'https://www.linkedin.com/in/marina-terzi-14a31469/',\n",
       "              'Esther L.': 'https://www.linkedin.com/in/estherleekm/',\n",
       "              'Ann Comerford Ison': 'https://www.linkedin.com/in/ann-comerford-ison-5b91351/',\n",
       "              'Nivedita Rathore': 'https://www.linkedin.com/in/nivedita-rathore-b8232814/',\n",
       "              'Irena Rainer': 'https://www.linkedin.com/in/irena-rainer-70792737/',\n",
       "              'Srija Yetukuri': 'https://www.linkedin.com/in/srija-yetukuri-3ba6a0176/',\n",
       "              'Matthew Lazarowitz': 'https://www.linkedin.com/in/matthew-lazarowitz/',\n",
       "              'Andi Levin': 'https://www.linkedin.com/in/andil/',\n",
       "              'Shriram R.': 'https://www.linkedin.com/in/shriramravi/',\n",
       "              'Lina Ido': 'https://www.linkedin.com/in/lina-ido-52aa49a5/',\n",
       "              'Perla Slutzky': 'https://www.linkedin.com/in/pslutzky/',\n",
       "              'John Mathieson': 'https://www.linkedin.com/in/johnmathieson/',\n",
       "              'Pankaj Kothari': 'https://www.linkedin.com/in/pankaj-kothari-94736265/'}})"
      ]
     },
     "execution_count": 45,
     "metadata": {},
     "output_type": "execute_result"
    }
   ],
   "source": [
    "d"
   ]
  },
  {
   "cell_type": "code",
   "execution_count": null,
   "metadata": {},
   "outputs": [],
   "source": [
    "cos_scrape = cos.apply(lambda x: scrape_contacts(driver, x))"
   ]
  },
  {
   "cell_type": "code",
   "execution_count": null,
   "metadata": {},
   "outputs": [],
   "source": [
    "pickle.dump(cos_scrape, open( \"save.pkl\", \"wb\" ))"
   ]
  },
  {
   "cell_type": "markdown",
   "metadata": {},
   "source": [
    "### Unused below\n",
    "### ~~defining flow for `li_login` function~~"
   ]
  },
  {
   "cell_type": "code",
   "execution_count": 3,
   "metadata": {},
   "outputs": [
    {
     "data": {
      "text/plain": [
       "'TODO: .click() with xpath'"
      ]
     },
     "execution_count": 3,
     "metadata": {},
     "output_type": "execute_result"
    }
   ],
   "source": [
    "email, pw = get_login()\n",
    "# pull pw/login from external file\n",
    "driver = webdriver.Chrome()\n",
    "# inst chrome webdriver\n",
    "driver.get('https://www.linkedin.com/')\n",
    "# open LI page\n",
    "driver.find_element_by_id('session_key').send_keys(email)\n",
    "# pass in email\n",
    "driver.find_element_by_id('session_password').send_keys(pw)\n",
    "# pass in pw\n",
    "'''TODO: .click() with xpath'''\n",
    "\n",
    "# driver.find_element_by_id('homepage-basic_signin-form_submit-button').click()"
   ]
  },
  {
   "cell_type": "code",
   "execution_count": 5,
   "metadata": {},
   "outputs": [],
   "source": [
    "driver.find_element_by_id('session_password').send_keys(Keys.RETURN)\n",
    "# press enter for to log in"
   ]
  },
  {
   "cell_type": "code",
   "execution_count": 4,
   "metadata": {},
   "outputs": [],
   "source": [
    "co_test = 'apple'"
   ]
  },
  {
   "cell_type": "code",
   "execution_count": 5,
   "metadata": {},
   "outputs": [],
   "source": [
    "driver.find_element_by_xpath('//*[@id=\"ember16\"]/input').send_keys(co_test)"
   ]
  },
  {
   "cell_type": "code",
   "execution_count": 6,
   "metadata": {},
   "outputs": [],
   "source": [
    "driver.find_element_by_xpath('//*[@id=\"ember16\"]/input').send_keys(Keys.RETURN)\n",
    "# enter search for co. name"
   ]
  },
  {
   "cell_type": "code",
   "execution_count": 7,
   "metadata": {},
   "outputs": [],
   "source": [
    "co_x_path = '/html/body/div[7]/div[3]/div/div[2]/div/div[2]/div/div/div/ul/li[1]/div/div/div[2]/a/h3'"
   ]
  },
  {
   "cell_type": "code",
   "execution_count": 8,
   "metadata": {},
   "outputs": [],
   "source": [
    "driver.find_element_by_xpath(co_x_path).click()\n",
    "# click co. link"
   ]
  },
  {
   "cell_type": "code",
   "execution_count": 9,
   "metadata": {},
   "outputs": [],
   "source": [
    "ppl_x_path = '/html/body/div[7]/div[3]/div/div[3]/div[2]/div[1]/div/div/nav/ul/li[5]/a'"
   ]
  },
  {
   "cell_type": "code",
   "execution_count": 10,
   "metadata": {},
   "outputs": [],
   "source": [
    "driver.find_element_by_xpath(ppl_x_path).click()\n",
    "# click People"
   ]
  },
  {
   "cell_type": "markdown",
   "metadata": {},
   "source": [
    "## ~~edit button testing~~\n",
    "### moving to general search, b/c more flexibility in search"
   ]
  },
  {
   "cell_type": "code",
   "execution_count": 16,
   "metadata": {},
   "outputs": [],
   "source": [
    "gen_search_xpath = '/html/body/div[7]/div[3]/div/div[3]/div[2]/div[2]/div[1]/div[2]/div/div/div/input'\n",
    "gal_alum = 'galvanize'\n",
    "tech_rec = 'technical recruiter'"
   ]
  },
  {
   "cell_type": "code",
   "execution_count": 17,
   "metadata": {},
   "outputs": [],
   "source": [
    "driver.find_element_by_xpath(gen_search_xpath).send_keys(gal_alum)\n",
    "driver.find_element_by_xpath(gen_search_xpath).send_keys(Keys.RETURN)"
   ]
  },
  {
   "cell_type": "code",
   "execution_count": 36,
   "metadata": {},
   "outputs": [],
   "source": [
    "r = driver.page_source"
   ]
  },
  {
   "cell_type": "code",
   "execution_count": 37,
   "metadata": {},
   "outputs": [],
   "source": [
    "soup = BeautifulSoup(r, 'html.parser')"
   ]
  },
  {
   "cell_type": "code",
   "execution_count": 38,
   "metadata": {},
   "outputs": [],
   "source": [
    "results = soup.find('ul', 'org-people-profiles-module__profile-list')"
   ]
  },
  {
   "cell_type": "code",
   "execution_count": 39,
   "metadata": {},
   "outputs": [
    {
     "data": {
      "text/plain": [
       "113"
      ]
     },
     "execution_count": 39,
     "metadata": {},
     "output_type": "execute_result"
    }
   ],
   "source": [
    "len(results)"
   ]
  },
  {
   "cell_type": "code",
   "execution_count": 40,
   "metadata": {},
   "outputs": [],
   "source": [
    "contact_elements = results.find_all('li', 'org-people-profiles-module__profile-item')"
   ]
  },
  {
   "cell_type": "markdown",
   "metadata": {},
   "source": [
    "### iterate through indecies of `contact_elements` to pull k-v pairs"
   ]
  },
  {
   "cell_type": "code",
   "execution_count": 22,
   "metadata": {},
   "outputs": [
    {
     "data": {
      "text/plain": [
       "'Antwan Little'"
      ]
     },
     "execution_count": 22,
     "metadata": {},
     "output_type": "execute_result"
    }
   ],
   "source": [
    "#k example\n",
    "name = contact_elements[-1].find('div', 'org-people-profile-card__profile-title t-black lt-line-clamp lt-line-clamp--single-line ember-view').text.rstrip()\n",
    "name = name.replace(' ', '', 2)\n",
    "name"
   ]
  },
  {
   "cell_type": "code",
   "execution_count": 23,
   "metadata": {},
   "outputs": [
    {
     "data": {
      "text/plain": [
       "'https://www.linkedin.com/in/antwanlittle/'"
      ]
     },
     "execution_count": 23,
     "metadata": {},
     "output_type": "execute_result"
    }
   ],
   "source": [
    "#v example\n",
    "#link to contact\n",
    "link = 'https://www.linkedin.com' + contact_elements[-1].a['href']\n",
    "link"
   ]
  },
  {
   "cell_type": "code",
   "execution_count": 28,
   "metadata": {},
   "outputs": [],
   "source": [
    "co_test = 'apple'"
   ]
  },
  {
   "cell_type": "code",
   "execution_count": 41,
   "metadata": {},
   "outputs": [
    {
     "ename": "AttributeError",
     "evalue": "'NoneType' object has no attribute 'text'",
     "output_type": "error",
     "traceback": [
      "\u001b[0;31m---------------------------------------------------------------------------\u001b[0m",
      "\u001b[0;31mAttributeError\u001b[0m                            Traceback (most recent call last)",
      "\u001b[0;32m<ipython-input-41-f7cabc7ad631>\u001b[0m in \u001b[0;36m<module>\u001b[0;34m\u001b[0m\n\u001b[1;32m      3\u001b[0m \u001b[0;34m\u001b[0m\u001b[0m\n\u001b[1;32m      4\u001b[0m \u001b[0;32mfor\u001b[0m \u001b[0mcontact\u001b[0m \u001b[0;32min\u001b[0m \u001b[0mcontact_elements\u001b[0m\u001b[0;34m:\u001b[0m\u001b[0;34m\u001b[0m\u001b[0;34m\u001b[0m\u001b[0m\n\u001b[0;32m----> 5\u001b[0;31m     \u001b[0mname\u001b[0m \u001b[0;34m=\u001b[0m \u001b[0mcontact\u001b[0m\u001b[0;34m.\u001b[0m\u001b[0mfind\u001b[0m\u001b[0;34m(\u001b[0m\u001b[0;34m'div'\u001b[0m\u001b[0;34m,\u001b[0m \u001b[0;34m'org-people-profile-card__profile-title t-black lt-line-clamp lt-line-clamp--single-line ember-view'\u001b[0m\u001b[0;34m)\u001b[0m\u001b[0;34m.\u001b[0m\u001b[0mtext\u001b[0m\u001b[0;34m.\u001b[0m\u001b[0mrstrip\u001b[0m\u001b[0;34m(\u001b[0m\u001b[0;34m)\u001b[0m\u001b[0;34m\u001b[0m\u001b[0;34m\u001b[0m\u001b[0m\n\u001b[0m\u001b[1;32m      6\u001b[0m     \u001b[0mname\u001b[0m \u001b[0;34m=\u001b[0m \u001b[0mname\u001b[0m\u001b[0;34m.\u001b[0m\u001b[0mreplace\u001b[0m\u001b[0;34m(\u001b[0m\u001b[0;34m' '\u001b[0m\u001b[0;34m,\u001b[0m \u001b[0;34m''\u001b[0m\u001b[0;34m,\u001b[0m \u001b[0;36m2\u001b[0m\u001b[0;34m)\u001b[0m\u001b[0;34m\u001b[0m\u001b[0;34m\u001b[0m\u001b[0m\n\u001b[1;32m      7\u001b[0m     \u001b[0mlink\u001b[0m \u001b[0;34m=\u001b[0m \u001b[0;34m'https://www.linkedin.com'\u001b[0m \u001b[0;34m+\u001b[0m \u001b[0mcontact\u001b[0m\u001b[0;34m.\u001b[0m\u001b[0ma\u001b[0m\u001b[0;34m[\u001b[0m\u001b[0;34m'href'\u001b[0m\u001b[0;34m]\u001b[0m\u001b[0;34m\u001b[0m\u001b[0;34m\u001b[0m\u001b[0m\n",
      "\u001b[0;31mAttributeError\u001b[0m: 'NoneType' object has no attribute 'text'"
     ]
    }
   ],
   "source": [
    "# for loop and dictionary pop init\n",
    "d = defaultdict(dict)\n",
    "\n",
    "for contact in contact_elements:\n",
    "    name = contact.find('div', 'org-people-profile-card__profile-title t-black lt-line-clamp lt-line-clamp--single-line ember-view').text.rstrip()\n",
    "    name = name.replace(' ', '', 2)\n",
    "    link = 'https://www.linkedin.com' + contact.a['href']\n",
    "    \n",
    "    if co_test not in d:\n",
    "        d[co_test]\n",
    "        \n",
    "    if name not in co_test:\n",
    "        d[co_test][name] = link\n",
    "        "
   ]
  },
  {
   "cell_type": "code",
   "execution_count": 119,
   "metadata": {},
   "outputs": [
    {
     "data": {
      "text/plain": [
       "defaultdict(dict,\n",
       "            {'apple': {'Erin Gong': 'https://www.linkedin.com/in/eringong/',\n",
       "              'Kendal Holcombe (Chilcott)': 'https://www.linkedin.com/in/kendal-holcombe/',\n",
       "              'Ryan Hunter': 'https://www.linkedin.com/in/ryan-hunter-1313a53b/',\n",
       "              'Bob Mickus': 'https://www.linkedin.com/in/bobmickus/',\n",
       "              'Isaac Lessard': 'https://www.linkedin.com/in/isaaclessard/',\n",
       "              'Zhifan (Jeff) Sang': 'https://www.linkedin.com/in/zfsang/',\n",
       "              'Sierra Murphy': 'https://www.linkedin.com/in/sierra-murphy-81b75ba2/',\n",
       "              'Hao Ding': 'https://www.linkedin.com/in/haoding1/',\n",
       "              'Udaiveer Singh': 'https://www.linkedin.com/in/udaiveers/',\n",
       "              'Kevin Becerra': 'https://www.linkedin.com/in/kevinbece55/',\n",
       "              'Charlie (Changsong) Ding': 'https://www.linkedin.com/in/changsongding/',\n",
       "              'Bryce Schmidtchen': 'https://www.linkedin.com/in/bryceschmidtchen/',\n",
       "              'Omar Sobh': 'https://www.linkedin.com/in/omarsobh/',\n",
       "              'Wolfgang Morton': 'https://www.linkedin.com/in/wolfgangmorton/',\n",
       "              'Carly Marasco': 'https://www.linkedin.com/in/carlymarasco/',\n",
       "              'Eddie Burgess': 'https://www.linkedin.com/in/eddieburgess/',\n",
       "              'Dawn Braggs': 'https://www.linkedin.com/in/dawn-braggs-abb64291/',\n",
       "              'Hamlet Tamazian': 'https://www.linkedin.com/in/hamlettamazian/',\n",
       "              'Eddy Caldas': 'https://www.linkedin.com/in/eddy-caldas/',\n",
       "              'JJ Vélez': 'https://www.linkedin.com/in/velez-jose/',\n",
       "              'Kimberly Hancock-Mudge': 'https://www.linkedin.com/in/kbhmudge/',\n",
       "              'Antwan Little': 'https://www.linkedin.com/in/antwanlittle/',\n",
       "              'Carrie Kirkpatrick': 'https://www.linkedin.com/in/carrie-kirkpatrick-40831912/',\n",
       "              'Kenneth Tarr': 'https://www.linkedin.com/in/kennethtarr/',\n",
       "              'Zia Rauwolf': 'https://www.linkedin.com/in/zia-rauwolf/'}})"
      ]
     },
     "execution_count": 119,
     "metadata": {},
     "output_type": "execute_result"
    }
   ],
   "source": [
    "d"
   ]
  },
  {
   "cell_type": "code",
   "execution_count": null,
   "metadata": {},
   "outputs": [],
   "source": []
  },
  {
   "cell_type": "markdown",
   "metadata": {},
   "source": [
    "Ok, interacting with LI just fine. ~~Need to refine 'add' edu \"Galvanize\" and~~ Move to general search for flexbility. Able to search co. for my desired fields... Need to scrape portion of return employees. "
   ]
  },
  {
   "cell_type": "markdown",
   "metadata": {},
   "source": [
    "--> ~~beautifulsoup to scrape return cells for (k) employee name (v) url to profile~~"
   ]
  },
  {
   "cell_type": "markdown",
   "metadata": {},
   "source": [
    "--> script Just portion. Just need DF out. for list of co's to search"
   ]
  },
  {
   "cell_type": "markdown",
   "metadata": {},
   "source": [
    "--> MongoDB for k-v's"
   ]
  },
  {
   "cell_type": "markdown",
   "metadata": {},
   "source": [
    "--> Dataframes\n",
    "\n",
    "*perhaps load into psql for py wrapper struc. RDBMS experience*"
   ]
  }
 ],
 "metadata": {
  "kernelspec": {
   "display_name": "Python 3",
   "language": "python",
   "name": "python3"
  },
  "language_info": {
   "codemirror_mode": {
    "name": "ipython",
    "version": 3
   },
   "file_extension": ".py",
   "mimetype": "text/x-python",
   "name": "python",
   "nbconvert_exporter": "python",
   "pygments_lexer": "ipython3",
   "version": "3.9.0"
  }
 },
 "nbformat": 4,
 "nbformat_minor": 4
}
