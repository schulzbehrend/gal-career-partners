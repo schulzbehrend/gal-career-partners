{
 "cells": [
  {
   "cell_type": "markdown",
   "metadata": {},
   "source": [
    "New notebook to test the difference between the tech rec mongo db and gal alum.\n",
    "Currently, code working for gal alum but not tech recruiters.\n",
    "1. Copy progress from mongodb_test\n",
    "2. Replicate the gal alum process from\n",
    "* Connection to mongo db\n",
    "* Pull data into df\n",
    "* Manipulate to correct format\n",
    "* Create csv of all companies\n",
    "* Create csvs of individual companies\n",
    "\n",
    "3. New notebook section for tech recruiters"
   ]
  },
  {
   "cell_type": "code",
   "execution_count": 1,
   "metadata": {
    "ExecuteTime": {
     "end_time": "2020-12-22T18:54:15.359318Z",
     "start_time": "2020-12-22T18:54:14.467200Z"
    }
   },
   "outputs": [],
   "source": [
    "import pandas as pd\n",
    "import mongo\n",
    "import ast\n",
    "import os"
   ]
  },
  {
   "cell_type": "markdown",
   "metadata": {},
   "source": [
    "# Galvanize Alumni CSV build"
   ]
  },
  {
   "cell_type": "code",
   "execution_count": 3,
   "metadata": {
    "ExecuteTime": {
     "end_time": "2020-12-22T18:54:42.022136Z",
     "start_time": "2020-12-22T18:54:41.864330Z"
    }
   },
   "outputs": [],
   "source": [
    "mongo.connect_mongo()\n",
    "mongo.connect_coll('gal_part_proj', 'gal_alum')\n",
    "cursor = mongo.coll.find({}, {'_id':0})\n",
    "df = pd.DataFrame(cursor)\n",
    "df = df.T"
   ]
  },
  {
   "cell_type": "code",
   "execution_count": 4,
   "metadata": {
    "ExecuteTime": {
     "end_time": "2020-12-22T18:54:44.440081Z",
     "start_time": "2020-12-22T18:54:44.212306Z"
    }
   },
   "outputs": [
    {
     "data": {
      "text/html": [
       "<div>\n",
       "<style scoped>\n",
       "    .dataframe tbody tr th:only-of-type {\n",
       "        vertical-align: middle;\n",
       "    }\n",
       "\n",
       "    .dataframe tbody tr th {\n",
       "        vertical-align: top;\n",
       "    }\n",
       "\n",
       "    .dataframe thead th {\n",
       "        text-align: right;\n",
       "    }\n",
       "</style>\n",
       "<table border=\"1\" class=\"dataframe\">\n",
       "  <thead>\n",
       "    <tr style=\"text-align: right;\">\n",
       "      <th></th>\n",
       "      <th>Scrape Results</th>\n",
       "    </tr>\n",
       "  </thead>\n",
       "  <tbody>\n",
       "    <tr>\n",
       "      <th>University of Texas at Austin</th>\n",
       "      <td>People Link 404</td>\n",
       "    </tr>\n",
       "    <tr>\n",
       "      <th>Apple</th>\n",
       "      <td>{'Erin Gong': 'https://www.linkedin.com/in/eri...</td>\n",
       "    </tr>\n",
       "    <tr>\n",
       "      <th>Dell Technologies</th>\n",
       "      <td>{'Daniel Donovan': 'https://www.linkedin.com/i...</td>\n",
       "    </tr>\n",
       "    <tr>\n",
       "      <th>IBM</th>\n",
       "      <td>{'James Helfrich': 'https://www.linkedin.com/i...</td>\n",
       "    </tr>\n",
       "    <tr>\n",
       "      <th>National Instruments</th>\n",
       "      <td>No results</td>\n",
       "    </tr>\n",
       "  </tbody>\n",
       "</table>\n",
       "</div>"
      ],
      "text/plain": [
       "                                                                  Scrape Results\n",
       "University of Texas at Austin                                    People Link 404\n",
       "Apple                          {'Erin Gong': 'https://www.linkedin.com/in/eri...\n",
       "Dell Technologies              {'Daniel Donovan': 'https://www.linkedin.com/i...\n",
       "IBM                            {'James Helfrich': 'https://www.linkedin.com/i...\n",
       "National Instruments                                                  No results"
      ]
     },
     "execution_count": 4,
     "metadata": {},
     "output_type": "execute_result"
    }
   ],
   "source": [
    "index = list()\n",
    "results = list()\n",
    "\n",
    "for idx, row in df.iterrows():\n",
    "    index.append(idx)\n",
    "    results.append(row[row.notnull()].values[0])\n",
    "\n",
    "clean_df = pd.DataFrame(results, index=index)\n",
    "clean_df.rename({0: 'Scrape Results'}, axis=1, inplace=True)\n",
    "clean_df.head()"
   ]
  },
  {
   "cell_type": "markdown",
   "metadata": {},
   "source": [
    "# Austin Technical Recruiters CSV build\n",
    "## Load data from mongo"
   ]
  },
  {
   "cell_type": "code",
   "execution_count": 5,
   "metadata": {
    "ExecuteTime": {
     "end_time": "2020-12-22T18:54:47.004931Z",
     "start_time": "2020-12-22T18:54:46.911776Z"
    }
   },
   "outputs": [],
   "source": [
    "mongo.connect_mongo()\n",
    "mongo.connect_coll('gal_part_proj', 'ATX_tech_rec')\n",
    "cursor = mongo.coll.find({}, {'_id':0})\n",
    "\n",
    "df_tr = pd.DataFrame(cursor)\n",
    "df_tr = df_tr.T"
   ]
  },
  {
   "cell_type": "markdown",
   "metadata": {},
   "source": [
    "## Austin Tech Recruiters pipeline error corrections\n",
    "My dataframe pipeline is failing for the tech recruiters mongo pull. Successively passing the Alumni pull with the same process. Steps to troubleshoot proceed."
   ]
  },
  {
   "cell_type": "markdown",
   "metadata": {},
   "source": [
    "### Issue: Pandas takes the assumption of the data series for the DataFrame based upon the __first item__ in the list/array being built. The first item in the list/array was a string. \n",
    "\n",
    "### Fix: Force-inserting an item into the list remedied this. Line 9 & 10 below."
   ]
  },
  {
   "cell_type": "code",
   "execution_count": 6,
   "metadata": {
    "ExecuteTime": {
     "end_time": "2020-12-22T18:54:49.085895Z",
     "start_time": "2020-12-22T18:54:48.968629Z"
    },
    "scrolled": true
   },
   "outputs": [
    {
     "data": {
      "text/html": [
       "<div>\n",
       "<style scoped>\n",
       "    .dataframe tbody tr th:only-of-type {\n",
       "        vertical-align: middle;\n",
       "    }\n",
       "\n",
       "    .dataframe tbody tr th {\n",
       "        vertical-align: top;\n",
       "    }\n",
       "\n",
       "    .dataframe thead th {\n",
       "        text-align: right;\n",
       "    }\n",
       "</style>\n",
       "<table border=\"1\" class=\"dataframe\">\n",
       "  <thead>\n",
       "    <tr style=\"text-align: right;\">\n",
       "      <th></th>\n",
       "      <th>Scrape Results</th>\n",
       "    </tr>\n",
       "  </thead>\n",
       "  <tbody>\n",
       "    <tr>\n",
       "      <th>9Gauge Partners</th>\n",
       "      <td>{'Carrie Guillory': 'https://www.linkedin.com/...</td>\n",
       "    </tr>\n",
       "    <tr>\n",
       "      <th>Abbott</th>\n",
       "      <td>{'Brandy Williams Broden': 'https://www.linked...</td>\n",
       "    </tr>\n",
       "    <tr>\n",
       "      <th>Aceable</th>\n",
       "      <td>{'Andrew Bolisay (he, him, his)': 'https://www...</td>\n",
       "    </tr>\n",
       "    <tr>\n",
       "      <th>AdbaKx</th>\n",
       "      <td>Company Page 404</td>\n",
       "    </tr>\n",
       "    <tr>\n",
       "      <th>Addison Group</th>\n",
       "      <td>{'Hattie Cox': 'https://www.linkedin.com/in/ha...</td>\n",
       "    </tr>\n",
       "  </tbody>\n",
       "</table>\n",
       "</div>"
      ],
      "text/plain": [
       "                                                    Scrape Results\n",
       "9Gauge Partners  {'Carrie Guillory': 'https://www.linkedin.com/...\n",
       "Abbott           {'Brandy Williams Broden': 'https://www.linked...\n",
       "Aceable          {'Andrew Bolisay (he, him, his)': 'https://www...\n",
       "AdbaKx                                            Company Page 404\n",
       "Addison Group    {'Hattie Cox': 'https://www.linkedin.com/in/ha..."
      ]
     },
     "execution_count": 6,
     "metadata": {},
     "output_type": "execute_result"
    }
   ],
   "source": [
    "# pipeline for ATX Tech Recruiters\n",
    "index_tr = list()\n",
    "results_tr = list()\n",
    "\n",
    "for idx, row in df_tr.iterrows():\n",
    "    index_tr.append(idx)\n",
    "    results_tr.append(row[row.notnull()].values[0])\n",
    "\n",
    "results_tr.insert(0, 'ignore')\n",
    "index_tr.insert(0, 'ignore')    \n",
    "clean_df_tr = pd.DataFrame(results_tr, index=index_tr)\n",
    "clean_df_tr.drop('ignore', axis=0, inplace=True)\n",
    "clean_df_tr.rename({0: 'Scrape Results'}, axis=1, inplace=True)\n",
    "clean_df_tr.head()"
   ]
  },
  {
   "cell_type": "markdown",
   "metadata": {},
   "source": [
    "# Convert DataFrame to CSVs for each company (observations)"
   ]
  },
  {
   "cell_type": "markdown",
   "metadata": {},
   "source": [
    "## Create local directory for csv\n",
    "### Variables should be switched between `tech_rec` and `alumni` for saving between the two types of variables."
   ]
  },
  {
   "cell_type": "code",
   "execution_count": 34,
   "metadata": {
    "ExecuteTime": {
     "end_time": "2020-12-10T02:22:53.979199Z",
     "start_time": "2020-12-10T02:22:53.975701Z"
    }
   },
   "outputs": [],
   "source": [
    "''' change below assignment for saving different CSVs'''\n",
    "contacts = clean_df_tr['Scrape Results'] #clean_df\n",
    "employee_type = 'tech_rec' #alumni"
   ]
  },
  {
   "cell_type": "code",
   "execution_count": 43,
   "metadata": {
    "ExecuteTime": {
     "end_time": "2020-12-10T02:26:59.452400Z",
     "start_time": "2020-12-10T02:26:59.444007Z"
    }
   },
   "outputs": [],
   "source": [
    "'''Make Directories'''\n",
    "# os.mkdir('../data/alumni')\n",
    "os.mkdir('../data/tech_rec')"
   ]
  },
  {
   "cell_type": "code",
   "execution_count": 45,
   "metadata": {
    "ExecuteTime": {
     "end_time": "2020-12-10T02:29:29.952148Z",
     "start_time": "2020-12-10T02:29:29.646588Z"
    }
   },
   "outputs": [],
   "source": [
    "# dict_flag = contacts.apply(lambda x: isinstance(x, dict))\n",
    "# contacts['Scrape Results'] = contacts['Scrape Results'].apply(lambda x: ast.literal_eval(x))\n",
    "contacts = contacts[dict_flag] #clean_df\n",
    "employee_type = 'tech_rec' #alumni\n",
    "\n",
    "for i, c in zip(contacts.index, contacts):\n",
    "    co_contacts = pd.DataFrame(c.values(), index=c.keys())\n",
    "    co_contacts.to_csv('../data/{0}/{1}.csv'.format(employee_type, i))"
   ]
  },
  {
   "cell_type": "markdown",
   "metadata": {},
   "source": [
    "# gDrive interaction testing"
   ]
  },
  {
   "cell_type": "code",
   "execution_count": 111,
   "metadata": {},
   "outputs": [],
   "source": [
    "import gspread"
   ]
  },
  {
   "cell_type": "code",
   "execution_count": null,
   "metadata": {},
   "outputs": [],
   "source": []
  },
  {
   "source": [
    "# Scrape tech recruiters work locations for database\n",
    "1. Concat CSVs\n",
    "2. c-p to a new script and test out small samples from list of tech recs\n",
    " - How many recruiters do I have? 5661\n",
    "    - script takes at least 6s to complete each search ~ 9 hours to complete\n",
    "3. script flow,\n",
    " - open LI\n",
    " - togo tech rec link"
   ],
   "cell_type": "markdown",
   "metadata": {}
  },
  {
   "cell_type": "code",
   "execution_count": 2,
   "metadata": {},
   "outputs": [],
   "source": [
    "import pandas as pd"
   ]
  },
  {
   "cell_type": "code",
   "execution_count": 3,
   "metadata": {},
   "outputs": [],
   "source": [
    "import glob"
   ]
  },
  {
   "cell_type": "code",
   "execution_count": 4,
   "metadata": {},
   "outputs": [],
   "source": [
    "path = '../data/tech_rec' # use your path\n",
    "all_files = glob.glob(path + \"/*.csv\")\n",
    "\n",
    "li = []"
   ]
  },
  {
   "cell_type": "code",
   "execution_count": 5,
   "metadata": {},
   "outputs": [
    {
     "output_type": "execute_result",
     "data": {
      "text/plain": [
       "121"
      ]
     },
     "metadata": {},
     "execution_count": 5
    }
   ],
   "source": [
    "len(all_files)"
   ]
  },
  {
   "cell_type": "code",
   "execution_count": 6,
   "metadata": {},
   "outputs": [],
   "source": [
    "for filename in all_files:\n",
    "    df = pd.read_csv(filename, index_col=None, header=0, names=['recruiter', 'url'])\n",
    "    co_name = filename\n",
    "    co_name = co_name.split('/')[-1]\n",
    "    co_name = co_name[:-4]\n",
    "    df['co_name'] = co_name\n",
    "    li.append(df)\n",
    "\n",
    "frame = pd.concat(li, axis=0, ignore_index=True)"
   ]
  },
  {
   "cell_type": "code",
   "execution_count": 7,
   "metadata": {},
   "outputs": [
    {
     "output_type": "execute_result",
     "data": {
      "text/plain": [
       "                  recruiter  \\\n",
       "0      Chelsea Johnson, CSP   \n",
       "1       Christina T Jackson   \n",
       "2            Heather Patton   \n",
       "3           Kristin Doherty   \n",
       "4               Kacy Fowler   \n",
       "...                     ...   \n",
       "28303      Jennifer Cosenza   \n",
       "28304       Chrystina Wyatt   \n",
       "28305                 Sam B   \n",
       "28306      Ronald Harris Jr   \n",
       "28307        Chay Samudrala   \n",
       "\n",
       "                                                     url   co_name  \n",
       "0      https://www.linkedin.com/in/chelsea-johnson-cs...  Greystar  \n",
       "1         https://www.linkedin.com/in/christinatjackson/  Greystar  \n",
       "2             https://www.linkedin.com/in/heatherhaynes/  Greystar  \n",
       "3         https://www.linkedin.com/in/recruiter-kristin/  Greystar  \n",
       "4               https://www.linkedin.com/in/kacyjenkins/  Greystar  \n",
       "...                                                  ...       ...  \n",
       "28303      https://www.linkedin.com/in/jennifer-cosenza/       REX  \n",
       "28304  https://www.linkedin.com/in/chrystina-wyatt-48...       REX  \n",
       "28305       https://www.linkedin.com/in/sam-b-b57931123/       REX  \n",
       "28306  https://www.linkedin.com/in/ronald-harris-jr-3...       REX  \n",
       "28307  https://www.linkedin.com/in/chay-samudrala-903...       REX  \n",
       "\n",
       "[28308 rows x 3 columns]"
      ],
      "text/html": "<div>\n<style scoped>\n    .dataframe tbody tr th:only-of-type {\n        vertical-align: middle;\n    }\n\n    .dataframe tbody tr th {\n        vertical-align: top;\n    }\n\n    .dataframe thead th {\n        text-align: right;\n    }\n</style>\n<table border=\"1\" class=\"dataframe\">\n  <thead>\n    <tr style=\"text-align: right;\">\n      <th></th>\n      <th>recruiter</th>\n      <th>url</th>\n      <th>co_name</th>\n    </tr>\n  </thead>\n  <tbody>\n    <tr>\n      <th>0</th>\n      <td>Chelsea Johnson, CSP</td>\n      <td>https://www.linkedin.com/in/chelsea-johnson-cs...</td>\n      <td>Greystar</td>\n    </tr>\n    <tr>\n      <th>1</th>\n      <td>Christina T Jackson</td>\n      <td>https://www.linkedin.com/in/christinatjackson/</td>\n      <td>Greystar</td>\n    </tr>\n    <tr>\n      <th>2</th>\n      <td>Heather Patton</td>\n      <td>https://www.linkedin.com/in/heatherhaynes/</td>\n      <td>Greystar</td>\n    </tr>\n    <tr>\n      <th>3</th>\n      <td>Kristin Doherty</td>\n      <td>https://www.linkedin.com/in/recruiter-kristin/</td>\n      <td>Greystar</td>\n    </tr>\n    <tr>\n      <th>4</th>\n      <td>Kacy Fowler</td>\n      <td>https://www.linkedin.com/in/kacyjenkins/</td>\n      <td>Greystar</td>\n    </tr>\n    <tr>\n      <th>...</th>\n      <td>...</td>\n      <td>...</td>\n      <td>...</td>\n    </tr>\n    <tr>\n      <th>28303</th>\n      <td>Jennifer Cosenza</td>\n      <td>https://www.linkedin.com/in/jennifer-cosenza/</td>\n      <td>REX</td>\n    </tr>\n    <tr>\n      <th>28304</th>\n      <td>Chrystina Wyatt</td>\n      <td>https://www.linkedin.com/in/chrystina-wyatt-48...</td>\n      <td>REX</td>\n    </tr>\n    <tr>\n      <th>28305</th>\n      <td>Sam B</td>\n      <td>https://www.linkedin.com/in/sam-b-b57931123/</td>\n      <td>REX</td>\n    </tr>\n    <tr>\n      <th>28306</th>\n      <td>Ronald Harris Jr</td>\n      <td>https://www.linkedin.com/in/ronald-harris-jr-3...</td>\n      <td>REX</td>\n    </tr>\n    <tr>\n      <th>28307</th>\n      <td>Chay Samudrala</td>\n      <td>https://www.linkedin.com/in/chay-samudrala-903...</td>\n      <td>REX</td>\n    </tr>\n  </tbody>\n</table>\n<p>28308 rows × 3 columns</p>\n</div>"
     },
     "metadata": {},
     "execution_count": 7
    }
   ],
   "source": [
    "frame"
   ]
  },
  {
   "cell_type": "code",
   "execution_count": 8,
   "metadata": {},
   "outputs": [
    {
     "output_type": "execute_result",
     "data": {
      "text/plain": [
       "              recruiter                                                url  \\\n",
       "28300       Josh Decker           https://www.linkedin.com/in/joshadecker/   \n",
       "28301    Frankie Brochu  https://www.linkedin.com/in/frankie-brochu-b93...   \n",
       "28302      Jeremy Chapa           https://www.linkedin.com/in/jeremychapa/   \n",
       "28303  Jennifer Cosenza      https://www.linkedin.com/in/jennifer-cosenza/   \n",
       "28304   Chrystina Wyatt  https://www.linkedin.com/in/chrystina-wyatt-48...   \n",
       "28305             Sam B       https://www.linkedin.com/in/sam-b-b57931123/   \n",
       "28306  Ronald Harris Jr  https://www.linkedin.com/in/ronald-harris-jr-3...   \n",
       "28307    Chay Samudrala  https://www.linkedin.com/in/chay-samudrala-903...   \n",
       "\n",
       "      co_name  \n",
       "28300     REX  \n",
       "28301     REX  \n",
       "28302     REX  \n",
       "28303     REX  \n",
       "28304     REX  \n",
       "28305     REX  \n",
       "28306     REX  \n",
       "28307     REX  "
      ],
      "text/html": "<div>\n<style scoped>\n    .dataframe tbody tr th:only-of-type {\n        vertical-align: middle;\n    }\n\n    .dataframe tbody tr th {\n        vertical-align: top;\n    }\n\n    .dataframe thead th {\n        text-align: right;\n    }\n</style>\n<table border=\"1\" class=\"dataframe\">\n  <thead>\n    <tr style=\"text-align: right;\">\n      <th></th>\n      <th>recruiter</th>\n      <th>url</th>\n      <th>co_name</th>\n    </tr>\n  </thead>\n  <tbody>\n    <tr>\n      <th>28300</th>\n      <td>Josh Decker</td>\n      <td>https://www.linkedin.com/in/joshadecker/</td>\n      <td>REX</td>\n    </tr>\n    <tr>\n      <th>28301</th>\n      <td>Frankie Brochu</td>\n      <td>https://www.linkedin.com/in/frankie-brochu-b93...</td>\n      <td>REX</td>\n    </tr>\n    <tr>\n      <th>28302</th>\n      <td>Jeremy Chapa</td>\n      <td>https://www.linkedin.com/in/jeremychapa/</td>\n      <td>REX</td>\n    </tr>\n    <tr>\n      <th>28303</th>\n      <td>Jennifer Cosenza</td>\n      <td>https://www.linkedin.com/in/jennifer-cosenza/</td>\n      <td>REX</td>\n    </tr>\n    <tr>\n      <th>28304</th>\n      <td>Chrystina Wyatt</td>\n      <td>https://www.linkedin.com/in/chrystina-wyatt-48...</td>\n      <td>REX</td>\n    </tr>\n    <tr>\n      <th>28305</th>\n      <td>Sam B</td>\n      <td>https://www.linkedin.com/in/sam-b-b57931123/</td>\n      <td>REX</td>\n    </tr>\n    <tr>\n      <th>28306</th>\n      <td>Ronald Harris Jr</td>\n      <td>https://www.linkedin.com/in/ronald-harris-jr-3...</td>\n      <td>REX</td>\n    </tr>\n    <tr>\n      <th>28307</th>\n      <td>Chay Samudrala</td>\n      <td>https://www.linkedin.com/in/chay-samudrala-903...</td>\n      <td>REX</td>\n    </tr>\n  </tbody>\n</table>\n</div>"
     },
     "metadata": {},
     "execution_count": 8
    }
   ],
   "source": [
    "frame[frame['co_name']=='REX']"
   ]
  },
  {
   "cell_type": "code",
   "execution_count": 9,
   "metadata": {},
   "outputs": [
    {
     "output_type": "execute_result",
     "data": {
      "text/plain": [
       "              recruiter                                                url  \\\n",
       "0  Chelsea Johnson, CSP  https://www.linkedin.com/in/chelsea-johnson-cs...   \n",
       "1   Christina T Jackson     https://www.linkedin.com/in/christinatjackson/   \n",
       "2        Heather Patton         https://www.linkedin.com/in/heatherhaynes/   \n",
       "3       Kristin Doherty     https://www.linkedin.com/in/recruiter-kristin/   \n",
       "4           Kacy Fowler           https://www.linkedin.com/in/kacyjenkins/   \n",
       "5         Jessica Bravo  https://www.linkedin.com/in/jessica-bravo-40a0...   \n",
       "6            Kevin Cure             https://www.linkedin.com/in/kevincure/   \n",
       "7        Antonio Rogers  https://www.linkedin.com/in/antonio-rogers-6ba...   \n",
       "8         Jaclyn Howard          https://www.linkedin.com/in/jaclynhoward/   \n",
       "9      Kellie Kieserman  https://www.linkedin.com/in/kellie-kieserman-7...   \n",
       "\n",
       "    co_name  \n",
       "0  Greystar  \n",
       "1  Greystar  \n",
       "2  Greystar  \n",
       "3  Greystar  \n",
       "4  Greystar  \n",
       "5  Greystar  \n",
       "6  Greystar  \n",
       "7  Greystar  \n",
       "8  Greystar  \n",
       "9  Greystar  "
      ],
      "text/html": "<div>\n<style scoped>\n    .dataframe tbody tr th:only-of-type {\n        vertical-align: middle;\n    }\n\n    .dataframe tbody tr th {\n        vertical-align: top;\n    }\n\n    .dataframe thead th {\n        text-align: right;\n    }\n</style>\n<table border=\"1\" class=\"dataframe\">\n  <thead>\n    <tr style=\"text-align: right;\">\n      <th></th>\n      <th>recruiter</th>\n      <th>url</th>\n      <th>co_name</th>\n    </tr>\n  </thead>\n  <tbody>\n    <tr>\n      <th>0</th>\n      <td>Chelsea Johnson, CSP</td>\n      <td>https://www.linkedin.com/in/chelsea-johnson-cs...</td>\n      <td>Greystar</td>\n    </tr>\n    <tr>\n      <th>1</th>\n      <td>Christina T Jackson</td>\n      <td>https://www.linkedin.com/in/christinatjackson/</td>\n      <td>Greystar</td>\n    </tr>\n    <tr>\n      <th>2</th>\n      <td>Heather Patton</td>\n      <td>https://www.linkedin.com/in/heatherhaynes/</td>\n      <td>Greystar</td>\n    </tr>\n    <tr>\n      <th>3</th>\n      <td>Kristin Doherty</td>\n      <td>https://www.linkedin.com/in/recruiter-kristin/</td>\n      <td>Greystar</td>\n    </tr>\n    <tr>\n      <th>4</th>\n      <td>Kacy Fowler</td>\n      <td>https://www.linkedin.com/in/kacyjenkins/</td>\n      <td>Greystar</td>\n    </tr>\n    <tr>\n      <th>5</th>\n      <td>Jessica Bravo</td>\n      <td>https://www.linkedin.com/in/jessica-bravo-40a0...</td>\n      <td>Greystar</td>\n    </tr>\n    <tr>\n      <th>6</th>\n      <td>Kevin Cure</td>\n      <td>https://www.linkedin.com/in/kevincure/</td>\n      <td>Greystar</td>\n    </tr>\n    <tr>\n      <th>7</th>\n      <td>Antonio Rogers</td>\n      <td>https://www.linkedin.com/in/antonio-rogers-6ba...</td>\n      <td>Greystar</td>\n    </tr>\n    <tr>\n      <th>8</th>\n      <td>Jaclyn Howard</td>\n      <td>https://www.linkedin.com/in/jaclynhoward/</td>\n      <td>Greystar</td>\n    </tr>\n    <tr>\n      <th>9</th>\n      <td>Kellie Kieserman</td>\n      <td>https://www.linkedin.com/in/kellie-kieserman-7...</td>\n      <td>Greystar</td>\n    </tr>\n  </tbody>\n</table>\n</div>"
     },
     "metadata": {},
     "execution_count": 9
    }
   ],
   "source": [
    "frame.head(10)"
   ]
  },
  {
   "cell_type": "code",
   "execution_count": 25,
   "metadata": {},
   "outputs": [],
   "source": [
    "frame['location'] = ''"
   ]
  },
  {
   "cell_type": "code",
   "execution_count": 26,
   "metadata": {},
   "outputs": [
    {
     "output_type": "execute_result",
     "data": {
      "text/plain": [
       "              recruiter                                                url  \\\n",
       "0  Chelsea Johnson, CSP  https://www.linkedin.com/in/chelsea-johnson-cs...   \n",
       "\n",
       "    co_name location  \n",
       "0  Greystar           "
      ],
      "text/html": "<div>\n<style scoped>\n    .dataframe tbody tr th:only-of-type {\n        vertical-align: middle;\n    }\n\n    .dataframe tbody tr th {\n        vertical-align: top;\n    }\n\n    .dataframe thead th {\n        text-align: right;\n    }\n</style>\n<table border=\"1\" class=\"dataframe\">\n  <thead>\n    <tr style=\"text-align: right;\">\n      <th></th>\n      <th>recruiter</th>\n      <th>url</th>\n      <th>co_name</th>\n      <th>location</th>\n    </tr>\n  </thead>\n  <tbody>\n    <tr>\n      <th>0</th>\n      <td>Chelsea Johnson, CSP</td>\n      <td>https://www.linkedin.com/in/chelsea-johnson-cs...</td>\n      <td>Greystar</td>\n      <td></td>\n    </tr>\n  </tbody>\n</table>\n</div>"
     },
     "metadata": {},
     "execution_count": 26
    }
   ],
   "source": [
    "frame.head(1)"
   ]
  },
  {
   "cell_type": "code",
   "execution_count": 10,
   "metadata": {},
   "outputs": [
    {
     "output_type": "execute_result",
     "data": {
      "text/plain": [
       "                recruiter                                                url  \\\n",
       "17550         Robert Half                                                NaN   \n",
       "8351       The Home Depot                                                NaN   \n",
       "18557               Merck                                                NaN   \n",
       "13526  Ford Motor Company                                                NaN   \n",
       "4295         keefiat shah  https://www.linkedin.com/in/keefiat-shah-9ba4b...   \n",
       "9195                   EY                                                NaN   \n",
       "26105                  EY                                                NaN   \n",
       "3208       Keith Ohlstrom  https://www.linkedin.com/in/keith-ohlstrom-316...   \n",
       "2108            TJ Looney   https://www.linkedin.com/in/t-j-looney-0a15bb9a/   \n",
       "21911    Aditi Consulting                                                NaN   \n",
       "\n",
       "                             co_name  \n",
       "17550  _techrecruiters_with_location  \n",
       "8351   _techrecruiters_with_location  \n",
       "18557  _techrecruiters_with_location  \n",
       "13526  _techrecruiters_with_location  \n",
       "4295              Pyramid Consulting  \n",
       "9195   _techrecruiters_with_location  \n",
       "26105  _techrecruiters_with_location  \n",
       "3208                              EY  \n",
       "2108                Global Resources  \n",
       "21911  _techrecruiters_with_location  "
      ],
      "text/html": "<div>\n<style scoped>\n    .dataframe tbody tr th:only-of-type {\n        vertical-align: middle;\n    }\n\n    .dataframe tbody tr th {\n        vertical-align: top;\n    }\n\n    .dataframe thead th {\n        text-align: right;\n    }\n</style>\n<table border=\"1\" class=\"dataframe\">\n  <thead>\n    <tr style=\"text-align: right;\">\n      <th></th>\n      <th>recruiter</th>\n      <th>url</th>\n      <th>co_name</th>\n    </tr>\n  </thead>\n  <tbody>\n    <tr>\n      <th>17550</th>\n      <td>Robert Half</td>\n      <td>NaN</td>\n      <td>_techrecruiters_with_location</td>\n    </tr>\n    <tr>\n      <th>8351</th>\n      <td>The Home Depot</td>\n      <td>NaN</td>\n      <td>_techrecruiters_with_location</td>\n    </tr>\n    <tr>\n      <th>18557</th>\n      <td>Merck</td>\n      <td>NaN</td>\n      <td>_techrecruiters_with_location</td>\n    </tr>\n    <tr>\n      <th>13526</th>\n      <td>Ford Motor Company</td>\n      <td>NaN</td>\n      <td>_techrecruiters_with_location</td>\n    </tr>\n    <tr>\n      <th>4295</th>\n      <td>keefiat shah</td>\n      <td>https://www.linkedin.com/in/keefiat-shah-9ba4b...</td>\n      <td>Pyramid Consulting</td>\n    </tr>\n    <tr>\n      <th>9195</th>\n      <td>EY</td>\n      <td>NaN</td>\n      <td>_techrecruiters_with_location</td>\n    </tr>\n    <tr>\n      <th>26105</th>\n      <td>EY</td>\n      <td>NaN</td>\n      <td>_techrecruiters_with_location</td>\n    </tr>\n    <tr>\n      <th>3208</th>\n      <td>Keith Ohlstrom</td>\n      <td>https://www.linkedin.com/in/keith-ohlstrom-316...</td>\n      <td>EY</td>\n    </tr>\n    <tr>\n      <th>2108</th>\n      <td>TJ Looney</td>\n      <td>https://www.linkedin.com/in/t-j-looney-0a15bb9a/</td>\n      <td>Global Resources</td>\n    </tr>\n    <tr>\n      <th>21911</th>\n      <td>Aditi Consulting</td>\n      <td>NaN</td>\n      <td>_techrecruiters_with_location</td>\n    </tr>\n  </tbody>\n</table>\n</div>"
     },
     "metadata": {},
     "execution_count": 10
    }
   ],
   "source": [
    "frame_sample = frame.sample(10)\n",
    "frame_sample"
   ]
  },
  {
   "cell_type": "code",
   "execution_count": 11,
   "metadata": {},
   "outputs": [],
   "source": [
    "from time import sleep\n",
    "\n",
    "from selenium import webdriver\n",
    "from selenium.webdriver.common.action_chains import ActionChains\n",
    "from selenium.webdriver.common.keys import Keys\n",
    "from selenium.webdriver.support import expected_conditions as EC\n",
    "from selenium.webdriver.support.ui import WebDriverWait\n",
    "from selenium.webdriver.common.by import By\n",
    "import chromedriver_binary\n",
    "from bs4 import BeautifulSoup"
   ]
  },
  {
   "cell_type": "code",
   "execution_count": 12,
   "metadata": {},
   "outputs": [],
   "source": [
    "def get_login():\n",
    "    '''\n",
    "    Access keys from external file and placed in a list.\n",
    "\n",
    "    Parameters\n",
    "    ----------\n",
    "    None:\n",
    "\n",
    "    Returns\n",
    "    ----------\n",
    "    creds: (list)\n",
    "        Return keys used for session.\n",
    "    '''\n",
    "    f = open('../data/LI_login.txt', 'r')\n",
    "    creds = f.readlines()\n",
    "\n",
    "    for idx, key in enumerate(creds):\n",
    "        creds[idx] = key.replace('\\n', '')\n",
    "\n",
    "    return creds"
   ]
  },
  {
   "cell_type": "code",
   "execution_count": 13,
   "metadata": {},
   "outputs": [],
   "source": [
    "def login():\n",
    "    '''\n",
    "    Login into LinkedIn and webdriver session for more web manipulation.\n",
    "    Keys generated from get_login() function.\n",
    "\n",
    "    Parameters\n",
    "    ----------\n",
    "    None:\n",
    "\n",
    "    Returns\n",
    "    ----------\n",
    "    driver: (selenium.webdriver.chrome.webdriver.WebDriver)\n",
    "        Return webdriver session for web manipulation.\n",
    "    '''\n",
    "    # session keys for LI instance\n",
    "    email, pw = get_login()\n",
    "    \n",
    "    # selenium webdriver\n",
    "    driver = webdriver.Chrome()\n",
    "    driver.get('https://www.linkedin.com/')\n",
    "    # log in\n",
    "    sleep(2)\n",
    "    driver.find_element_by_id('session_key').send_keys(email)\n",
    "    sleep(1)\n",
    "    driver.find_element_by_id('session_password').send_keys(pw+Keys.RETURN)\n",
    "\n",
    "    return driver"
   ]
  },
  {
   "cell_type": "code",
   "execution_count": 18,
   "metadata": {},
   "outputs": [],
   "source": [
    "def scrape_location(driver, url):\n",
    "    '''scrape tech recruiters location info'''\n",
    "    sleep(3)\n",
    "    driver.get(url)\n",
    "    r = driver.page_source\n",
    "    soup = BeautifulSoup(r, 'html.parser')\n",
    "    flex_card = soup.find('div', 'flex-1 mr5')\n",
    "    location = flex_card.find('li', 't-16 t-black t-normal inline-block')\n",
    "    location = location.text.lstrip().rstrip()\n",
    "    sleep(3)\n",
    "\n",
    "    return location\n",
    "\n",
    "\n"
   ]
  },
  {
   "cell_type": "code",
   "execution_count": 19,
   "metadata": {},
   "outputs": [],
   "source": [
    "driver = login()\n",
    "\n",
    "# location = frame_sample['url'].apply(lambda x: scrape_location(x))\n",
    "# test notes\n",
    "# 1. more sleeps, it goes to fast between sites\n",
    "# 2. close driver\n"
   ]
  },
  {
   "cell_type": "code",
   "execution_count": 100,
   "metadata": {},
   "outputs": [
    {
     "output_type": "execute_result",
     "data": {
      "text/plain": [
       "4429                             Delhi, India\n",
       "1906      Grand Prairie, Texas, United States\n",
       "5262                     Greater Phoenix Area\n",
       "4262       Alpharetta, Georgia, United States\n",
       "2619    The Hague, South Holland, Netherlands\n",
       "824          Cedar Park, Texas, United States\n",
       "160     Minneapolis, Minnesota, United States\n",
       "322         New York, New York, United States\n",
       "452           New York City Metropolitan Area\n",
       "360      San Antonio, Texas Metropolitan Area\n",
       "Name: url, dtype: object"
      ]
     },
     "metadata": {},
     "execution_count": 100
    }
   ],
   "source": [
    "location"
   ]
  },
  {
   "cell_type": "code",
   "execution_count": 102,
   "metadata": {},
   "outputs": [],
   "source": [
    "frame_sample['location'] = location"
   ]
  },
  {
   "cell_type": "code",
   "execution_count": 107,
   "metadata": {},
   "outputs": [
    {
     "output_type": "execute_result",
     "data": {
      "text/plain": [
       "          recruiter                                                url  \\\n",
       "4429   Rawat Gaurav  https://www.linkedin.com/in/rawat-gaurav-1a523...   \n",
       "1906  Emmanuel Paul  https://www.linkedin.com/in/emmanuel-paul-b371...   \n",
       "\n",
       "                 co_name                             location  \n",
       "4429  Pyramid Consulting                         Delhi, India  \n",
       "1906    Global Resources  Grand Prairie, Texas, United States  "
      ],
      "text/html": "<div>\n<style scoped>\n    .dataframe tbody tr th:only-of-type {\n        vertical-align: middle;\n    }\n\n    .dataframe tbody tr th {\n        vertical-align: top;\n    }\n\n    .dataframe thead th {\n        text-align: right;\n    }\n</style>\n<table border=\"1\" class=\"dataframe\">\n  <thead>\n    <tr style=\"text-align: right;\">\n      <th></th>\n      <th>recruiter</th>\n      <th>url</th>\n      <th>co_name</th>\n      <th>location</th>\n    </tr>\n  </thead>\n  <tbody>\n    <tr>\n      <th>4429</th>\n      <td>Rawat Gaurav</td>\n      <td>https://www.linkedin.com/in/rawat-gaurav-1a523...</td>\n      <td>Pyramid Consulting</td>\n      <td>Delhi, India</td>\n    </tr>\n    <tr>\n      <th>1906</th>\n      <td>Emmanuel Paul</td>\n      <td>https://www.linkedin.com/in/emmanuel-paul-b371...</td>\n      <td>Global Resources</td>\n      <td>Grand Prairie, Texas, United States</td>\n    </tr>\n  </tbody>\n</table>\n</div>"
     },
     "metadata": {},
     "execution_count": 107
    }
   ],
   "source": [
    "frame_sample.head(2)"
   ]
  },
  {
   "cell_type": "code",
   "execution_count": 114,
   "metadata": {},
   "outputs": [],
   "source": [
    "# !ls ../data/tech_rec -al"
   ]
  },
  {
   "cell_type": "code",
   "execution_count": 112,
   "metadata": {},
   "outputs": [],
   "source": [
    "frame_sample.to_csv('../data/tech_rec/techrecruiters_with_location.csv')"
   ]
  },
  {
   "cell_type": "code",
   "execution_count": 33,
   "metadata": {},
   "outputs": [],
   "source": [
    "for idx, row in frame[0:3].iterrows():\n",
    "        location = scrape_location(driver, row['url'])\n",
    "        frame['location'][idx] = location"
   ]
  },
  {
   "cell_type": "code",
   "execution_count": 43,
   "metadata": {},
   "outputs": [
    {
     "output_type": "execute_result",
     "data": {
      "text/plain": [
       "recruiter                                Heather Patton\n",
       "url          https://www.linkedin.com/in/heatherhaynes/\n",
       "co_name                                        Greystar\n",
       "location         Lake Forest, California, United States\n",
       "Name: 2, dtype: object"
      ]
     },
     "metadata": {},
     "execution_count": 43
    }
   ],
   "source": [
    "frame.iloc[idx]"
   ]
  },
  {
   "cell_type": "code",
   "execution_count": 34,
   "metadata": {},
   "outputs": [
    {
     "output_type": "execute_result",
     "data": {
      "text/plain": [
       "'Lake Forest, California, United States'"
      ]
     },
     "metadata": {},
     "execution_count": 34
    }
   ],
   "source": [
    "location"
   ]
  },
  {
   "cell_type": "code",
   "execution_count": 44,
   "metadata": {},
   "outputs": [
    {
     "output_type": "execute_result",
     "data": {
      "text/plain": [
       "Index(['recruiter', 'url', 'co_name', 'location'], dtype='object')"
      ]
     },
     "metadata": {},
     "execution_count": 44
    }
   ],
   "source": [
    "row.index"
   ]
  },
  {
   "cell_type": "code",
   "execution_count": 35,
   "metadata": {},
   "outputs": [
    {
     "output_type": "execute_result",
     "data": {
      "text/plain": [
       "              recruiter                                                url  \\\n",
       "0  Chelsea Johnson, CSP  https://www.linkedin.com/in/chelsea-johnson-cs...   \n",
       "1   Christina T Jackson     https://www.linkedin.com/in/christinatjackson/   \n",
       "2        Heather Patton         https://www.linkedin.com/in/heatherhaynes/   \n",
       "\n",
       "    co_name                                location  \n",
       "0  Greystar         Phoenix, Arizona, United States  \n",
       "1  Greystar              Miami-Fort Lauderdale Area  \n",
       "2  Greystar  Lake Forest, California, United States  "
      ],
      "text/html": "<div>\n<style scoped>\n    .dataframe tbody tr th:only-of-type {\n        vertical-align: middle;\n    }\n\n    .dataframe tbody tr th {\n        vertical-align: top;\n    }\n\n    .dataframe thead th {\n        text-align: right;\n    }\n</style>\n<table border=\"1\" class=\"dataframe\">\n  <thead>\n    <tr style=\"text-align: right;\">\n      <th></th>\n      <th>recruiter</th>\n      <th>url</th>\n      <th>co_name</th>\n      <th>location</th>\n    </tr>\n  </thead>\n  <tbody>\n    <tr>\n      <th>0</th>\n      <td>Chelsea Johnson, CSP</td>\n      <td>https://www.linkedin.com/in/chelsea-johnson-cs...</td>\n      <td>Greystar</td>\n      <td>Phoenix, Arizona, United States</td>\n    </tr>\n    <tr>\n      <th>1</th>\n      <td>Christina T Jackson</td>\n      <td>https://www.linkedin.com/in/christinatjackson/</td>\n      <td>Greystar</td>\n      <td>Miami-Fort Lauderdale Area</td>\n    </tr>\n    <tr>\n      <th>2</th>\n      <td>Heather Patton</td>\n      <td>https://www.linkedin.com/in/heatherhaynes/</td>\n      <td>Greystar</td>\n      <td>Lake Forest, California, United States</td>\n    </tr>\n  </tbody>\n</table>\n</div>"
     },
     "metadata": {},
     "execution_count": 35
    }
   ],
   "source": [
    "frame.head(3)"
   ]
  },
  {
   "cell_type": "code",
   "execution_count": 37,
   "metadata": {},
   "outputs": [],
   "source": [
    "import numpy as np"
   ]
  },
  {
   "cell_type": "code",
   "execution_count": 45,
   "metadata": {},
   "outputs": [],
   "source": [
    "df = pd.DataFrame(columns=frame.columns)"
   ]
  },
  {
   "cell_type": "code",
   "execution_count": 46,
   "metadata": {},
   "outputs": [
    {
     "output_type": "execute_result",
     "data": {
      "text/plain": [
       "Empty DataFrame\n",
       "Columns: [recruiter, url, co_name, location]\n",
       "Index: []"
      ],
      "text/html": "<div>\n<style scoped>\n    .dataframe tbody tr th:only-of-type {\n        vertical-align: middle;\n    }\n\n    .dataframe tbody tr th {\n        vertical-align: top;\n    }\n\n    .dataframe thead th {\n        text-align: right;\n    }\n</style>\n<table border=\"1\" class=\"dataframe\">\n  <thead>\n    <tr style=\"text-align: right;\">\n      <th></th>\n      <th>recruiter</th>\n      <th>url</th>\n      <th>co_name</th>\n      <th>location</th>\n    </tr>\n  </thead>\n  <tbody>\n  </tbody>\n</table>\n</div>"
     },
     "metadata": {},
     "execution_count": 46
    }
   ],
   "source": [
    "df"
   ]
  },
  {
   "cell_type": "code",
   "execution_count": 50,
   "metadata": {},
   "outputs": [],
   "source": [
    "df = df.append(row)"
   ]
  },
  {
   "cell_type": "code",
   "execution_count": 53,
   "metadata": {},
   "outputs": [],
   "source": [
    "df.to_csv('../data/test.csv', index=False)"
   ]
  },
  {
   "cell_type": "code",
   "execution_count": 51,
   "metadata": {},
   "outputs": [
    {
     "output_type": "execute_result",
     "data": {
      "text/plain": [
       "        recruiter                                         url   co_name  \\\n",
       "2  Heather Patton  https://www.linkedin.com/in/heatherhaynes/  Greystar   \n",
       "\n",
       "                                 location  \n",
       "2  Lake Forest, California, United States  "
      ],
      "text/html": "<div>\n<style scoped>\n    .dataframe tbody tr th:only-of-type {\n        vertical-align: middle;\n    }\n\n    .dataframe tbody tr th {\n        vertical-align: top;\n    }\n\n    .dataframe thead th {\n        text-align: right;\n    }\n</style>\n<table border=\"1\" class=\"dataframe\">\n  <thead>\n    <tr style=\"text-align: right;\">\n      <th></th>\n      <th>recruiter</th>\n      <th>url</th>\n      <th>co_name</th>\n      <th>location</th>\n    </tr>\n  </thead>\n  <tbody>\n    <tr>\n      <th>2</th>\n      <td>Heather Patton</td>\n      <td>https://www.linkedin.com/in/heatherhaynes/</td>\n      <td>Greystar</td>\n      <td>Lake Forest, California, United States</td>\n    </tr>\n  </tbody>\n</table>\n</div>"
     },
     "metadata": {},
     "execution_count": 51
    }
   ],
   "source": [
    "df"
   ]
  },
  {
   "cell_type": "code",
   "execution_count": 54,
   "metadata": {},
   "outputs": [
    {
     "output_type": "execute_result",
     "data": {
      "text/plain": [
       "              recruiter                                                url  \\\n",
       "0  Chelsea Johnson, CSP  https://www.linkedin.com/in/chelsea-johnson-cs...   \n",
       "1   Christina T Jackson     https://www.linkedin.com/in/christinatjackson/   \n",
       "2        Heather Patton         https://www.linkedin.com/in/heatherhaynes/   \n",
       "\n",
       "    co_name                                location  \n",
       "0  Greystar         Phoenix, Arizona, United States  \n",
       "1  Greystar              Miami-Fort Lauderdale Area  \n",
       "2  Greystar  Lake Forest, California, United States  "
      ],
      "text/html": "<div>\n<style scoped>\n    .dataframe tbody tr th:only-of-type {\n        vertical-align: middle;\n    }\n\n    .dataframe tbody tr th {\n        vertical-align: top;\n    }\n\n    .dataframe thead th {\n        text-align: right;\n    }\n</style>\n<table border=\"1\" class=\"dataframe\">\n  <thead>\n    <tr style=\"text-align: right;\">\n      <th></th>\n      <th>recruiter</th>\n      <th>url</th>\n      <th>co_name</th>\n      <th>location</th>\n    </tr>\n  </thead>\n  <tbody>\n    <tr>\n      <th>0</th>\n      <td>Chelsea Johnson, CSP</td>\n      <td>https://www.linkedin.com/in/chelsea-johnson-cs...</td>\n      <td>Greystar</td>\n      <td>Phoenix, Arizona, United States</td>\n    </tr>\n    <tr>\n      <th>1</th>\n      <td>Christina T Jackson</td>\n      <td>https://www.linkedin.com/in/christinatjackson/</td>\n      <td>Greystar</td>\n      <td>Miami-Fort Lauderdale Area</td>\n    </tr>\n    <tr>\n      <th>2</th>\n      <td>Heather Patton</td>\n      <td>https://www.linkedin.com/in/heatherhaynes/</td>\n      <td>Greystar</td>\n      <td>Lake Forest, California, United States</td>\n    </tr>\n  </tbody>\n</table>\n</div>"
     },
     "metadata": {},
     "execution_count": 54
    }
   ],
   "source": [
    "test = frame.head(3)\n",
    "test"
   ]
  },
  {
   "cell_type": "code",
   "execution_count": 56,
   "metadata": {},
   "outputs": [],
   "source": [
    "df[1:].to_csv('../data/test.csv', index=False, header=False, mode='a')"
   ]
  },
  {
   "cell_type": "code",
   "execution_count": null,
   "metadata": {},
   "outputs": [],
   "source": []
  }
 ],
 "metadata": {
  "kernelspec": {
   "display_name": "Python 3",
   "language": "python",
   "name": "python3"
  },
  "language_info": {
   "codemirror_mode": {
    "name": "ipython",
    "version": 3
   },
   "file_extension": ".py",
   "mimetype": "text/x-python",
   "name": "python",
   "nbconvert_exporter": "python",
   "pygments_lexer": "ipython3",
   "version": "3.9.0-final"
  },
  "toc": {
   "base_numbering": 1,
   "nav_menu": {},
   "number_sections": true,
   "sideBar": true,
   "skip_h1_title": false,
   "title_cell": "Table of Contents",
   "title_sidebar": "Contents",
   "toc_cell": false,
   "toc_position": {},
   "toc_section_display": true,
   "toc_window_display": false
  }
 },
 "nbformat": 4,
 "nbformat_minor": 4
}