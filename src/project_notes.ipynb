{
 "cells": [
  {
   "cell_type": "markdown",
   "metadata": {},
   "source": [
    "New notebook to test the difference between the tech rec mongo db and gal alum.\n",
    "Currently, code working for gal alum but not tech recruiters.\n",
    "1. Copy progress from mongodb_test\n",
    "2. Replicate the gal alum process from\n",
    "* Connection to mongo db\n",
    "* Pull data into df\n",
    "* Manipulate to correct format\n",
    "* Create csv of all companies\n",
    "* Create csvs of individual companies\n",
    "\n",
    "3. New notebook section for tech recruiters"
   ]
  },
  {
   "cell_type": "code",
   "execution_count": 1,
   "metadata": {
    "ExecuteTime": {
     "end_time": "2020-12-09T20:31:13.839982Z",
     "start_time": "2020-12-09T20:31:13.221590Z"
    }
   },
   "outputs": [],
   "source": [
    "import pandas as pd\n",
    "import mongo\n",
    "# import est"
   ]
  },
  {
   "cell_type": "markdown",
   "metadata": {},
   "source": [
    "# Galvanize Alumni CSV build"
   ]
  },
  {
   "cell_type": "code",
   "execution_count": 37,
   "metadata": {
    "ExecuteTime": {
     "end_time": "2020-12-09T22:42:53.651049Z",
     "start_time": "2020-12-09T22:42:53.454183Z"
    }
   },
   "outputs": [],
   "source": [
    "mongo.connect_mongo()\n",
    "mongo.connect_coll('gal_part_proj', 'gal_alum')\n",
    "cursor = mongo.coll.find({}, {'_id':0})\n",
    "df = pd.DataFrame(cursor)\n",
    "df = df.T"
   ]
  },
  {
   "cell_type": "code",
   "execution_count": 3,
   "metadata": {
    "ExecuteTime": {
     "end_time": "2020-12-09T20:31:15.573470Z",
     "start_time": "2020-12-09T20:31:15.438309Z"
    }
   },
   "outputs": [],
   "source": [
    "df = pd.DataFrame(cursor)"
   ]
  },
  {
   "cell_type": "code",
   "execution_count": 38,
   "metadata": {
    "ExecuteTime": {
     "end_time": "2020-12-09T22:42:57.864676Z",
     "start_time": "2020-12-09T22:42:57.829607Z"
    }
   },
   "outputs": [
    {
     "data": {
      "text/html": [
       "<div>\n",
       "<style scoped>\n",
       "    .dataframe tbody tr th:only-of-type {\n",
       "        vertical-align: middle;\n",
       "    }\n",
       "\n",
       "    .dataframe tbody tr th {\n",
       "        vertical-align: top;\n",
       "    }\n",
       "\n",
       "    .dataframe thead th {\n",
       "        text-align: right;\n",
       "    }\n",
       "</style>\n",
       "<table border=\"1\" class=\"dataframe\">\n",
       "  <thead>\n",
       "    <tr style=\"text-align: right;\">\n",
       "      <th></th>\n",
       "      <th>0</th>\n",
       "      <th>1</th>\n",
       "      <th>2</th>\n",
       "      <th>3</th>\n",
       "      <th>4</th>\n",
       "      <th>5</th>\n",
       "      <th>6</th>\n",
       "      <th>7</th>\n",
       "      <th>8</th>\n",
       "      <th>9</th>\n",
       "      <th>...</th>\n",
       "      <th>457</th>\n",
       "      <th>458</th>\n",
       "      <th>459</th>\n",
       "      <th>460</th>\n",
       "      <th>461</th>\n",
       "      <th>462</th>\n",
       "      <th>463</th>\n",
       "      <th>464</th>\n",
       "      <th>465</th>\n",
       "      <th>466</th>\n",
       "    </tr>\n",
       "  </thead>\n",
       "  <tbody>\n",
       "    <tr>\n",
       "      <th>University of Texas at Austin</th>\n",
       "      <td>People Link 404</td>\n",
       "      <td>People Link 404</td>\n",
       "      <td>People Link 404</td>\n",
       "      <td>NaN</td>\n",
       "      <td>NaN</td>\n",
       "      <td>NaN</td>\n",
       "      <td>NaN</td>\n",
       "      <td>NaN</td>\n",
       "      <td>NaN</td>\n",
       "      <td>NaN</td>\n",
       "      <td>...</td>\n",
       "      <td>NaN</td>\n",
       "      <td>NaN</td>\n",
       "      <td>NaN</td>\n",
       "      <td>NaN</td>\n",
       "      <td>NaN</td>\n",
       "      <td>NaN</td>\n",
       "      <td>NaN</td>\n",
       "      <td>NaN</td>\n",
       "      <td>NaN</td>\n",
       "      <td>NaN</td>\n",
       "    </tr>\n",
       "    <tr>\n",
       "      <th>Apple</th>\n",
       "      <td>NaN</td>\n",
       "      <td>NaN</td>\n",
       "      <td>NaN</td>\n",
       "      <td>{'Erin Gong': 'https://www.linkedin.com/in/eri...</td>\n",
       "      <td>NaN</td>\n",
       "      <td>NaN</td>\n",
       "      <td>NaN</td>\n",
       "      <td>NaN</td>\n",
       "      <td>NaN</td>\n",
       "      <td>NaN</td>\n",
       "      <td>...</td>\n",
       "      <td>NaN</td>\n",
       "      <td>NaN</td>\n",
       "      <td>NaN</td>\n",
       "      <td>NaN</td>\n",
       "      <td>NaN</td>\n",
       "      <td>NaN</td>\n",
       "      <td>NaN</td>\n",
       "      <td>NaN</td>\n",
       "      <td>NaN</td>\n",
       "      <td>NaN</td>\n",
       "    </tr>\n",
       "    <tr>\n",
       "      <th>Dell Technologies</th>\n",
       "      <td>NaN</td>\n",
       "      <td>NaN</td>\n",
       "      <td>NaN</td>\n",
       "      <td>NaN</td>\n",
       "      <td>{'Daniel Donovan': 'https://www.linkedin.com/i...</td>\n",
       "      <td>NaN</td>\n",
       "      <td>NaN</td>\n",
       "      <td>NaN</td>\n",
       "      <td>NaN</td>\n",
       "      <td>NaN</td>\n",
       "      <td>...</td>\n",
       "      <td>NaN</td>\n",
       "      <td>NaN</td>\n",
       "      <td>NaN</td>\n",
       "      <td>NaN</td>\n",
       "      <td>NaN</td>\n",
       "      <td>NaN</td>\n",
       "      <td>NaN</td>\n",
       "      <td>NaN</td>\n",
       "      <td>NaN</td>\n",
       "      <td>NaN</td>\n",
       "    </tr>\n",
       "    <tr>\n",
       "      <th>IBM</th>\n",
       "      <td>NaN</td>\n",
       "      <td>NaN</td>\n",
       "      <td>NaN</td>\n",
       "      <td>NaN</td>\n",
       "      <td>NaN</td>\n",
       "      <td>{'James Helfrich': 'https://www.linkedin.com/i...</td>\n",
       "      <td>NaN</td>\n",
       "      <td>NaN</td>\n",
       "      <td>NaN</td>\n",
       "      <td>NaN</td>\n",
       "      <td>...</td>\n",
       "      <td>NaN</td>\n",
       "      <td>NaN</td>\n",
       "      <td>NaN</td>\n",
       "      <td>NaN</td>\n",
       "      <td>NaN</td>\n",
       "      <td>NaN</td>\n",
       "      <td>NaN</td>\n",
       "      <td>NaN</td>\n",
       "      <td>NaN</td>\n",
       "      <td>NaN</td>\n",
       "    </tr>\n",
       "    <tr>\n",
       "      <th>National Instruments</th>\n",
       "      <td>NaN</td>\n",
       "      <td>NaN</td>\n",
       "      <td>NaN</td>\n",
       "      <td>NaN</td>\n",
       "      <td>NaN</td>\n",
       "      <td>NaN</td>\n",
       "      <td>No results</td>\n",
       "      <td>NaN</td>\n",
       "      <td>NaN</td>\n",
       "      <td>NaN</td>\n",
       "      <td>...</td>\n",
       "      <td>NaN</td>\n",
       "      <td>NaN</td>\n",
       "      <td>NaN</td>\n",
       "      <td>NaN</td>\n",
       "      <td>NaN</td>\n",
       "      <td>NaN</td>\n",
       "      <td>NaN</td>\n",
       "      <td>NaN</td>\n",
       "      <td>NaN</td>\n",
       "      <td>NaN</td>\n",
       "    </tr>\n",
       "  </tbody>\n",
       "</table>\n",
       "<p>5 rows × 467 columns</p>\n",
       "</div>"
      ],
      "text/plain": [
       "                                           0                1    \\\n",
       "University of Texas at Austin  People Link 404  People Link 404   \n",
       "Apple                                      NaN              NaN   \n",
       "Dell Technologies                          NaN              NaN   \n",
       "IBM                                        NaN              NaN   \n",
       "National Instruments                       NaN              NaN   \n",
       "\n",
       "                                           2    \\\n",
       "University of Texas at Austin  People Link 404   \n",
       "Apple                                      NaN   \n",
       "Dell Technologies                          NaN   \n",
       "IBM                                        NaN   \n",
       "National Instruments                       NaN   \n",
       "\n",
       "                                                                             3    \\\n",
       "University of Texas at Austin                                                NaN   \n",
       "Apple                          {'Erin Gong': 'https://www.linkedin.com/in/eri...   \n",
       "Dell Technologies                                                            NaN   \n",
       "IBM                                                                          NaN   \n",
       "National Instruments                                                         NaN   \n",
       "\n",
       "                                                                             4    \\\n",
       "University of Texas at Austin                                                NaN   \n",
       "Apple                                                                        NaN   \n",
       "Dell Technologies              {'Daniel Donovan': 'https://www.linkedin.com/i...   \n",
       "IBM                                                                          NaN   \n",
       "National Instruments                                                         NaN   \n",
       "\n",
       "                                                                             5    \\\n",
       "University of Texas at Austin                                                NaN   \n",
       "Apple                                                                        NaN   \n",
       "Dell Technologies                                                            NaN   \n",
       "IBM                            {'James Helfrich': 'https://www.linkedin.com/i...   \n",
       "National Instruments                                                         NaN   \n",
       "\n",
       "                                      6    7    8    9    ...  457  458  459  \\\n",
       "University of Texas at Austin         NaN  NaN  NaN  NaN  ...  NaN  NaN  NaN   \n",
       "Apple                                 NaN  NaN  NaN  NaN  ...  NaN  NaN  NaN   \n",
       "Dell Technologies                     NaN  NaN  NaN  NaN  ...  NaN  NaN  NaN   \n",
       "IBM                                   NaN  NaN  NaN  NaN  ...  NaN  NaN  NaN   \n",
       "National Instruments           No results  NaN  NaN  NaN  ...  NaN  NaN  NaN   \n",
       "\n",
       "                               460  461  462  463  464  465  466  \n",
       "University of Texas at Austin  NaN  NaN  NaN  NaN  NaN  NaN  NaN  \n",
       "Apple                          NaN  NaN  NaN  NaN  NaN  NaN  NaN  \n",
       "Dell Technologies              NaN  NaN  NaN  NaN  NaN  NaN  NaN  \n",
       "IBM                            NaN  NaN  NaN  NaN  NaN  NaN  NaN  \n",
       "National Instruments           NaN  NaN  NaN  NaN  NaN  NaN  NaN  \n",
       "\n",
       "[5 rows x 467 columns]"
      ]
     },
     "execution_count": 38,
     "metadata": {},
     "output_type": "execute_result"
    }
   ],
   "source": [
    "# df = df.T\n",
    "df.head()"
   ]
  },
  {
   "cell_type": "code",
   "execution_count": 22,
   "metadata": {
    "ExecuteTime": {
     "end_time": "2020-12-09T22:16:36.882922Z",
     "start_time": "2020-12-09T22:16:36.564274Z"
    }
   },
   "outputs": [
    {
     "data": {
      "text/html": [
       "<div>\n",
       "<style scoped>\n",
       "    .dataframe tbody tr th:only-of-type {\n",
       "        vertical-align: middle;\n",
       "    }\n",
       "\n",
       "    .dataframe tbody tr th {\n",
       "        vertical-align: top;\n",
       "    }\n",
       "\n",
       "    .dataframe thead th {\n",
       "        text-align: right;\n",
       "    }\n",
       "</style>\n",
       "<table border=\"1\" class=\"dataframe\">\n",
       "  <thead>\n",
       "    <tr style=\"text-align: right;\">\n",
       "      <th></th>\n",
       "      <th>Scrape Results</th>\n",
       "    </tr>\n",
       "  </thead>\n",
       "  <tbody>\n",
       "    <tr>\n",
       "      <th>University of Texas at Austin</th>\n",
       "      <td>People Link 404</td>\n",
       "    </tr>\n",
       "    <tr>\n",
       "      <th>Apple</th>\n",
       "      <td>{'Erin Gong': 'https://www.linkedin.com/in/eri...</td>\n",
       "    </tr>\n",
       "    <tr>\n",
       "      <th>Dell Technologies</th>\n",
       "      <td>{'Daniel Donovan': 'https://www.linkedin.com/i...</td>\n",
       "    </tr>\n",
       "    <tr>\n",
       "      <th>IBM</th>\n",
       "      <td>{'James Helfrich': 'https://www.linkedin.com/i...</td>\n",
       "    </tr>\n",
       "    <tr>\n",
       "      <th>National Instruments</th>\n",
       "      <td>No results</td>\n",
       "    </tr>\n",
       "  </tbody>\n",
       "</table>\n",
       "</div>"
      ],
      "text/plain": [
       "                                                                  Scrape Results\n",
       "University of Texas at Austin                                    People Link 404\n",
       "Apple                          {'Erin Gong': 'https://www.linkedin.com/in/eri...\n",
       "Dell Technologies              {'Daniel Donovan': 'https://www.linkedin.com/i...\n",
       "IBM                            {'James Helfrich': 'https://www.linkedin.com/i...\n",
       "National Instruments                                                  No results"
      ]
     },
     "execution_count": 22,
     "metadata": {},
     "output_type": "execute_result"
    }
   ],
   "source": [
    "index = list()\n",
    "results = list()\n",
    "\n",
    "for idx, row in df.iterrows():\n",
    "    index.append(idx)\n",
    "    results.append(row[row.notnull()].values[0])\n",
    "\n",
    "clean_df = pd.DataFrame(results, index=index)\n",
    "clean_df.rename({0: 'Scrape Results'}, axis=1, inplace=True)\n",
    "clean_df.head()"
   ]
  },
  {
   "cell_type": "markdown",
   "metadata": {},
   "source": [
    "# Austin Technical Recruiters CSV build\n",
    "## Load data from mongo"
   ]
  },
  {
   "cell_type": "code",
   "execution_count": 6,
   "metadata": {
    "ExecuteTime": {
     "end_time": "2020-12-09T20:31:26.582748Z",
     "start_time": "2020-12-09T20:31:26.461293Z"
    }
   },
   "outputs": [],
   "source": [
    "mongo.connect_mongo()\n",
    "mongo.connect_coll('gal_part_proj', 'ATX_tech_rec')\n",
    "cursor = mongo.coll.find({}, {'_id':0})\n",
    "\n",
    "df_tr = pd.DataFrame(cursor)\n",
    "df_tr = df_tr.T"
   ]
  },
  {
   "cell_type": "markdown",
   "metadata": {},
   "source": [
    "## Austin Tech Recruiters pipeline error corrections\n",
    "My dataframe pipeline is failing for the tech recruiters mongo pull. Successively passing the Alumni pull with the same process. Steps to troubleshoot proceed."
   ]
  },
  {
   "cell_type": "code",
   "execution_count": 36,
   "metadata": {
    "ExecuteTime": {
     "end_time": "2020-12-09T22:39:13.651429Z",
     "start_time": "2020-12-09T22:39:13.497755Z"
    },
    "scrolled": true
   },
   "outputs": [
    {
     "data": {
      "text/html": [
       "<div>\n",
       "<style scoped>\n",
       "    .dataframe tbody tr th:only-of-type {\n",
       "        vertical-align: middle;\n",
       "    }\n",
       "\n",
       "    .dataframe tbody tr th {\n",
       "        vertical-align: top;\n",
       "    }\n",
       "\n",
       "    .dataframe thead th {\n",
       "        text-align: right;\n",
       "    }\n",
       "</style>\n",
       "<table border=\"1\" class=\"dataframe\">\n",
       "  <thead>\n",
       "    <tr style=\"text-align: right;\">\n",
       "      <th></th>\n",
       "      <th>Scrape Results</th>\n",
       "    </tr>\n",
       "  </thead>\n",
       "  <tbody>\n",
       "    <tr>\n",
       "      <th>9Gauge Partners</th>\n",
       "      <td>{'Carrie Guillory': 'https://www.linkedin.com/...</td>\n",
       "    </tr>\n",
       "    <tr>\n",
       "      <th>Abbott</th>\n",
       "      <td>{'Brandy Williams Broden': 'https://www.linked...</td>\n",
       "    </tr>\n",
       "    <tr>\n",
       "      <th>Aceable</th>\n",
       "      <td>{'Andrew Bolisay (he, him, his)': 'https://www...</td>\n",
       "    </tr>\n",
       "    <tr>\n",
       "      <th>AdbaKx</th>\n",
       "      <td>Company Page 404</td>\n",
       "    </tr>\n",
       "    <tr>\n",
       "      <th>Addison Group</th>\n",
       "      <td>{'Hattie Cox': 'https://www.linkedin.com/in/ha...</td>\n",
       "    </tr>\n",
       "  </tbody>\n",
       "</table>\n",
       "</div>"
      ],
      "text/plain": [
       "                                                    Scrape Results\n",
       "9Gauge Partners  {'Carrie Guillory': 'https://www.linkedin.com/...\n",
       "Abbott           {'Brandy Williams Broden': 'https://www.linked...\n",
       "Aceable          {'Andrew Bolisay (he, him, his)': 'https://www...\n",
       "AdbaKx                                            Company Page 404\n",
       "Addison Group    {'Hattie Cox': 'https://www.linkedin.com/in/ha..."
      ]
     },
     "execution_count": 36,
     "metadata": {},
     "output_type": "execute_result"
    }
   ],
   "source": [
    "# pipeline for ATX Tech Recruiters\n",
    "index_tr = list()\n",
    "results_tr = list()\n",
    "\n",
    "for idx, row in df_tr.iterrows():\n",
    "    index_tr.append(idx)\n",
    "    results_tr.append(row[row.notnull()].values[0])\n",
    "\n",
    "results_tr.insert(0, 'ignore')\n",
    "index_tr.insert(0, 'ignore')    \n",
    "clean_df_tr = pd.DataFrame(results_tr, index=index_tr)\n",
    "clean_df_tr.drop('ignore', axis=0, inplace=True)\n",
    "clean_df_tr.rename({0: 'Scrape Results'}, axis=1, inplace=True)\n",
    "clean_df_tr.head()"
   ]
  },
  {
   "cell_type": "markdown",
   "metadata": {},
   "source": [
    "# Convert DataFrame to CSVs for each company (observations)"
   ]
  },
  {
   "cell_type": "code",
   "execution_count": null,
   "metadata": {},
   "outputs": [],
   "source": []
  },
  {
   "cell_type": "markdown",
   "metadata": {},
   "source": [
    "# gDrive interaction testing"
   ]
  },
  {
   "cell_type": "code",
   "execution_count": 111,
   "metadata": {},
   "outputs": [],
   "source": [
    "import gspread"
   ]
  },
  {
   "cell_type": "code",
   "execution_count": null,
   "metadata": {},
   "outputs": [],
   "source": []
  }
 ],
 "metadata": {
  "kernelspec": {
   "display_name": "Python 3",
   "language": "python",
   "name": "python3"
  },
  "language_info": {
   "codemirror_mode": {
    "name": "ipython",
    "version": 3
   },
   "file_extension": ".py",
   "mimetype": "text/x-python",
   "name": "python",
   "nbconvert_exporter": "python",
   "pygments_lexer": "ipython3",
   "version": "3.9.0"
  },
  "toc": {
   "base_numbering": 1,
   "nav_menu": {},
   "number_sections": true,
   "sideBar": true,
   "skip_h1_title": false,
   "title_cell": "Table of Contents",
   "title_sidebar": "Contents",
   "toc_cell": false,
   "toc_position": {},
   "toc_section_display": true,
   "toc_window_display": false
  }
 },
 "nbformat": 4,
 "nbformat_minor": 4
}
