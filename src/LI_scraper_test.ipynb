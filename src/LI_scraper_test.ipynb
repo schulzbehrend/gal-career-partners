{
 "cells": [
  {
   "cell_type": "code",
   "execution_count": 47,
   "metadata": {},
   "outputs": [],
   "source": [
    "# libraries used in production\n",
    "from collections import defaultdict\n",
    "\n",
    "from selenium import webdriver\n",
    "from selenium.webdriver.common.keys import Keys\n",
    "import chromedriver_binary\n",
    "from bs4 import BeautifulSoup\n",
    "\n",
    "\n",
    "# testing\n",
    "from pymongo import MongoClient\n",
    "from time import sleep\n",
    "import pandas as pd"
   ]
  },
  {
   "cell_type": "code",
   "execution_count": 2,
   "metadata": {},
   "outputs": [],
   "source": [
    "def get_login():\n",
    "    '''\n",
    "    Access keys from external file and placed in a list.\n",
    "\n",
    "    Parameters\n",
    "    ----------\n",
    "    None:\n",
    "\n",
    "    Returns\n",
    "    ----------\n",
    "    creds: (list)\n",
    "        Return keys used for session.\n",
    "    '''\n",
    "    f = open('../data/LI_login.txt', 'r')\n",
    "    creds = f.readlines()\n",
    "\n",
    "    for idx, key in enumerate(creds):\n",
    "        creds[idx] = key.replace('\\n', '')\n",
    "\n",
    "    return creds"
   ]
  },
  {
   "cell_type": "code",
   "execution_count": 3,
   "metadata": {},
   "outputs": [],
   "source": [
    "def li_login():\n",
    "    '''\n",
    "    Login into LinkedIn and webdriver session for more web manipulation.\n",
    "    Sets up flow to search in LinkedIn head search bar.\n",
    "\n",
    "    Parameters\n",
    "    ----------\n",
    "    None:\n",
    "\n",
    "    Returns\n",
    "    ----------\n",
    "    driver: (selenium.webdriver.chrome.webdriver.WebDriver)\n",
    "        Return webdriver session for web manipulation.\n",
    "    '''\n",
    "    # session keys for LI instance\n",
    "    email, pw = get_login()\n",
    "    \n",
    "    # selenium webdriver\n",
    "    driver = webdriver.Chrome()\n",
    "    driver.get('https://www.linkedin.com/')\n",
    "    # log in\n",
    "    driver.find_element_by_id('session_key').send_keys(email)\n",
    "    driver.find_element_by_id('session_password').send_keys(pw)\n",
    "    driver.find_element_by_id('session_password').send_keys(Keys.RETURN)\n",
    "\n",
    "    return driver"
   ]
  },
  {
   "cell_type": "code",
   "execution_count": 96,
   "metadata": {},
   "outputs": [],
   "source": [
    "def scrape_contacts(driver, co):\n",
    "    '''\n",
    "    Search company (co) in LinkedIn head search bar and scrape that company's contacts of interest.\n",
    "    Returns dictionary of {co: {name: link}}\n",
    "\n",
    "    Parameters\n",
    "    ----------\n",
    "    driver: (selenium.webdriver.chrome.webdriver.WebDriver)\n",
    "        Webdriver session for web manipulation.\n",
    "    co: (str)\n",
    "        Company string to search in head search bar.\n",
    "\n",
    "    Returns\n",
    "    ----------\n",
    "    d: (dict)\n",
    "        Return dictionary for mongo DB insert.\n",
    "    '''\n",
    "    # XPaths\n",
    "    # Click first item when search company\n",
    "    srch_x_path = '//*[@id=\"ember16\"]/input'\n",
    "    co_x_path = '/html/body/div[7]/div[3]/div/div[2]/div/div/div/div[1]/div/div/div/div[2]/div[1]/div[1]/span/div/span/span/a'\n",
    "    ppl_x_path = '/html/body/div[7]/div[3]/div/div[3]/div[2]/div[1]/div/div/nav/ul/li[5]/a'\n",
    "    \n",
    "    \n",
    "    sleep(5)\n",
    "    driver.find_element_by_xpath(srch_x_path).send_keys(co + Keys.RETURN)\n",
    "    sleep(2)\n",
    "    try:\n",
    "        driver.find_element_by_xpath(co_x_path).click()\n",
    "        driver.find_element_by_xpath(srch_x_path).clear()\n",
    "        return 'PASS', co\n",
    "    except:\n",
    "        driver.find_element_by_xpath(srch_x_path).clear()\n",
    "        return 'FAIL', co\n",
    "    sleep(2)\n",
    "#     try:\n",
    "#         driver.find_element_by_xpath(ppl_x_path).click()\n",
    "#         return 'PASS', co\n",
    "#     except:\n",
    "#         driver.find_element_by_xpath(ppl_x_path).click()\n",
    "#         return 'FAIL', co\n",
    "    \n",
    "    \n",
    "#     driver.find_element_by_xpath('//*[@id=\"ember16\"]/input').send_keys(Keys.RETURN)\n",
    "    \n",
    "    \n",
    "    \n",
    "#     for _ in range(17):\n",
    "# #         driver.find_element_by_xpath('//*[@id=\"ember16\"]/input').send_keys(Keys.TAB)\n",
    "#         sleep(2)\n",
    "# #         print('simulating tab')\n",
    "#     sleep(3)\n",
    "    \n",
    "#     driver.find_element_by_xpath('//*[@id=\"ember16\"]/input').send_keys(Keys.RETURN)\n",
    "#     driver.find_element_by_xpath(co_x_path).click()\n",
    "\n",
    "\n"
   ]
  },
  {
   "cell_type": "code",
   "execution_count": 93,
   "metadata": {},
   "outputs": [],
   "source": [
    "srch_x_path = '//*[@id=\"ember16\"]/input'"
   ]
  },
  {
   "cell_type": "code",
   "execution_count": 95,
   "metadata": {},
   "outputs": [],
   "source": [
    "driver.find_element_by_xpath(srch_x_path).clear()"
   ]
  },
  {
   "cell_type": "code",
   "execution_count": 12,
   "metadata": {},
   "outputs": [],
   "source": [
    "driver = li_login()"
   ]
  },
  {
   "cell_type": "code",
   "execution_count": 53,
   "metadata": {},
   "outputs": [],
   "source": [
    "df = pd.read_csv('../data/glassdoor_scrape_1.csv')"
   ]
  },
  {
   "cell_type": "code",
   "execution_count": 91,
   "metadata": {},
   "outputs": [
    {
     "data": {
      "text/html": [
       "<div>\n",
       "<style scoped>\n",
       "    .dataframe tbody tr th:only-of-type {\n",
       "        vertical-align: middle;\n",
       "    }\n",
       "\n",
       "    .dataframe tbody tr th {\n",
       "        vertical-align: top;\n",
       "    }\n",
       "\n",
       "    .dataframe thead th {\n",
       "        text-align: right;\n",
       "    }\n",
       "</style>\n",
       "<table border=\"1\" class=\"dataframe\">\n",
       "  <thead>\n",
       "    <tr style=\"text-align: right;\">\n",
       "      <th></th>\n",
       "      <th>Unnamed: 0</th>\n",
       "      <th>name</th>\n",
       "      <th>size</th>\n",
       "      <th>industry</th>\n",
       "      <th>job_url</th>\n",
       "      <th>overview_url</th>\n",
       "    </tr>\n",
       "  </thead>\n",
       "  <tbody>\n",
       "    <tr>\n",
       "      <th>0</th>\n",
       "      <td>0</td>\n",
       "      <td>University of Texas at Austin</td>\n",
       "      <td>10000+ Employees</td>\n",
       "      <td>Colleges &amp; Universities</td>\n",
       "      <td>glassdoor.com/Jobs/University-of-Texas-at-Aust...</td>\n",
       "      <td>glassdoor.com/Overview/Working-at-University-o...</td>\n",
       "    </tr>\n",
       "    <tr>\n",
       "      <th>1</th>\n",
       "      <td>1</td>\n",
       "      <td>Apple</td>\n",
       "      <td>10000+ Employees</td>\n",
       "      <td>Computer Hardware &amp; Software</td>\n",
       "      <td>glassdoor.com/Jobs/Apple-Jobs-E1138.htm</td>\n",
       "      <td>glassdoor.com/Overview/Working-at-Apple-EI_IE1...</td>\n",
       "    </tr>\n",
       "    <tr>\n",
       "      <th>2</th>\n",
       "      <td>2</td>\n",
       "      <td>Dell Technologies</td>\n",
       "      <td>10000+ Employees</td>\n",
       "      <td>IT Services</td>\n",
       "      <td>glassdoor.com/Jobs/Dell-Technologies-Jobs-E132...</td>\n",
       "      <td>glassdoor.com/Overview/Working-at-Dell-Technol...</td>\n",
       "    </tr>\n",
       "    <tr>\n",
       "      <th>3</th>\n",
       "      <td>3</td>\n",
       "      <td>IBM</td>\n",
       "      <td>10000+ Employees</td>\n",
       "      <td>IT Services</td>\n",
       "      <td>glassdoor.com/Jobs/IBM-Jobs-E354.htm</td>\n",
       "      <td>glassdoor.com/Overview/Working-at-IBM-EI_IE354...</td>\n",
       "    </tr>\n",
       "    <tr>\n",
       "      <th>4</th>\n",
       "      <td>4</td>\n",
       "      <td>National Instruments</td>\n",
       "      <td>5001 to 10000 Employees</td>\n",
       "      <td>Electrical &amp; Electronic Manufacturing</td>\n",
       "      <td>glassdoor.com/Jobs/National-Instruments-Jobs-E...</td>\n",
       "      <td>glassdoor.com/Overview/Working-at-National-Ins...</td>\n",
       "    </tr>\n",
       "    <tr>\n",
       "      <th>5</th>\n",
       "      <td>5</td>\n",
       "      <td>NVIDIA</td>\n",
       "      <td>10000+ Employees</td>\n",
       "      <td>Computer Hardware &amp; Software</td>\n",
       "      <td>glassdoor.com/Jobs/NVIDIA-Jobs-E7633.htm</td>\n",
       "      <td>glassdoor.com/Overview/Working-at-NVIDIA-EI_IE...</td>\n",
       "    </tr>\n",
       "    <tr>\n",
       "      <th>6</th>\n",
       "      <td>6</td>\n",
       "      <td>Atlassian</td>\n",
       "      <td>1001 to 5000 Employees</td>\n",
       "      <td>Computer Hardware &amp; Software</td>\n",
       "      <td>glassdoor.com/Jobs/Atlassian-Jobs-E115699.htm</td>\n",
       "      <td>glassdoor.com/Overview/Working-at-Atlassian-EI...</td>\n",
       "    </tr>\n",
       "    <tr>\n",
       "      <th>7</th>\n",
       "      <td>7</td>\n",
       "      <td>Silicon Labs</td>\n",
       "      <td>1001 to 5000 Employees</td>\n",
       "      <td>Electrical &amp; Electronic Manufacturing</td>\n",
       "      <td>glassdoor.com/Jobs/Silicon-Labs-Jobs-E9122.htm</td>\n",
       "      <td>glassdoor.com/Overview/Working-at-Silicon-Labs...</td>\n",
       "    </tr>\n",
       "    <tr>\n",
       "      <th>8</th>\n",
       "      <td>8</td>\n",
       "      <td>SailPoint Technologies</td>\n",
       "      <td>1001 to 5000 Employees</td>\n",
       "      <td>Enterprise Software &amp; Network Solutions</td>\n",
       "      <td>glassdoor.com/Jobs/SailPoint-Technologies-Jobs...</td>\n",
       "      <td>glassdoor.com/Overview/Working-at-SailPoint-Te...</td>\n",
       "    </tr>\n",
       "    <tr>\n",
       "      <th>9</th>\n",
       "      <td>9</td>\n",
       "      <td>Facebook</td>\n",
       "      <td>10000+ Employees</td>\n",
       "      <td>Internet</td>\n",
       "      <td>glassdoor.com/Jobs/Facebook-Jobs-E40772.htm</td>\n",
       "      <td>glassdoor.com/Overview/Working-at-Facebook-EI_...</td>\n",
       "    </tr>\n",
       "    <tr>\n",
       "      <th>10</th>\n",
       "      <td>10</td>\n",
       "      <td>Google</td>\n",
       "      <td>10000+ Employees</td>\n",
       "      <td>Internet</td>\n",
       "      <td>glassdoor.com/Jobs/Google-Jobs-E9079.htm</td>\n",
       "      <td>glassdoor.com/Overview/Working-at-Google-EI_IE...</td>\n",
       "    </tr>\n",
       "    <tr>\n",
       "      <th>11</th>\n",
       "      <td>11</td>\n",
       "      <td>H E B</td>\n",
       "      <td>10000+ Employees</td>\n",
       "      <td>Grocery Stores &amp; Supermarkets</td>\n",
       "      <td>glassdoor.com/Jobs/H-E-B-Jobs-E2824.htm</td>\n",
       "      <td>glassdoor.com/Overview/Working-at-H-E-B-EI_IE2...</td>\n",
       "    </tr>\n",
       "    <tr>\n",
       "      <th>12</th>\n",
       "      <td>12</td>\n",
       "      <td>Cirrus Logic</td>\n",
       "      <td>1001 to 5000 Employees</td>\n",
       "      <td>Electrical &amp; Electronic Manufacturing</td>\n",
       "      <td>glassdoor.com/Jobs/Cirrus-Logic-Jobs-E1259.htm</td>\n",
       "      <td>glassdoor.com/Overview/Working-at-Cirrus-Logic...</td>\n",
       "    </tr>\n",
       "    <tr>\n",
       "      <th>13</th>\n",
       "      <td>13</td>\n",
       "      <td>Texas State</td>\n",
       "      <td>1001 to 5000 Employees</td>\n",
       "      <td>Colleges &amp; Universities</td>\n",
       "      <td>glassdoor.com/Jobs/Texas-State-Jobs-E4393.htm</td>\n",
       "      <td>glassdoor.com/Overview/Working-at-Texas-State-...</td>\n",
       "    </tr>\n",
       "    <tr>\n",
       "      <th>14</th>\n",
       "      <td>14</td>\n",
       "      <td>Cisco Systems</td>\n",
       "      <td>10000+ Employees</td>\n",
       "      <td>Computer Hardware &amp; Software</td>\n",
       "      <td>glassdoor.com/Jobs/Cisco-Systems-Jobs-E1425.htm</td>\n",
       "      <td>glassdoor.com/Overview/Working-at-Cisco-System...</td>\n",
       "    </tr>\n",
       "    <tr>\n",
       "      <th>15</th>\n",
       "      <td>15</td>\n",
       "      <td>Mentor Graphics</td>\n",
       "      <td>5001 to 10000 Employees</td>\n",
       "      <td>Computer Hardware &amp; Software</td>\n",
       "      <td>glassdoor.com/Jobs/Mentor-Graphics-Jobs-E1635.htm</td>\n",
       "      <td>glassdoor.com/Overview/Working-at-Mentor-Graph...</td>\n",
       "    </tr>\n",
       "    <tr>\n",
       "      <th>16</th>\n",
       "      <td>16</td>\n",
       "      <td>VMware</td>\n",
       "      <td>10000+ Employees</td>\n",
       "      <td>Computer Hardware &amp; Software</td>\n",
       "      <td>glassdoor.com/Jobs/VMware-Jobs-E12830.htm</td>\n",
       "      <td>glassdoor.com/Overview/Working-at-VMware-EI_IE...</td>\n",
       "    </tr>\n",
       "    <tr>\n",
       "      <th>17</th>\n",
       "      <td>17</td>\n",
       "      <td>Indeed</td>\n",
       "      <td>10000+ Employees</td>\n",
       "      <td>Internet</td>\n",
       "      <td>glassdoor.com/Jobs/Indeed-Jobs-E100561.htm</td>\n",
       "      <td>glassdoor.com/Overview/Working-at-Indeed-EI_IE...</td>\n",
       "    </tr>\n",
       "    <tr>\n",
       "      <th>18</th>\n",
       "      <td>18</td>\n",
       "      <td>Procore Technologies</td>\n",
       "      <td>1001 to 5000 Employees</td>\n",
       "      <td>Computer Hardware &amp; Software</td>\n",
       "      <td>glassdoor.com/Jobs/Procore-Technologies-Jobs-E...</td>\n",
       "      <td>glassdoor.com/Overview/Working-at-Procore-Tech...</td>\n",
       "    </tr>\n",
       "    <tr>\n",
       "      <th>19</th>\n",
       "      <td>19</td>\n",
       "      <td>Arm</td>\n",
       "      <td>5001 to 10000 Employees</td>\n",
       "      <td>Computer Hardware &amp; Software</td>\n",
       "      <td>glassdoor.com/Jobs/Arm-Jobs-E7834.htm</td>\n",
       "      <td>glassdoor.com/Overview/Working-at-Arm-EI_IE783...</td>\n",
       "    </tr>\n",
       "    <tr>\n",
       "      <th>20</th>\n",
       "      <td>20</td>\n",
       "      <td>SolarWinds</td>\n",
       "      <td>1001 to 5000 Employees</td>\n",
       "      <td>Enterprise Software &amp; Network Solutions</td>\n",
       "      <td>glassdoor.com/Jobs/SolarWinds-Jobs-E100286.htm</td>\n",
       "      <td>glassdoor.com/Overview/Working-at-SolarWinds-E...</td>\n",
       "    </tr>\n",
       "    <tr>\n",
       "      <th>21</th>\n",
       "      <td>21</td>\n",
       "      <td>Kendra Scott</td>\n",
       "      <td>1001 to 5000 Employees</td>\n",
       "      <td>Department, Clothing, &amp; Shoe Stores</td>\n",
       "      <td>glassdoor.com/Jobs/Kendra-Scott-Jobs-E701130.htm</td>\n",
       "      <td>glassdoor.com/Overview/Working-at-Kendra-Scott...</td>\n",
       "    </tr>\n",
       "    <tr>\n",
       "      <th>22</th>\n",
       "      <td>22</td>\n",
       "      <td>Informatica</td>\n",
       "      <td>1001 to 5000 Employees</td>\n",
       "      <td>Enterprise Software &amp; Network Solutions</td>\n",
       "      <td>glassdoor.com/Jobs/Informatica-Jobs-E8797.htm</td>\n",
       "      <td>glassdoor.com/Overview/Working-at-Informatica-...</td>\n",
       "    </tr>\n",
       "    <tr>\n",
       "      <th>23</th>\n",
       "      <td>23</td>\n",
       "      <td>Intel Corporation</td>\n",
       "      <td>10000+ Employees</td>\n",
       "      <td>Computer Hardware &amp; Software</td>\n",
       "      <td>glassdoor.com/Jobs/Intel-Corporation-Jobs-E151...</td>\n",
       "      <td>glassdoor.com/Overview/Working-at-Intel-Corpor...</td>\n",
       "    </tr>\n",
       "    <tr>\n",
       "      <th>24</th>\n",
       "      <td>24</td>\n",
       "      <td>Round Rock Independent School District</td>\n",
       "      <td>1001 to 5000 Employees</td>\n",
       "      <td>Preschool &amp; Child Care</td>\n",
       "      <td>glassdoor.com/Salary/Round-Rock-Independent-Sc...</td>\n",
       "      <td>glassdoor.com/Jobs/Round-Rock-Independent-Scho...</td>\n",
       "    </tr>\n",
       "  </tbody>\n",
       "</table>\n",
       "</div>"
      ],
      "text/plain": [
       "    Unnamed: 0                                    name  \\\n",
       "0            0           University of Texas at Austin   \n",
       "1            1                                   Apple   \n",
       "2            2                       Dell Technologies   \n",
       "3            3                                     IBM   \n",
       "4            4                    National Instruments   \n",
       "5            5                                  NVIDIA   \n",
       "6            6                               Atlassian   \n",
       "7            7                            Silicon Labs   \n",
       "8            8                  SailPoint Technologies   \n",
       "9            9                                Facebook   \n",
       "10          10                                  Google   \n",
       "11          11                                   H E B   \n",
       "12          12                            Cirrus Logic   \n",
       "13          13                             Texas State   \n",
       "14          14                           Cisco Systems   \n",
       "15          15                         Mentor Graphics   \n",
       "16          16                                  VMware   \n",
       "17          17                                  Indeed   \n",
       "18          18                    Procore Technologies   \n",
       "19          19                                     Arm   \n",
       "20          20                              SolarWinds   \n",
       "21          21                            Kendra Scott   \n",
       "22          22                             Informatica   \n",
       "23          23                       Intel Corporation   \n",
       "24          24  Round Rock Independent School District   \n",
       "\n",
       "                       size                                 industry  \\\n",
       "0          10000+ Employees                  Colleges & Universities   \n",
       "1          10000+ Employees             Computer Hardware & Software   \n",
       "2          10000+ Employees                              IT Services   \n",
       "3          10000+ Employees                              IT Services   \n",
       "4   5001 to 10000 Employees    Electrical & Electronic Manufacturing   \n",
       "5          10000+ Employees             Computer Hardware & Software   \n",
       "6    1001 to 5000 Employees             Computer Hardware & Software   \n",
       "7    1001 to 5000 Employees    Electrical & Electronic Manufacturing   \n",
       "8    1001 to 5000 Employees  Enterprise Software & Network Solutions   \n",
       "9          10000+ Employees                                 Internet   \n",
       "10         10000+ Employees                                 Internet   \n",
       "11         10000+ Employees            Grocery Stores & Supermarkets   \n",
       "12   1001 to 5000 Employees    Electrical & Electronic Manufacturing   \n",
       "13   1001 to 5000 Employees                  Colleges & Universities   \n",
       "14         10000+ Employees             Computer Hardware & Software   \n",
       "15  5001 to 10000 Employees             Computer Hardware & Software   \n",
       "16         10000+ Employees             Computer Hardware & Software   \n",
       "17         10000+ Employees                                 Internet   \n",
       "18   1001 to 5000 Employees             Computer Hardware & Software   \n",
       "19  5001 to 10000 Employees             Computer Hardware & Software   \n",
       "20   1001 to 5000 Employees  Enterprise Software & Network Solutions   \n",
       "21   1001 to 5000 Employees      Department, Clothing, & Shoe Stores   \n",
       "22   1001 to 5000 Employees  Enterprise Software & Network Solutions   \n",
       "23         10000+ Employees             Computer Hardware & Software   \n",
       "24   1001 to 5000 Employees                   Preschool & Child Care   \n",
       "\n",
       "                                              job_url  \\\n",
       "0   glassdoor.com/Jobs/University-of-Texas-at-Aust...   \n",
       "1             glassdoor.com/Jobs/Apple-Jobs-E1138.htm   \n",
       "2   glassdoor.com/Jobs/Dell-Technologies-Jobs-E132...   \n",
       "3                glassdoor.com/Jobs/IBM-Jobs-E354.htm   \n",
       "4   glassdoor.com/Jobs/National-Instruments-Jobs-E...   \n",
       "5            glassdoor.com/Jobs/NVIDIA-Jobs-E7633.htm   \n",
       "6       glassdoor.com/Jobs/Atlassian-Jobs-E115699.htm   \n",
       "7      glassdoor.com/Jobs/Silicon-Labs-Jobs-E9122.htm   \n",
       "8   glassdoor.com/Jobs/SailPoint-Technologies-Jobs...   \n",
       "9         glassdoor.com/Jobs/Facebook-Jobs-E40772.htm   \n",
       "10           glassdoor.com/Jobs/Google-Jobs-E9079.htm   \n",
       "11            glassdoor.com/Jobs/H-E-B-Jobs-E2824.htm   \n",
       "12     glassdoor.com/Jobs/Cirrus-Logic-Jobs-E1259.htm   \n",
       "13      glassdoor.com/Jobs/Texas-State-Jobs-E4393.htm   \n",
       "14    glassdoor.com/Jobs/Cisco-Systems-Jobs-E1425.htm   \n",
       "15  glassdoor.com/Jobs/Mentor-Graphics-Jobs-E1635.htm   \n",
       "16          glassdoor.com/Jobs/VMware-Jobs-E12830.htm   \n",
       "17         glassdoor.com/Jobs/Indeed-Jobs-E100561.htm   \n",
       "18  glassdoor.com/Jobs/Procore-Technologies-Jobs-E...   \n",
       "19              glassdoor.com/Jobs/Arm-Jobs-E7834.htm   \n",
       "20     glassdoor.com/Jobs/SolarWinds-Jobs-E100286.htm   \n",
       "21   glassdoor.com/Jobs/Kendra-Scott-Jobs-E701130.htm   \n",
       "22      glassdoor.com/Jobs/Informatica-Jobs-E8797.htm   \n",
       "23  glassdoor.com/Jobs/Intel-Corporation-Jobs-E151...   \n",
       "24  glassdoor.com/Salary/Round-Rock-Independent-Sc...   \n",
       "\n",
       "                                         overview_url  \n",
       "0   glassdoor.com/Overview/Working-at-University-o...  \n",
       "1   glassdoor.com/Overview/Working-at-Apple-EI_IE1...  \n",
       "2   glassdoor.com/Overview/Working-at-Dell-Technol...  \n",
       "3   glassdoor.com/Overview/Working-at-IBM-EI_IE354...  \n",
       "4   glassdoor.com/Overview/Working-at-National-Ins...  \n",
       "5   glassdoor.com/Overview/Working-at-NVIDIA-EI_IE...  \n",
       "6   glassdoor.com/Overview/Working-at-Atlassian-EI...  \n",
       "7   glassdoor.com/Overview/Working-at-Silicon-Labs...  \n",
       "8   glassdoor.com/Overview/Working-at-SailPoint-Te...  \n",
       "9   glassdoor.com/Overview/Working-at-Facebook-EI_...  \n",
       "10  glassdoor.com/Overview/Working-at-Google-EI_IE...  \n",
       "11  glassdoor.com/Overview/Working-at-H-E-B-EI_IE2...  \n",
       "12  glassdoor.com/Overview/Working-at-Cirrus-Logic...  \n",
       "13  glassdoor.com/Overview/Working-at-Texas-State-...  \n",
       "14  glassdoor.com/Overview/Working-at-Cisco-System...  \n",
       "15  glassdoor.com/Overview/Working-at-Mentor-Graph...  \n",
       "16  glassdoor.com/Overview/Working-at-VMware-EI_IE...  \n",
       "17  glassdoor.com/Overview/Working-at-Indeed-EI_IE...  \n",
       "18  glassdoor.com/Overview/Working-at-Procore-Tech...  \n",
       "19  glassdoor.com/Overview/Working-at-Arm-EI_IE783...  \n",
       "20  glassdoor.com/Overview/Working-at-SolarWinds-E...  \n",
       "21  glassdoor.com/Overview/Working-at-Kendra-Scott...  \n",
       "22  glassdoor.com/Overview/Working-at-Informatica-...  \n",
       "23  glassdoor.com/Overview/Working-at-Intel-Corpor...  \n",
       "24  glassdoor.com/Jobs/Round-Rock-Independent-Scho...  "
      ]
     },
     "execution_count": 91,
     "metadata": {},
     "output_type": "execute_result"
    }
   ],
   "source": [
    "df.head(25)"
   ]
  },
  {
   "cell_type": "code",
   "execution_count": 88,
   "metadata": {},
   "outputs": [
    {
     "data": {
      "text/plain": [
       "False"
      ]
     },
     "execution_count": 88,
     "metadata": {},
     "output_type": "execute_result"
    }
   ],
   "source": [
    "binom_schools = df.industry()'Colleges' in df.industry[2]"
   ]
  },
  {
   "cell_type": "code",
   "execution_count": 69,
   "metadata": {},
   "outputs": [],
   "source": [
    "cos = pd.Series(df.name.unique())"
   ]
  },
  {
   "cell_type": "code",
   "execution_count": 89,
   "metadata": {},
   "outputs": [],
   "source": [
    "test_cos = cos[1:6]"
   ]
  },
  {
   "cell_type": "code",
   "execution_count": 92,
   "metadata": {},
   "outputs": [
    {
     "data": {
      "text/plain": [
       "1                   Apple\n",
       "2       Dell Technologies\n",
       "3                     IBM\n",
       "4    National Instruments\n",
       "5                  NVIDIA\n",
       "dtype: object"
      ]
     },
     "execution_count": 92,
     "metadata": {},
     "output_type": "execute_result"
    }
   ],
   "source": [
    "test_cos"
   ]
  },
  {
   "cell_type": "code",
   "execution_count": 85,
   "metadata": {},
   "outputs": [],
   "source": [
    "test_series = test_cos.apply(lambda x: scrape_contacts(driver, x))"
   ]
  },
  {
   "cell_type": "code",
   "execution_count": 77,
   "metadata": {},
   "outputs": [
    {
     "data": {
      "text/plain": [
       "0    (FAIL, University of Texas at Austin)\n",
       "1                            (FAIL, Apple)\n",
       "2                (FAIL, Dell Technologies)\n",
       "3                              (FAIL, IBM)\n",
       "4             (FAIL, National Instruments)\n",
       "dtype: object"
      ]
     },
     "execution_count": 77,
     "metadata": {},
     "output_type": "execute_result"
    }
   ],
   "source": [
    "test_series"
   ]
  },
  {
   "cell_type": "code",
   "execution_count": 56,
   "metadata": {},
   "outputs": [],
   "source": [
    "scrape_contacts(driver, '3m')"
   ]
  },
  {
   "cell_type": "markdown",
   "metadata": {},
   "source": [
    "### unused in functions. Here for reference."
   ]
  },
  {
   "cell_type": "code",
   "execution_count": 135,
   "metadata": {},
   "outputs": [
    {
     "data": {
      "text/plain": [
       "'TODO: .click() with xpath'"
      ]
     },
     "execution_count": 135,
     "metadata": {},
     "output_type": "execute_result"
    }
   ],
   "source": [
    "email, pw = get_login()\n",
    "# pull pw/login from external file\n",
    "driver = webdriver.Chrome()\n",
    "# inst chrome webdriver\n",
    "driver.get('https://www.linkedin.com/')\n",
    "# open LI page\n",
    "driver.find_element_by_id('session_key').send_keys(email)\n",
    "# pass in email\n",
    "driver.find_element_by_id('session_password').send_keys(pw)\n",
    "# pass in pw\n",
    "driver.find_element_by_xpath('/html/body/main/section[1]/div[2]/form/button').click()\n",
    "'''TODO: .click() with xpath'''\n",
    "\n",
    "# driver.find_element_by_id('homepage-basic_signin-form_submit-button').click()"
   ]
  },
  {
   "cell_type": "code",
   "execution_count": 136,
   "metadata": {},
   "outputs": [],
   "source": [
    "driver.find_element_by_xpath('//*[@id=\"ember16\"]/input').send_keys(co_test)"
   ]
  },
  {
   "cell_type": "code",
   "execution_count": 137,
   "metadata": {},
   "outputs": [],
   "source": [
    "driver.find_element_by_xpath('//*[@id=\"ember16\"]/input').send_keys(Keys.RETURN)\n",
    "# enter search for co. name"
   ]
  },
  {
   "cell_type": "code",
   "execution_count": 22,
   "metadata": {},
   "outputs": [],
   "source": [
    "co_x_path = '/html/body/div[7]/div[3]/div/div[2]/div/div[2]/div/div/div/ul/li[1]/div/div/div[2]/a/h3'"
   ]
  },
  {
   "cell_type": "code",
   "execution_count": 23,
   "metadata": {},
   "outputs": [
    {
     "ename": "NoSuchElementException",
     "evalue": "Message: no such element: Unable to locate element: {\"method\":\"xpath\",\"selector\":\"/html/body/div[7]/div[3]/div/div[2]/div/div[2]/div/div/div/ul/li[1]/div/div/div[2]/a/h3\"}\n  (Session info: chrome=84.0.4147.89)\n",
     "output_type": "error",
     "traceback": [
      "\u001b[0;31m---------------------------------------------------------------------------\u001b[0m",
      "\u001b[0;31mNoSuchElementException\u001b[0m                    Traceback (most recent call last)",
      "\u001b[0;32m<ipython-input-23-1651da34245e>\u001b[0m in \u001b[0;36m<module>\u001b[0;34m\u001b[0m\n\u001b[0;32m----> 1\u001b[0;31m \u001b[0mdriver\u001b[0m\u001b[0;34m.\u001b[0m\u001b[0mfind_element_by_xpath\u001b[0m\u001b[0;34m(\u001b[0m\u001b[0mco_x_path\u001b[0m\u001b[0;34m)\u001b[0m\u001b[0;34m.\u001b[0m\u001b[0mclick\u001b[0m\u001b[0;34m(\u001b[0m\u001b[0;34m)\u001b[0m\u001b[0;34m\u001b[0m\u001b[0;34m\u001b[0m\u001b[0m\n\u001b[0m\u001b[1;32m      2\u001b[0m \u001b[0;31m# click co. link\u001b[0m\u001b[0;34m\u001b[0m\u001b[0;34m\u001b[0m\u001b[0;34m\u001b[0m\u001b[0m\n",
      "\u001b[0;32m~/anaconda3/lib/python3.7/site-packages/selenium/webdriver/remote/webdriver.py\u001b[0m in \u001b[0;36mfind_element_by_xpath\u001b[0;34m(self, xpath)\u001b[0m\n\u001b[1;32m    392\u001b[0m             \u001b[0melement\u001b[0m \u001b[0;34m=\u001b[0m \u001b[0mdriver\u001b[0m\u001b[0;34m.\u001b[0m\u001b[0mfind_element_by_xpath\u001b[0m\u001b[0;34m(\u001b[0m\u001b[0;34m'//div/td[1]'\u001b[0m\u001b[0;34m)\u001b[0m\u001b[0;34m\u001b[0m\u001b[0;34m\u001b[0m\u001b[0m\n\u001b[1;32m    393\u001b[0m         \"\"\"\n\u001b[0;32m--> 394\u001b[0;31m         \u001b[0;32mreturn\u001b[0m \u001b[0mself\u001b[0m\u001b[0;34m.\u001b[0m\u001b[0mfind_element\u001b[0m\u001b[0;34m(\u001b[0m\u001b[0mby\u001b[0m\u001b[0;34m=\u001b[0m\u001b[0mBy\u001b[0m\u001b[0;34m.\u001b[0m\u001b[0mXPATH\u001b[0m\u001b[0;34m,\u001b[0m \u001b[0mvalue\u001b[0m\u001b[0;34m=\u001b[0m\u001b[0mxpath\u001b[0m\u001b[0;34m)\u001b[0m\u001b[0;34m\u001b[0m\u001b[0;34m\u001b[0m\u001b[0m\n\u001b[0m\u001b[1;32m    395\u001b[0m \u001b[0;34m\u001b[0m\u001b[0m\n\u001b[1;32m    396\u001b[0m     \u001b[0;32mdef\u001b[0m \u001b[0mfind_elements_by_xpath\u001b[0m\u001b[0;34m(\u001b[0m\u001b[0mself\u001b[0m\u001b[0;34m,\u001b[0m \u001b[0mxpath\u001b[0m\u001b[0;34m)\u001b[0m\u001b[0;34m:\u001b[0m\u001b[0;34m\u001b[0m\u001b[0;34m\u001b[0m\u001b[0m\n",
      "\u001b[0;32m~/anaconda3/lib/python3.7/site-packages/selenium/webdriver/remote/webdriver.py\u001b[0m in \u001b[0;36mfind_element\u001b[0;34m(self, by, value)\u001b[0m\n\u001b[1;32m    976\u001b[0m         return self.execute(Command.FIND_ELEMENT, {\n\u001b[1;32m    977\u001b[0m             \u001b[0;34m'using'\u001b[0m\u001b[0;34m:\u001b[0m \u001b[0mby\u001b[0m\u001b[0;34m,\u001b[0m\u001b[0;34m\u001b[0m\u001b[0;34m\u001b[0m\u001b[0m\n\u001b[0;32m--> 978\u001b[0;31m             'value': value})['value']\n\u001b[0m\u001b[1;32m    979\u001b[0m \u001b[0;34m\u001b[0m\u001b[0m\n\u001b[1;32m    980\u001b[0m     \u001b[0;32mdef\u001b[0m \u001b[0mfind_elements\u001b[0m\u001b[0;34m(\u001b[0m\u001b[0mself\u001b[0m\u001b[0;34m,\u001b[0m \u001b[0mby\u001b[0m\u001b[0;34m=\u001b[0m\u001b[0mBy\u001b[0m\u001b[0;34m.\u001b[0m\u001b[0mID\u001b[0m\u001b[0;34m,\u001b[0m \u001b[0mvalue\u001b[0m\u001b[0;34m=\u001b[0m\u001b[0;32mNone\u001b[0m\u001b[0;34m)\u001b[0m\u001b[0;34m:\u001b[0m\u001b[0;34m\u001b[0m\u001b[0;34m\u001b[0m\u001b[0m\n",
      "\u001b[0;32m~/anaconda3/lib/python3.7/site-packages/selenium/webdriver/remote/webdriver.py\u001b[0m in \u001b[0;36mexecute\u001b[0;34m(self, driver_command, params)\u001b[0m\n\u001b[1;32m    319\u001b[0m         \u001b[0mresponse\u001b[0m \u001b[0;34m=\u001b[0m \u001b[0mself\u001b[0m\u001b[0;34m.\u001b[0m\u001b[0mcommand_executor\u001b[0m\u001b[0;34m.\u001b[0m\u001b[0mexecute\u001b[0m\u001b[0;34m(\u001b[0m\u001b[0mdriver_command\u001b[0m\u001b[0;34m,\u001b[0m \u001b[0mparams\u001b[0m\u001b[0;34m)\u001b[0m\u001b[0;34m\u001b[0m\u001b[0;34m\u001b[0m\u001b[0m\n\u001b[1;32m    320\u001b[0m         \u001b[0;32mif\u001b[0m \u001b[0mresponse\u001b[0m\u001b[0;34m:\u001b[0m\u001b[0;34m\u001b[0m\u001b[0;34m\u001b[0m\u001b[0m\n\u001b[0;32m--> 321\u001b[0;31m             \u001b[0mself\u001b[0m\u001b[0;34m.\u001b[0m\u001b[0merror_handler\u001b[0m\u001b[0;34m.\u001b[0m\u001b[0mcheck_response\u001b[0m\u001b[0;34m(\u001b[0m\u001b[0mresponse\u001b[0m\u001b[0;34m)\u001b[0m\u001b[0;34m\u001b[0m\u001b[0;34m\u001b[0m\u001b[0m\n\u001b[0m\u001b[1;32m    322\u001b[0m             response['value'] = self._unwrap_value(\n\u001b[1;32m    323\u001b[0m                 response.get('value', None))\n",
      "\u001b[0;32m~/anaconda3/lib/python3.7/site-packages/selenium/webdriver/remote/errorhandler.py\u001b[0m in \u001b[0;36mcheck_response\u001b[0;34m(self, response)\u001b[0m\n\u001b[1;32m    240\u001b[0m                 \u001b[0malert_text\u001b[0m \u001b[0;34m=\u001b[0m \u001b[0mvalue\u001b[0m\u001b[0;34m[\u001b[0m\u001b[0;34m'alert'\u001b[0m\u001b[0;34m]\u001b[0m\u001b[0;34m.\u001b[0m\u001b[0mget\u001b[0m\u001b[0;34m(\u001b[0m\u001b[0;34m'text'\u001b[0m\u001b[0;34m)\u001b[0m\u001b[0;34m\u001b[0m\u001b[0;34m\u001b[0m\u001b[0m\n\u001b[1;32m    241\u001b[0m             \u001b[0;32mraise\u001b[0m \u001b[0mexception_class\u001b[0m\u001b[0;34m(\u001b[0m\u001b[0mmessage\u001b[0m\u001b[0;34m,\u001b[0m \u001b[0mscreen\u001b[0m\u001b[0;34m,\u001b[0m \u001b[0mstacktrace\u001b[0m\u001b[0;34m,\u001b[0m \u001b[0malert_text\u001b[0m\u001b[0;34m)\u001b[0m\u001b[0;34m\u001b[0m\u001b[0;34m\u001b[0m\u001b[0m\n\u001b[0;32m--> 242\u001b[0;31m         \u001b[0;32mraise\u001b[0m \u001b[0mexception_class\u001b[0m\u001b[0;34m(\u001b[0m\u001b[0mmessage\u001b[0m\u001b[0;34m,\u001b[0m \u001b[0mscreen\u001b[0m\u001b[0;34m,\u001b[0m \u001b[0mstacktrace\u001b[0m\u001b[0;34m)\u001b[0m\u001b[0;34m\u001b[0m\u001b[0;34m\u001b[0m\u001b[0m\n\u001b[0m\u001b[1;32m    243\u001b[0m \u001b[0;34m\u001b[0m\u001b[0m\n\u001b[1;32m    244\u001b[0m     \u001b[0;32mdef\u001b[0m \u001b[0m_value_or_default\u001b[0m\u001b[0;34m(\u001b[0m\u001b[0mself\u001b[0m\u001b[0;34m,\u001b[0m \u001b[0mobj\u001b[0m\u001b[0;34m,\u001b[0m \u001b[0mkey\u001b[0m\u001b[0;34m,\u001b[0m \u001b[0mdefault\u001b[0m\u001b[0;34m)\u001b[0m\u001b[0;34m:\u001b[0m\u001b[0;34m\u001b[0m\u001b[0;34m\u001b[0m\u001b[0m\n",
      "\u001b[0;31mNoSuchElementException\u001b[0m: Message: no such element: Unable to locate element: {\"method\":\"xpath\",\"selector\":\"/html/body/div[7]/div[3]/div/div[2]/div/div[2]/div/div/div/ul/li[1]/div/div/div[2]/a/h3\"}\n  (Session info: chrome=84.0.4147.89)\n"
     ]
    }
   ],
   "source": [
    "driver.find_element_by_xpath(co_x_path).click()\n",
    "# click co. link"
   ]
  },
  {
   "cell_type": "code",
   "execution_count": 48,
   "metadata": {},
   "outputs": [],
   "source": [
    "ppl_x_path = '/html/body/div[7]/div[3]/div/div[3]/div[2]/div[1]/div/div/nav/ul/li[5]/a'"
   ]
  },
  {
   "cell_type": "code",
   "execution_count": 49,
   "metadata": {},
   "outputs": [],
   "source": [
    "driver.find_element_by_xpath(ppl_x_path).click()\n",
    "# click People"
   ]
  },
  {
   "cell_type": "markdown",
   "metadata": {},
   "source": [
    "## ~~edit button testing~~\n",
    "### moving to general search, b/c more flexibility in search"
   ]
  },
  {
   "cell_type": "code",
   "execution_count": 11,
   "metadata": {},
   "outputs": [],
   "source": [
    "gen_search_xpath = '/html/body/div[7]/div[3]/div/div[3]/div[2]/div[2]/div[1]/div[2]/div/div/div/input'\n",
    "gal_alum = 'galvanize'\n",
    "tech_rec = 'technical recruiter'"
   ]
  },
  {
   "cell_type": "code",
   "execution_count": 12,
   "metadata": {},
   "outputs": [],
   "source": [
    "driver.find_element_by_xpath(gen_search_xpath).send_keys(gal_alum)\n",
    "driver.find_element_by_xpath(gen_search_xpath).send_keys(Keys.RETURN)"
   ]
  },
  {
   "cell_type": "code",
   "execution_count": 13,
   "metadata": {},
   "outputs": [],
   "source": [
    "r = driver.page_source"
   ]
  },
  {
   "cell_type": "code",
   "execution_count": 14,
   "metadata": {},
   "outputs": [],
   "source": [
    "soup = BeautifulSoup(r, 'html.parser')"
   ]
  },
  {
   "cell_type": "code",
   "execution_count": 94,
   "metadata": {},
   "outputs": [],
   "source": [
    "results = soup.find('ul', 'org-people-profiles-module__profile-list')"
   ]
  },
  {
   "cell_type": "code",
   "execution_count": 95,
   "metadata": {},
   "outputs": [
    {
     "data": {
      "text/plain": [
       "101"
      ]
     },
     "execution_count": 95,
     "metadata": {},
     "output_type": "execute_result"
    }
   ],
   "source": [
    "len(results)"
   ]
  },
  {
   "cell_type": "code",
   "execution_count": 96,
   "metadata": {},
   "outputs": [],
   "source": [
    "contact_elements = results.find_all('li', 'org-people-profiles-module__profile-item')"
   ]
  },
  {
   "cell_type": "markdown",
   "metadata": {},
   "source": [
    "### iterate through indecies of `contact_elements` to pull k-v pairs"
   ]
  },
  {
   "cell_type": "code",
   "execution_count": 103,
   "metadata": {},
   "outputs": [
    {
     "data": {
      "text/plain": [
       "'Erin Gong'"
      ]
     },
     "execution_count": 103,
     "metadata": {},
     "output_type": "execute_result"
    }
   ],
   "source": [
    "#k example\n",
    "name = contact_elements[0].find('div', 'org-people-profile-card__profile-title t-black lt-line-clamp lt-line-clamp--single-line ember-view').text.rstrip()\n",
    "name = name.replace(' ', '', 2)\n",
    "name"
   ]
  },
  {
   "cell_type": "code",
   "execution_count": 107,
   "metadata": {},
   "outputs": [
    {
     "data": {
      "text/plain": [
       "'https://www.linkedin.com/in/eringong/'"
      ]
     },
     "execution_count": 107,
     "metadata": {},
     "output_type": "execute_result"
    }
   ],
   "source": [
    "#v example\n",
    "#link to contact\n",
    "link = 'https://www.linkedin.com' + contact_elements[0].a['href']\n",
    "link"
   ]
  },
  {
   "cell_type": "code",
   "execution_count": 118,
   "metadata": {},
   "outputs": [],
   "source": [
    "# for loop and dictionary pop init\n",
    "d = defaultdict(dict)\n",
    "\n",
    "for contact in contact_elements:\n",
    "    name = contact.find('div', 'org-people-profile-card__profile-title t-black lt-line-clamp lt-line-clamp--single-line ember-view').text.rstrip()\n",
    "    name = name.replace(' ', '', 2)\n",
    "    link = 'https://www.linkedin.com' + contact.a['href']\n",
    "    \n",
    "    if co_test not in d:\n",
    "        d[co_test]\n",
    "        \n",
    "    if name not in co_test:\n",
    "        d[co_test][name] = link\n",
    "        "
   ]
  },
  {
   "cell_type": "code",
   "execution_count": 119,
   "metadata": {},
   "outputs": [
    {
     "data": {
      "text/plain": [
       "defaultdict(dict,\n",
       "            {'apple': {'Erin Gong': 'https://www.linkedin.com/in/eringong/',\n",
       "              'Kendal Holcombe (Chilcott)': 'https://www.linkedin.com/in/kendal-holcombe/',\n",
       "              'Ryan Hunter': 'https://www.linkedin.com/in/ryan-hunter-1313a53b/',\n",
       "              'Bob Mickus': 'https://www.linkedin.com/in/bobmickus/',\n",
       "              'Isaac Lessard': 'https://www.linkedin.com/in/isaaclessard/',\n",
       "              'Zhifan (Jeff) Sang': 'https://www.linkedin.com/in/zfsang/',\n",
       "              'Sierra Murphy': 'https://www.linkedin.com/in/sierra-murphy-81b75ba2/',\n",
       "              'Hao Ding': 'https://www.linkedin.com/in/haoding1/',\n",
       "              'Udaiveer Singh': 'https://www.linkedin.com/in/udaiveers/',\n",
       "              'Kevin Becerra': 'https://www.linkedin.com/in/kevinbece55/',\n",
       "              'Charlie (Changsong) Ding': 'https://www.linkedin.com/in/changsongding/',\n",
       "              'Bryce Schmidtchen': 'https://www.linkedin.com/in/bryceschmidtchen/',\n",
       "              'Omar Sobh': 'https://www.linkedin.com/in/omarsobh/',\n",
       "              'Wolfgang Morton': 'https://www.linkedin.com/in/wolfgangmorton/',\n",
       "              'Carly Marasco': 'https://www.linkedin.com/in/carlymarasco/',\n",
       "              'Eddie Burgess': 'https://www.linkedin.com/in/eddieburgess/',\n",
       "              'Dawn Braggs': 'https://www.linkedin.com/in/dawn-braggs-abb64291/',\n",
       "              'Hamlet Tamazian': 'https://www.linkedin.com/in/hamlettamazian/',\n",
       "              'Eddy Caldas': 'https://www.linkedin.com/in/eddy-caldas/',\n",
       "              'JJ Vélez': 'https://www.linkedin.com/in/velez-jose/',\n",
       "              'Kimberly Hancock-Mudge': 'https://www.linkedin.com/in/kbhmudge/',\n",
       "              'Antwan Little': 'https://www.linkedin.com/in/antwanlittle/',\n",
       "              'Carrie Kirkpatrick': 'https://www.linkedin.com/in/carrie-kirkpatrick-40831912/',\n",
       "              'Kenneth Tarr': 'https://www.linkedin.com/in/kennethtarr/',\n",
       "              'Zia Rauwolf': 'https://www.linkedin.com/in/zia-rauwolf/'}})"
      ]
     },
     "execution_count": 119,
     "metadata": {},
     "output_type": "execute_result"
    }
   ],
   "source": [
    "d"
   ]
  },
  {
   "cell_type": "code",
   "execution_count": null,
   "metadata": {},
   "outputs": [],
   "source": []
  },
  {
   "cell_type": "markdown",
   "metadata": {},
   "source": [
    "Ok, interacting with LI just fine. ~~Need to refine 'add' edu \"Galvanize\" and~~ Move to general search for flexbility. Able to search co. for my desired fields... Need to scrape portion of return employees. "
   ]
  },
  {
   "cell_type": "markdown",
   "metadata": {},
   "source": [
    "--> ~~beautifulsoup to scrape return cells for (k) employee name (v) url to profile~~"
   ]
  },
  {
   "cell_type": "markdown",
   "metadata": {},
   "source": [
    "--> script Just portion. Just need DF out. for list of co's to search"
   ]
  },
  {
   "cell_type": "markdown",
   "metadata": {},
   "source": [
    "--> MongoDB for k-v's"
   ]
  },
  {
   "cell_type": "markdown",
   "metadata": {},
   "source": [
    "--> Dataframes\n",
    "\n",
    "*perhaps load into psql for py wrapper struc. RDBMS experience*"
   ]
  }
 ],
 "metadata": {
  "kernelspec": {
   "display_name": "Python 3",
   "language": "python",
   "name": "python3"
  },
  "language_info": {
   "codemirror_mode": {
    "name": "ipython",
    "version": 3
   },
   "file_extension": ".py",
   "mimetype": "text/x-python",
   "name": "python",
   "nbconvert_exporter": "python",
   "pygments_lexer": "ipython3",
   "version": "3.7.7"
  }
 },
 "nbformat": 4,
 "nbformat_minor": 4
}
