{
 "cells": [
  {
   "cell_type": "code",
   "execution_count": 1,
   "metadata": {},
   "outputs": [],
   "source": [
    "# libraries used in production\n",
    "from collections import defaultdict\n",
    "\n",
    "from selenium import webdriver\n",
    "from selenium.webdriver.common.keys import Keys\n",
    "import chromedriver_binary\n",
    "from bs4 import BeautifulSoup\n",
    "\n",
    "\n",
    "# testing\n",
    "from pymongo import MongoClient\n",
    "from time import sleep\n",
    "import pandas as pd"
   ]
  },
  {
   "cell_type": "code",
   "execution_count": 2,
   "metadata": {},
   "outputs": [],
   "source": [
    "def get_login():\n",
    "    '''\n",
    "    Access keys from external file and placed in a list.\n",
    "\n",
    "    Parameters\n",
    "    ----------\n",
    "    None:\n",
    "\n",
    "    Returns\n",
    "    ----------\n",
    "    creds: (list)\n",
    "        Return keys used for session.\n",
    "    '''\n",
    "    f = open('../data/LI_login.txt', 'r')\n",
    "    creds = f.readlines()\n",
    "\n",
    "    for idx, key in enumerate(creds):\n",
    "        creds[idx] = key.replace('\\n', '')\n",
    "\n",
    "    return creds"
   ]
  },
  {
   "cell_type": "code",
   "execution_count": 3,
   "metadata": {},
   "outputs": [],
   "source": [
    "def li_login():\n",
    "    '''\n",
    "    Login into LinkedIn and webdriver session for more web manipulation.\n",
    "    Sets up flow to search in LinkedIn head search bar.\n",
    "\n",
    "    Parameters\n",
    "    ----------\n",
    "    None:\n",
    "\n",
    "    Returns\n",
    "    ----------\n",
    "    driver: (selenium.webdriver.chrome.webdriver.WebDriver)\n",
    "        Return webdriver session for web manipulation.\n",
    "    '''\n",
    "    # session keys for LI instance\n",
    "    email, pw = get_login()\n",
    "    \n",
    "    # selenium webdriver\n",
    "    driver = webdriver.Chrome()\n",
    "    driver.get('https://www.linkedin.com/')\n",
    "    # log in\n",
    "    driver.find_element_by_id('session_key').send_keys(email)\n",
    "    driver.find_element_by_id('session_password').send_keys(pw)\n",
    "    driver.find_element_by_id('session_password').send_keys(Keys.RETURN)\n",
    "\n",
    "    return driver"
   ]
  },
  {
   "cell_type": "code",
   "execution_count": 4,
   "metadata": {},
   "outputs": [],
   "source": [
    "def scrape_contacts(driver, co):\n",
    "    '''\n",
    "    Search company (co) in LinkedIn head search bar and scrape that company's contacts of interest.\n",
    "    Returns dictionary of {co: {name: link}}\n",
    "\n",
    "    Parameters\n",
    "    ----------\n",
    "    driver: (selenium.webdriver.chrome.webdriver.WebDriver)\n",
    "        Webdriver session for web manipulation.\n",
    "    co: (str)\n",
    "        Company string to search in head search bar.\n",
    "\n",
    "    Returns\n",
    "    ----------\n",
    "    d: (dict)\n",
    "        Return dictionary for mongo DB insert.\n",
    "    '''\n",
    "    # XPaths\n",
    "    # Click first item when search company\n",
    "    srch_x_path = '//*[@id=\"ember16\"]/input'\n",
    "    co_x_path = '/html/body/div[7]/div[3]/div/div[2]/div/div/div/div[1]/div/div/div/div[2]/div[1]/div[1]/span/div/span/span/a'\n",
    "    ppl_x_path = '/html/body/div[7]/div[3]/div/div[3]/div[2]/div[1]/div/div/nav/ul/li[5]/a'\n",
    "    \n",
    "    \n",
    "    sleep(5)\n",
    "    driver.find_element_by_xpath(srch_x_path).send_keys(co + Keys.RETURN)\n",
    "    sleep(2)\n",
    "    try:\n",
    "        driver.find_element_by_xpath(co_x_path).click()\n",
    "        driver.find_element_by_xpath(srch_x_path).clear()\n",
    "        return 'PASS', co\n",
    "    except:\n",
    "        driver.find_element_by_xpath(srch_x_path).clear()\n",
    "        return 'FAIL', co\n",
    "    sleep(2)\n",
    "#     try:\n",
    "#         driver.find_element_by_xpath(ppl_x_path).click()\n",
    "#         return 'PASS', co\n",
    "#     except:\n",
    "#         driver.find_element_by_xpath(ppl_x_path).click()\n",
    "#         return 'FAIL', co\n",
    "    \n",
    "    \n",
    "#     driver.find_element_by_xpath('//*[@id=\"ember16\"]/input').send_keys(Keys.RETURN)\n",
    "    \n",
    "    \n",
    "    \n",
    "#     for _ in range(17):\n",
    "# #         driver.find_element_by_xpath('//*[@id=\"ember16\"]/input').send_keys(Keys.TAB)\n",
    "#         sleep(2)\n",
    "# #         print('simulating tab')\n",
    "#     sleep(3)\n",
    "    \n",
    "#     driver.find_element_by_xpath('//*[@id=\"ember16\"]/input').send_keys(Keys.RETURN)\n",
    "#     driver.find_element_by_xpath(co_x_path).click()\n",
    "\n",
    "\n"
   ]
  },
  {
   "cell_type": "code",
   "execution_count": 5,
   "metadata": {},
   "outputs": [],
   "source": [
    "driver = li_login()"
   ]
  },
  {
   "cell_type": "code",
   "execution_count": 7,
   "metadata": {},
   "outputs": [],
   "source": [
    "df = pd.read_csv('../data/glassdoor_scrape_1.csv')"
   ]
  },
  {
   "cell_type": "code",
   "execution_count": 8,
   "metadata": {},
   "outputs": [
    {
     "data": {
      "text/html": [
       "<div>\n",
       "<style scoped>\n",
       "    .dataframe tbody tr th:only-of-type {\n",
       "        vertical-align: middle;\n",
       "    }\n",
       "\n",
       "    .dataframe tbody tr th {\n",
       "        vertical-align: top;\n",
       "    }\n",
       "\n",
       "    .dataframe thead th {\n",
       "        text-align: right;\n",
       "    }\n",
       "</style>\n",
       "<table border=\"1\" class=\"dataframe\">\n",
       "  <thead>\n",
       "    <tr style=\"text-align: right;\">\n",
       "      <th></th>\n",
       "      <th>Unnamed: 0</th>\n",
       "      <th>name</th>\n",
       "      <th>size</th>\n",
       "      <th>industry</th>\n",
       "      <th>job_url</th>\n",
       "      <th>overview_url</th>\n",
       "    </tr>\n",
       "  </thead>\n",
       "  <tbody>\n",
       "    <tr>\n",
       "      <th>0</th>\n",
       "      <td>0</td>\n",
       "      <td>University of Texas at Austin</td>\n",
       "      <td>10000+ Employees</td>\n",
       "      <td>Colleges &amp; Universities</td>\n",
       "      <td>glassdoor.com/Jobs/University-of-Texas-at-Aust...</td>\n",
       "      <td>glassdoor.com/Overview/Working-at-University-o...</td>\n",
       "    </tr>\n",
       "    <tr>\n",
       "      <th>1</th>\n",
       "      <td>1</td>\n",
       "      <td>Apple</td>\n",
       "      <td>10000+ Employees</td>\n",
       "      <td>Computer Hardware &amp; Software</td>\n",
       "      <td>glassdoor.com/Jobs/Apple-Jobs-E1138.htm</td>\n",
       "      <td>glassdoor.com/Overview/Working-at-Apple-EI_IE1...</td>\n",
       "    </tr>\n",
       "    <tr>\n",
       "      <th>2</th>\n",
       "      <td>2</td>\n",
       "      <td>Dell Technologies</td>\n",
       "      <td>10000+ Employees</td>\n",
       "      <td>IT Services</td>\n",
       "      <td>glassdoor.com/Jobs/Dell-Technologies-Jobs-E132...</td>\n",
       "      <td>glassdoor.com/Overview/Working-at-Dell-Technol...</td>\n",
       "    </tr>\n",
       "    <tr>\n",
       "      <th>3</th>\n",
       "      <td>3</td>\n",
       "      <td>IBM</td>\n",
       "      <td>10000+ Employees</td>\n",
       "      <td>IT Services</td>\n",
       "      <td>glassdoor.com/Jobs/IBM-Jobs-E354.htm</td>\n",
       "      <td>glassdoor.com/Overview/Working-at-IBM-EI_IE354...</td>\n",
       "    </tr>\n",
       "    <tr>\n",
       "      <th>4</th>\n",
       "      <td>4</td>\n",
       "      <td>National Instruments</td>\n",
       "      <td>5001 to 10000 Employees</td>\n",
       "      <td>Electrical &amp; Electronic Manufacturing</td>\n",
       "      <td>glassdoor.com/Jobs/National-Instruments-Jobs-E...</td>\n",
       "      <td>glassdoor.com/Overview/Working-at-National-Ins...</td>\n",
       "    </tr>\n",
       "    <tr>\n",
       "      <th>5</th>\n",
       "      <td>5</td>\n",
       "      <td>NVIDIA</td>\n",
       "      <td>10000+ Employees</td>\n",
       "      <td>Computer Hardware &amp; Software</td>\n",
       "      <td>glassdoor.com/Jobs/NVIDIA-Jobs-E7633.htm</td>\n",
       "      <td>glassdoor.com/Overview/Working-at-NVIDIA-EI_IE...</td>\n",
       "    </tr>\n",
       "    <tr>\n",
       "      <th>6</th>\n",
       "      <td>6</td>\n",
       "      <td>Atlassian</td>\n",
       "      <td>1001 to 5000 Employees</td>\n",
       "      <td>Computer Hardware &amp; Software</td>\n",
       "      <td>glassdoor.com/Jobs/Atlassian-Jobs-E115699.htm</td>\n",
       "      <td>glassdoor.com/Overview/Working-at-Atlassian-EI...</td>\n",
       "    </tr>\n",
       "    <tr>\n",
       "      <th>7</th>\n",
       "      <td>7</td>\n",
       "      <td>Silicon Labs</td>\n",
       "      <td>1001 to 5000 Employees</td>\n",
       "      <td>Electrical &amp; Electronic Manufacturing</td>\n",
       "      <td>glassdoor.com/Jobs/Silicon-Labs-Jobs-E9122.htm</td>\n",
       "      <td>glassdoor.com/Overview/Working-at-Silicon-Labs...</td>\n",
       "    </tr>\n",
       "    <tr>\n",
       "      <th>8</th>\n",
       "      <td>8</td>\n",
       "      <td>SailPoint Technologies</td>\n",
       "      <td>1001 to 5000 Employees</td>\n",
       "      <td>Enterprise Software &amp; Network Solutions</td>\n",
       "      <td>glassdoor.com/Jobs/SailPoint-Technologies-Jobs...</td>\n",
       "      <td>glassdoor.com/Overview/Working-at-SailPoint-Te...</td>\n",
       "    </tr>\n",
       "    <tr>\n",
       "      <th>9</th>\n",
       "      <td>9</td>\n",
       "      <td>Facebook</td>\n",
       "      <td>10000+ Employees</td>\n",
       "      <td>Internet</td>\n",
       "      <td>glassdoor.com/Jobs/Facebook-Jobs-E40772.htm</td>\n",
       "      <td>glassdoor.com/Overview/Working-at-Facebook-EI_...</td>\n",
       "    </tr>\n",
       "  </tbody>\n",
       "</table>\n",
       "</div>"
      ],
      "text/plain": [
       "   Unnamed: 0                           name                     size  \\\n",
       "0           0  University of Texas at Austin         10000+ Employees   \n",
       "1           1                          Apple         10000+ Employees   \n",
       "2           2              Dell Technologies         10000+ Employees   \n",
       "3           3                            IBM         10000+ Employees   \n",
       "4           4           National Instruments  5001 to 10000 Employees   \n",
       "5           5                         NVIDIA         10000+ Employees   \n",
       "6           6                      Atlassian   1001 to 5000 Employees   \n",
       "7           7                   Silicon Labs   1001 to 5000 Employees   \n",
       "8           8         SailPoint Technologies   1001 to 5000 Employees   \n",
       "9           9                       Facebook         10000+ Employees   \n",
       "\n",
       "                                  industry  \\\n",
       "0                  Colleges & Universities   \n",
       "1             Computer Hardware & Software   \n",
       "2                              IT Services   \n",
       "3                              IT Services   \n",
       "4    Electrical & Electronic Manufacturing   \n",
       "5             Computer Hardware & Software   \n",
       "6             Computer Hardware & Software   \n",
       "7    Electrical & Electronic Manufacturing   \n",
       "8  Enterprise Software & Network Solutions   \n",
       "9                                 Internet   \n",
       "\n",
       "                                             job_url  \\\n",
       "0  glassdoor.com/Jobs/University-of-Texas-at-Aust...   \n",
       "1            glassdoor.com/Jobs/Apple-Jobs-E1138.htm   \n",
       "2  glassdoor.com/Jobs/Dell-Technologies-Jobs-E132...   \n",
       "3               glassdoor.com/Jobs/IBM-Jobs-E354.htm   \n",
       "4  glassdoor.com/Jobs/National-Instruments-Jobs-E...   \n",
       "5           glassdoor.com/Jobs/NVIDIA-Jobs-E7633.htm   \n",
       "6      glassdoor.com/Jobs/Atlassian-Jobs-E115699.htm   \n",
       "7     glassdoor.com/Jobs/Silicon-Labs-Jobs-E9122.htm   \n",
       "8  glassdoor.com/Jobs/SailPoint-Technologies-Jobs...   \n",
       "9        glassdoor.com/Jobs/Facebook-Jobs-E40772.htm   \n",
       "\n",
       "                                        overview_url  \n",
       "0  glassdoor.com/Overview/Working-at-University-o...  \n",
       "1  glassdoor.com/Overview/Working-at-Apple-EI_IE1...  \n",
       "2  glassdoor.com/Overview/Working-at-Dell-Technol...  \n",
       "3  glassdoor.com/Overview/Working-at-IBM-EI_IE354...  \n",
       "4  glassdoor.com/Overview/Working-at-National-Ins...  \n",
       "5  glassdoor.com/Overview/Working-at-NVIDIA-EI_IE...  \n",
       "6  glassdoor.com/Overview/Working-at-Atlassian-EI...  \n",
       "7  glassdoor.com/Overview/Working-at-Silicon-Labs...  \n",
       "8  glassdoor.com/Overview/Working-at-SailPoint-Te...  \n",
       "9  glassdoor.com/Overview/Working-at-Facebook-EI_...  "
      ]
     },
     "execution_count": 8,
     "metadata": {},
     "output_type": "execute_result"
    }
   ],
   "source": [
    "df.head(10)"
   ]
  },
  {
   "cell_type": "code",
   "execution_count": 18,
   "metadata": {},
   "outputs": [],
   "source": [
    "df.dropna(inplace=True)"
   ]
  },
  {
   "cell_type": "code",
   "execution_count": 19,
   "metadata": {},
   "outputs": [],
   "source": [
    "edu_flag = df['industry'].apply(lambda x: True if 'College' in x else False)"
   ]
  },
  {
   "cell_type": "code",
   "execution_count": 20,
   "metadata": {},
   "outputs": [
    {
     "data": {
      "text/plain": [
       "False    5330\n",
       "True       59\n",
       "Name: industry, dtype: int64"
      ]
     },
     "execution_count": 20,
     "metadata": {},
     "output_type": "execute_result"
    }
   ],
   "source": [
    "edu_flag.value_counts()"
   ]
  },
  {
   "cell_type": "code",
   "execution_count": 28,
   "metadata": {},
   "outputs": [],
   "source": [
    "cos = pd.Series(df.name[~edu_flag].unique())"
   ]
  },
  {
   "cell_type": "code",
   "execution_count": 31,
   "metadata": {},
   "outputs": [],
   "source": [
    "edu = pd.Series(df.name[edu_flag].unique())"
   ]
  },
  {
   "cell_type": "code",
   "execution_count": null,
   "metadata": {},
   "outputs": [],
   "source": [
    "cos[:-4]"
   ]
  },
  {
   "cell_type": "code",
   "execution_count": 36,
   "metadata": {},
   "outputs": [
    {
     "ename": "KeyboardInterrupt",
     "evalue": "",
     "output_type": "error",
     "traceback": [
      "\u001b[0;31m---------------------------------------------------------------------------\u001b[0m",
      "\u001b[0;31mKeyboardInterrupt\u001b[0m                         Traceback (most recent call last)",
      "\u001b[0;32m<ipython-input-36-080eadb98fae>\u001b[0m in \u001b[0;36m<module>\u001b[0;34m\u001b[0m\n\u001b[0;32m----> 1\u001b[0;31m \u001b[0mtest_series\u001b[0m \u001b[0;34m=\u001b[0m \u001b[0mcos\u001b[0m\u001b[0;34m.\u001b[0m\u001b[0mapply\u001b[0m\u001b[0;34m(\u001b[0m\u001b[0;32mlambda\u001b[0m \u001b[0mx\u001b[0m\u001b[0;34m:\u001b[0m \u001b[0mscrape_contacts\u001b[0m\u001b[0;34m(\u001b[0m\u001b[0mdriver\u001b[0m\u001b[0;34m,\u001b[0m \u001b[0mx\u001b[0m\u001b[0;34m)\u001b[0m\u001b[0;34m)\u001b[0m\u001b[0;34m\u001b[0m\u001b[0;34m\u001b[0m\u001b[0m\n\u001b[0m",
      "\u001b[0;32m~/anaconda3/lib/python3.7/site-packages/pandas/core/series.py\u001b[0m in \u001b[0;36mapply\u001b[0;34m(self, func, convert_dtype, args, **kwds)\u001b[0m\n\u001b[1;32m   3846\u001b[0m             \u001b[0;32melse\u001b[0m\u001b[0;34m:\u001b[0m\u001b[0;34m\u001b[0m\u001b[0;34m\u001b[0m\u001b[0m\n\u001b[1;32m   3847\u001b[0m                 \u001b[0mvalues\u001b[0m \u001b[0;34m=\u001b[0m \u001b[0mself\u001b[0m\u001b[0;34m.\u001b[0m\u001b[0mastype\u001b[0m\u001b[0;34m(\u001b[0m\u001b[0mobject\u001b[0m\u001b[0;34m)\u001b[0m\u001b[0;34m.\u001b[0m\u001b[0mvalues\u001b[0m\u001b[0;34m\u001b[0m\u001b[0;34m\u001b[0m\u001b[0m\n\u001b[0;32m-> 3848\u001b[0;31m                 \u001b[0mmapped\u001b[0m \u001b[0;34m=\u001b[0m \u001b[0mlib\u001b[0m\u001b[0;34m.\u001b[0m\u001b[0mmap_infer\u001b[0m\u001b[0;34m(\u001b[0m\u001b[0mvalues\u001b[0m\u001b[0;34m,\u001b[0m \u001b[0mf\u001b[0m\u001b[0;34m,\u001b[0m \u001b[0mconvert\u001b[0m\u001b[0;34m=\u001b[0m\u001b[0mconvert_dtype\u001b[0m\u001b[0;34m)\u001b[0m\u001b[0;34m\u001b[0m\u001b[0;34m\u001b[0m\u001b[0m\n\u001b[0m\u001b[1;32m   3849\u001b[0m \u001b[0;34m\u001b[0m\u001b[0m\n\u001b[1;32m   3850\u001b[0m         \u001b[0;32mif\u001b[0m \u001b[0mlen\u001b[0m\u001b[0;34m(\u001b[0m\u001b[0mmapped\u001b[0m\u001b[0;34m)\u001b[0m \u001b[0;32mand\u001b[0m \u001b[0misinstance\u001b[0m\u001b[0;34m(\u001b[0m\u001b[0mmapped\u001b[0m\u001b[0;34m[\u001b[0m\u001b[0;36m0\u001b[0m\u001b[0;34m]\u001b[0m\u001b[0;34m,\u001b[0m \u001b[0mSeries\u001b[0m\u001b[0;34m)\u001b[0m\u001b[0;34m:\u001b[0m\u001b[0;34m\u001b[0m\u001b[0;34m\u001b[0m\u001b[0m\n",
      "\u001b[0;32mpandas/_libs/lib.pyx\u001b[0m in \u001b[0;36mpandas._libs.lib.map_infer\u001b[0;34m()\u001b[0m\n",
      "\u001b[0;32m<ipython-input-36-080eadb98fae>\u001b[0m in \u001b[0;36m<lambda>\u001b[0;34m(x)\u001b[0m\n\u001b[0;32m----> 1\u001b[0;31m \u001b[0mtest_series\u001b[0m \u001b[0;34m=\u001b[0m \u001b[0mcos\u001b[0m\u001b[0;34m.\u001b[0m\u001b[0mapply\u001b[0m\u001b[0;34m(\u001b[0m\u001b[0;32mlambda\u001b[0m \u001b[0mx\u001b[0m\u001b[0;34m:\u001b[0m \u001b[0mscrape_contacts\u001b[0m\u001b[0;34m(\u001b[0m\u001b[0mdriver\u001b[0m\u001b[0;34m,\u001b[0m \u001b[0mx\u001b[0m\u001b[0;34m)\u001b[0m\u001b[0;34m)\u001b[0m\u001b[0;34m\u001b[0m\u001b[0;34m\u001b[0m\u001b[0m\n\u001b[0m",
      "\u001b[0;32m<ipython-input-4-b1b0ea0f694e>\u001b[0m in \u001b[0;36mscrape_contacts\u001b[0;34m(driver, co)\u001b[0m\n\u001b[1;32m     23\u001b[0m \u001b[0;34m\u001b[0m\u001b[0m\n\u001b[1;32m     24\u001b[0m \u001b[0;34m\u001b[0m\u001b[0m\n\u001b[0;32m---> 25\u001b[0;31m     \u001b[0msleep\u001b[0m\u001b[0;34m(\u001b[0m\u001b[0;36m5\u001b[0m\u001b[0;34m)\u001b[0m\u001b[0;34m\u001b[0m\u001b[0;34m\u001b[0m\u001b[0m\n\u001b[0m\u001b[1;32m     26\u001b[0m     \u001b[0mdriver\u001b[0m\u001b[0;34m.\u001b[0m\u001b[0mfind_element_by_xpath\u001b[0m\u001b[0;34m(\u001b[0m\u001b[0msrch_x_path\u001b[0m\u001b[0;34m)\u001b[0m\u001b[0;34m.\u001b[0m\u001b[0msend_keys\u001b[0m\u001b[0;34m(\u001b[0m\u001b[0mco\u001b[0m \u001b[0;34m+\u001b[0m \u001b[0mKeys\u001b[0m\u001b[0;34m.\u001b[0m\u001b[0mRETURN\u001b[0m\u001b[0;34m)\u001b[0m\u001b[0;34m\u001b[0m\u001b[0;34m\u001b[0m\u001b[0m\n\u001b[1;32m     27\u001b[0m     \u001b[0msleep\u001b[0m\u001b[0;34m(\u001b[0m\u001b[0;36m2\u001b[0m\u001b[0;34m)\u001b[0m\u001b[0;34m\u001b[0m\u001b[0;34m\u001b[0m\u001b[0m\n",
      "\u001b[0;31mKeyboardInterrupt\u001b[0m: "
     ]
    }
   ],
   "source": [
    "test_series = cos.apply(lambda x: scrape_contacts(driver, x))"
   ]
  },
  {
   "cell_type": "code",
   "execution_count": 35,
   "metadata": {},
   "outputs": [
    {
     "data": {
      "text/plain": [
       "1       (FAIL, Dell Technologies)\n",
       "2                     (PASS, IBM)\n",
       "3    (FAIL, National Instruments)\n",
       "4                  (FAIL, NVIDIA)\n",
       "5               (PASS, Atlassian)\n",
       "dtype: object"
      ]
     },
     "execution_count": 35,
     "metadata": {},
     "output_type": "execute_result"
    }
   ],
   "source": [
    "test_series"
   ]
  },
  {
   "cell_type": "code",
   "execution_count": 56,
   "metadata": {},
   "outputs": [],
   "source": [
    "scrape_contacts(driver, '3m')"
   ]
  },
  {
   "cell_type": "markdown",
   "metadata": {},
   "source": [
    "### unused in functions. Here for reference."
   ]
  },
  {
   "cell_type": "code",
   "execution_count": 135,
   "metadata": {},
   "outputs": [
    {
     "data": {
      "text/plain": [
       "'TODO: .click() with xpath'"
      ]
     },
     "execution_count": 135,
     "metadata": {},
     "output_type": "execute_result"
    }
   ],
   "source": [
    "email, pw = get_login()\n",
    "# pull pw/login from external file\n",
    "driver = webdriver.Chrome()\n",
    "# inst chrome webdriver\n",
    "driver.get('https://www.linkedin.com/')\n",
    "# open LI page\n",
    "driver.find_element_by_id('session_key').send_keys(email)\n",
    "# pass in email\n",
    "driver.find_element_by_id('session_password').send_keys(pw)\n",
    "# pass in pw\n",
    "driver.find_element_by_xpath('/html/body/main/section[1]/div[2]/form/button').click()\n",
    "'''TODO: .click() with xpath'''\n",
    "\n",
    "# driver.find_element_by_id('homepage-basic_signin-form_submit-button').click()"
   ]
  },
  {
   "cell_type": "code",
   "execution_count": 136,
   "metadata": {},
   "outputs": [],
   "source": [
    "driver.find_element_by_xpath('//*[@id=\"ember16\"]/input').send_keys(co_test)"
   ]
  },
  {
   "cell_type": "code",
   "execution_count": 137,
   "metadata": {},
   "outputs": [],
   "source": [
    "driver.find_element_by_xpath('//*[@id=\"ember16\"]/input').send_keys(Keys.RETURN)\n",
    "# enter search for co. name"
   ]
  },
  {
   "cell_type": "code",
   "execution_count": 22,
   "metadata": {},
   "outputs": [],
   "source": [
    "co_x_path = '/html/body/div[7]/div[3]/div/div[2]/div/div[2]/div/div/div/ul/li[1]/div/div/div[2]/a/h3'"
   ]
  },
  {
   "cell_type": "code",
   "execution_count": 23,
   "metadata": {},
   "outputs": [
    {
     "ename": "NoSuchElementException",
     "evalue": "Message: no such element: Unable to locate element: {\"method\":\"xpath\",\"selector\":\"/html/body/div[7]/div[3]/div/div[2]/div/div[2]/div/div/div/ul/li[1]/div/div/div[2]/a/h3\"}\n  (Session info: chrome=84.0.4147.89)\n",
     "output_type": "error",
     "traceback": [
      "\u001b[0;31m---------------------------------------------------------------------------\u001b[0m",
      "\u001b[0;31mNoSuchElementException\u001b[0m                    Traceback (most recent call last)",
      "\u001b[0;32m<ipython-input-23-1651da34245e>\u001b[0m in \u001b[0;36m<module>\u001b[0;34m\u001b[0m\n\u001b[0;32m----> 1\u001b[0;31m \u001b[0mdriver\u001b[0m\u001b[0;34m.\u001b[0m\u001b[0mfind_element_by_xpath\u001b[0m\u001b[0;34m(\u001b[0m\u001b[0mco_x_path\u001b[0m\u001b[0;34m)\u001b[0m\u001b[0;34m.\u001b[0m\u001b[0mclick\u001b[0m\u001b[0;34m(\u001b[0m\u001b[0;34m)\u001b[0m\u001b[0;34m\u001b[0m\u001b[0;34m\u001b[0m\u001b[0m\n\u001b[0m\u001b[1;32m      2\u001b[0m \u001b[0;31m# click co. link\u001b[0m\u001b[0;34m\u001b[0m\u001b[0;34m\u001b[0m\u001b[0;34m\u001b[0m\u001b[0m\n",
      "\u001b[0;32m~/anaconda3/lib/python3.7/site-packages/selenium/webdriver/remote/webdriver.py\u001b[0m in \u001b[0;36mfind_element_by_xpath\u001b[0;34m(self, xpath)\u001b[0m\n\u001b[1;32m    392\u001b[0m             \u001b[0melement\u001b[0m \u001b[0;34m=\u001b[0m \u001b[0mdriver\u001b[0m\u001b[0;34m.\u001b[0m\u001b[0mfind_element_by_xpath\u001b[0m\u001b[0;34m(\u001b[0m\u001b[0;34m'//div/td[1]'\u001b[0m\u001b[0;34m)\u001b[0m\u001b[0;34m\u001b[0m\u001b[0;34m\u001b[0m\u001b[0m\n\u001b[1;32m    393\u001b[0m         \"\"\"\n\u001b[0;32m--> 394\u001b[0;31m         \u001b[0;32mreturn\u001b[0m \u001b[0mself\u001b[0m\u001b[0;34m.\u001b[0m\u001b[0mfind_element\u001b[0m\u001b[0;34m(\u001b[0m\u001b[0mby\u001b[0m\u001b[0;34m=\u001b[0m\u001b[0mBy\u001b[0m\u001b[0;34m.\u001b[0m\u001b[0mXPATH\u001b[0m\u001b[0;34m,\u001b[0m \u001b[0mvalue\u001b[0m\u001b[0;34m=\u001b[0m\u001b[0mxpath\u001b[0m\u001b[0;34m)\u001b[0m\u001b[0;34m\u001b[0m\u001b[0;34m\u001b[0m\u001b[0m\n\u001b[0m\u001b[1;32m    395\u001b[0m \u001b[0;34m\u001b[0m\u001b[0m\n\u001b[1;32m    396\u001b[0m     \u001b[0;32mdef\u001b[0m \u001b[0mfind_elements_by_xpath\u001b[0m\u001b[0;34m(\u001b[0m\u001b[0mself\u001b[0m\u001b[0;34m,\u001b[0m \u001b[0mxpath\u001b[0m\u001b[0;34m)\u001b[0m\u001b[0;34m:\u001b[0m\u001b[0;34m\u001b[0m\u001b[0;34m\u001b[0m\u001b[0m\n",
      "\u001b[0;32m~/anaconda3/lib/python3.7/site-packages/selenium/webdriver/remote/webdriver.py\u001b[0m in \u001b[0;36mfind_element\u001b[0;34m(self, by, value)\u001b[0m\n\u001b[1;32m    976\u001b[0m         return self.execute(Command.FIND_ELEMENT, {\n\u001b[1;32m    977\u001b[0m             \u001b[0;34m'using'\u001b[0m\u001b[0;34m:\u001b[0m \u001b[0mby\u001b[0m\u001b[0;34m,\u001b[0m\u001b[0;34m\u001b[0m\u001b[0;34m\u001b[0m\u001b[0m\n\u001b[0;32m--> 978\u001b[0;31m             'value': value})['value']\n\u001b[0m\u001b[1;32m    979\u001b[0m \u001b[0;34m\u001b[0m\u001b[0m\n\u001b[1;32m    980\u001b[0m     \u001b[0;32mdef\u001b[0m \u001b[0mfind_elements\u001b[0m\u001b[0;34m(\u001b[0m\u001b[0mself\u001b[0m\u001b[0;34m,\u001b[0m \u001b[0mby\u001b[0m\u001b[0;34m=\u001b[0m\u001b[0mBy\u001b[0m\u001b[0;34m.\u001b[0m\u001b[0mID\u001b[0m\u001b[0;34m,\u001b[0m \u001b[0mvalue\u001b[0m\u001b[0;34m=\u001b[0m\u001b[0;32mNone\u001b[0m\u001b[0;34m)\u001b[0m\u001b[0;34m:\u001b[0m\u001b[0;34m\u001b[0m\u001b[0;34m\u001b[0m\u001b[0m\n",
      "\u001b[0;32m~/anaconda3/lib/python3.7/site-packages/selenium/webdriver/remote/webdriver.py\u001b[0m in \u001b[0;36mexecute\u001b[0;34m(self, driver_command, params)\u001b[0m\n\u001b[1;32m    319\u001b[0m         \u001b[0mresponse\u001b[0m \u001b[0;34m=\u001b[0m \u001b[0mself\u001b[0m\u001b[0;34m.\u001b[0m\u001b[0mcommand_executor\u001b[0m\u001b[0;34m.\u001b[0m\u001b[0mexecute\u001b[0m\u001b[0;34m(\u001b[0m\u001b[0mdriver_command\u001b[0m\u001b[0;34m,\u001b[0m \u001b[0mparams\u001b[0m\u001b[0;34m)\u001b[0m\u001b[0;34m\u001b[0m\u001b[0;34m\u001b[0m\u001b[0m\n\u001b[1;32m    320\u001b[0m         \u001b[0;32mif\u001b[0m \u001b[0mresponse\u001b[0m\u001b[0;34m:\u001b[0m\u001b[0;34m\u001b[0m\u001b[0;34m\u001b[0m\u001b[0m\n\u001b[0;32m--> 321\u001b[0;31m             \u001b[0mself\u001b[0m\u001b[0;34m.\u001b[0m\u001b[0merror_handler\u001b[0m\u001b[0;34m.\u001b[0m\u001b[0mcheck_response\u001b[0m\u001b[0;34m(\u001b[0m\u001b[0mresponse\u001b[0m\u001b[0;34m)\u001b[0m\u001b[0;34m\u001b[0m\u001b[0;34m\u001b[0m\u001b[0m\n\u001b[0m\u001b[1;32m    322\u001b[0m             response['value'] = self._unwrap_value(\n\u001b[1;32m    323\u001b[0m                 response.get('value', None))\n",
      "\u001b[0;32m~/anaconda3/lib/python3.7/site-packages/selenium/webdriver/remote/errorhandler.py\u001b[0m in \u001b[0;36mcheck_response\u001b[0;34m(self, response)\u001b[0m\n\u001b[1;32m    240\u001b[0m                 \u001b[0malert_text\u001b[0m \u001b[0;34m=\u001b[0m \u001b[0mvalue\u001b[0m\u001b[0;34m[\u001b[0m\u001b[0;34m'alert'\u001b[0m\u001b[0;34m]\u001b[0m\u001b[0;34m.\u001b[0m\u001b[0mget\u001b[0m\u001b[0;34m(\u001b[0m\u001b[0;34m'text'\u001b[0m\u001b[0;34m)\u001b[0m\u001b[0;34m\u001b[0m\u001b[0;34m\u001b[0m\u001b[0m\n\u001b[1;32m    241\u001b[0m             \u001b[0;32mraise\u001b[0m \u001b[0mexception_class\u001b[0m\u001b[0;34m(\u001b[0m\u001b[0mmessage\u001b[0m\u001b[0;34m,\u001b[0m \u001b[0mscreen\u001b[0m\u001b[0;34m,\u001b[0m \u001b[0mstacktrace\u001b[0m\u001b[0;34m,\u001b[0m \u001b[0malert_text\u001b[0m\u001b[0;34m)\u001b[0m\u001b[0;34m\u001b[0m\u001b[0;34m\u001b[0m\u001b[0m\n\u001b[0;32m--> 242\u001b[0;31m         \u001b[0;32mraise\u001b[0m \u001b[0mexception_class\u001b[0m\u001b[0;34m(\u001b[0m\u001b[0mmessage\u001b[0m\u001b[0;34m,\u001b[0m \u001b[0mscreen\u001b[0m\u001b[0;34m,\u001b[0m \u001b[0mstacktrace\u001b[0m\u001b[0;34m)\u001b[0m\u001b[0;34m\u001b[0m\u001b[0;34m\u001b[0m\u001b[0m\n\u001b[0m\u001b[1;32m    243\u001b[0m \u001b[0;34m\u001b[0m\u001b[0m\n\u001b[1;32m    244\u001b[0m     \u001b[0;32mdef\u001b[0m \u001b[0m_value_or_default\u001b[0m\u001b[0;34m(\u001b[0m\u001b[0mself\u001b[0m\u001b[0;34m,\u001b[0m \u001b[0mobj\u001b[0m\u001b[0;34m,\u001b[0m \u001b[0mkey\u001b[0m\u001b[0;34m,\u001b[0m \u001b[0mdefault\u001b[0m\u001b[0;34m)\u001b[0m\u001b[0;34m:\u001b[0m\u001b[0;34m\u001b[0m\u001b[0;34m\u001b[0m\u001b[0m\n",
      "\u001b[0;31mNoSuchElementException\u001b[0m: Message: no such element: Unable to locate element: {\"method\":\"xpath\",\"selector\":\"/html/body/div[7]/div[3]/div/div[2]/div/div[2]/div/div/div/ul/li[1]/div/div/div[2]/a/h3\"}\n  (Session info: chrome=84.0.4147.89)\n"
     ]
    }
   ],
   "source": [
    "driver.find_element_by_xpath(co_x_path).click()\n",
    "# click co. link"
   ]
  },
  {
   "cell_type": "code",
   "execution_count": 48,
   "metadata": {},
   "outputs": [],
   "source": [
    "ppl_x_path = '/html/body/div[7]/div[3]/div/div[3]/div[2]/div[1]/div/div/nav/ul/li[5]/a'"
   ]
  },
  {
   "cell_type": "code",
   "execution_count": 49,
   "metadata": {},
   "outputs": [],
   "source": [
    "driver.find_element_by_xpath(ppl_x_path).click()\n",
    "# click People"
   ]
  },
  {
   "cell_type": "markdown",
   "metadata": {},
   "source": [
    "## ~~edit button testing~~\n",
    "### moving to general search, b/c more flexibility in search"
   ]
  },
  {
   "cell_type": "code",
   "execution_count": 11,
   "metadata": {},
   "outputs": [],
   "source": [
    "gen_search_xpath = '/html/body/div[7]/div[3]/div/div[3]/div[2]/div[2]/div[1]/div[2]/div/div/div/input'\n",
    "gal_alum = 'galvanize'\n",
    "tech_rec = 'technical recruiter'"
   ]
  },
  {
   "cell_type": "code",
   "execution_count": 12,
   "metadata": {},
   "outputs": [],
   "source": [
    "driver.find_element_by_xpath(gen_search_xpath).send_keys(gal_alum)\n",
    "driver.find_element_by_xpath(gen_search_xpath).send_keys(Keys.RETURN)"
   ]
  },
  {
   "cell_type": "code",
   "execution_count": 13,
   "metadata": {},
   "outputs": [],
   "source": [
    "r = driver.page_source"
   ]
  },
  {
   "cell_type": "code",
   "execution_count": 14,
   "metadata": {},
   "outputs": [],
   "source": [
    "soup = BeautifulSoup(r, 'html.parser')"
   ]
  },
  {
   "cell_type": "code",
   "execution_count": 94,
   "metadata": {},
   "outputs": [],
   "source": [
    "results = soup.find('ul', 'org-people-profiles-module__profile-list')"
   ]
  },
  {
   "cell_type": "code",
   "execution_count": 95,
   "metadata": {},
   "outputs": [
    {
     "data": {
      "text/plain": [
       "101"
      ]
     },
     "execution_count": 95,
     "metadata": {},
     "output_type": "execute_result"
    }
   ],
   "source": [
    "len(results)"
   ]
  },
  {
   "cell_type": "code",
   "execution_count": 96,
   "metadata": {},
   "outputs": [],
   "source": [
    "contact_elements = results.find_all('li', 'org-people-profiles-module__profile-item')"
   ]
  },
  {
   "cell_type": "markdown",
   "metadata": {},
   "source": [
    "### iterate through indecies of `contact_elements` to pull k-v pairs"
   ]
  },
  {
   "cell_type": "code",
   "execution_count": 103,
   "metadata": {},
   "outputs": [
    {
     "data": {
      "text/plain": [
       "'Erin Gong'"
      ]
     },
     "execution_count": 103,
     "metadata": {},
     "output_type": "execute_result"
    }
   ],
   "source": [
    "#k example\n",
    "name = contact_elements[0].find('div', 'org-people-profile-card__profile-title t-black lt-line-clamp lt-line-clamp--single-line ember-view').text.rstrip()\n",
    "name = name.replace(' ', '', 2)\n",
    "name"
   ]
  },
  {
   "cell_type": "code",
   "execution_count": 107,
   "metadata": {},
   "outputs": [
    {
     "data": {
      "text/plain": [
       "'https://www.linkedin.com/in/eringong/'"
      ]
     },
     "execution_count": 107,
     "metadata": {},
     "output_type": "execute_result"
    }
   ],
   "source": [
    "#v example\n",
    "#link to contact\n",
    "link = 'https://www.linkedin.com' + contact_elements[0].a['href']\n",
    "link"
   ]
  },
  {
   "cell_type": "code",
   "execution_count": 118,
   "metadata": {},
   "outputs": [],
   "source": [
    "# for loop and dictionary pop init\n",
    "d = defaultdict(dict)\n",
    "\n",
    "for contact in contact_elements:\n",
    "    name = contact.find('div', 'org-people-profile-card__profile-title t-black lt-line-clamp lt-line-clamp--single-line ember-view').text.rstrip()\n",
    "    name = name.replace(' ', '', 2)\n",
    "    link = 'https://www.linkedin.com' + contact.a['href']\n",
    "    \n",
    "    if co_test not in d:\n",
    "        d[co_test]\n",
    "        \n",
    "    if name not in co_test:\n",
    "        d[co_test][name] = link\n",
    "        "
   ]
  },
  {
   "cell_type": "code",
   "execution_count": 119,
   "metadata": {},
   "outputs": [
    {
     "data": {
      "text/plain": [
       "defaultdict(dict,\n",
       "            {'apple': {'Erin Gong': 'https://www.linkedin.com/in/eringong/',\n",
       "              'Kendal Holcombe (Chilcott)': 'https://www.linkedin.com/in/kendal-holcombe/',\n",
       "              'Ryan Hunter': 'https://www.linkedin.com/in/ryan-hunter-1313a53b/',\n",
       "              'Bob Mickus': 'https://www.linkedin.com/in/bobmickus/',\n",
       "              'Isaac Lessard': 'https://www.linkedin.com/in/isaaclessard/',\n",
       "              'Zhifan (Jeff) Sang': 'https://www.linkedin.com/in/zfsang/',\n",
       "              'Sierra Murphy': 'https://www.linkedin.com/in/sierra-murphy-81b75ba2/',\n",
       "              'Hao Ding': 'https://www.linkedin.com/in/haoding1/',\n",
       "              'Udaiveer Singh': 'https://www.linkedin.com/in/udaiveers/',\n",
       "              'Kevin Becerra': 'https://www.linkedin.com/in/kevinbece55/',\n",
       "              'Charlie (Changsong) Ding': 'https://www.linkedin.com/in/changsongding/',\n",
       "              'Bryce Schmidtchen': 'https://www.linkedin.com/in/bryceschmidtchen/',\n",
       "              'Omar Sobh': 'https://www.linkedin.com/in/omarsobh/',\n",
       "              'Wolfgang Morton': 'https://www.linkedin.com/in/wolfgangmorton/',\n",
       "              'Carly Marasco': 'https://www.linkedin.com/in/carlymarasco/',\n",
       "              'Eddie Burgess': 'https://www.linkedin.com/in/eddieburgess/',\n",
       "              'Dawn Braggs': 'https://www.linkedin.com/in/dawn-braggs-abb64291/',\n",
       "              'Hamlet Tamazian': 'https://www.linkedin.com/in/hamlettamazian/',\n",
       "              'Eddy Caldas': 'https://www.linkedin.com/in/eddy-caldas/',\n",
       "              'JJ Vélez': 'https://www.linkedin.com/in/velez-jose/',\n",
       "              'Kimberly Hancock-Mudge': 'https://www.linkedin.com/in/kbhmudge/',\n",
       "              'Antwan Little': 'https://www.linkedin.com/in/antwanlittle/',\n",
       "              'Carrie Kirkpatrick': 'https://www.linkedin.com/in/carrie-kirkpatrick-40831912/',\n",
       "              'Kenneth Tarr': 'https://www.linkedin.com/in/kennethtarr/',\n",
       "              'Zia Rauwolf': 'https://www.linkedin.com/in/zia-rauwolf/'}})"
      ]
     },
     "execution_count": 119,
     "metadata": {},
     "output_type": "execute_result"
    }
   ],
   "source": [
    "d"
   ]
  },
  {
   "cell_type": "code",
   "execution_count": null,
   "metadata": {},
   "outputs": [],
   "source": []
  },
  {
   "cell_type": "markdown",
   "metadata": {},
   "source": [
    "Ok, interacting with LI just fine. ~~Need to refine 'add' edu \"Galvanize\" and~~ Move to general search for flexbility. Able to search co. for my desired fields... Need to scrape portion of return employees. "
   ]
  },
  {
   "cell_type": "markdown",
   "metadata": {},
   "source": [
    "--> ~~beautifulsoup to scrape return cells for (k) employee name (v) url to profile~~"
   ]
  },
  {
   "cell_type": "markdown",
   "metadata": {},
   "source": [
    "--> script Just portion. Just need DF out. for list of co's to search"
   ]
  },
  {
   "cell_type": "markdown",
   "metadata": {},
   "source": [
    "--> MongoDB for k-v's"
   ]
  },
  {
   "cell_type": "markdown",
   "metadata": {},
   "source": [
    "--> Dataframes\n",
    "\n",
    "*perhaps load into psql for py wrapper struc. RDBMS experience*"
   ]
  }
 ],
 "metadata": {
  "kernelspec": {
   "display_name": "Python 3",
   "language": "python",
   "name": "python3"
  },
  "language_info": {
   "codemirror_mode": {
    "name": "ipython",
    "version": 3
   },
   "file_extension": ".py",
   "mimetype": "text/x-python",
   "name": "python",
   "nbconvert_exporter": "python",
   "pygments_lexer": "ipython3",
   "version": "3.7.7"
  }
 },
 "nbformat": 4,
 "nbformat_minor": 4
}
