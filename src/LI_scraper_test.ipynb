{
 "cells": [
  {
   "cell_type": "code",
   "execution_count": 121,
   "metadata": {},
   "outputs": [],
   "source": [
    "# libraries used in production\n",
    "from collections import defaultdict\n",
    "\n",
    "from selenium import webdriver\n",
    "from selenium.webdriver.common.keys import Keys\n",
    "import chromedriver_binary\n",
    "from bs4 import BeautifulSoup\n",
    "\n",
    "\n",
    "# testing\n",
    "from pymongo import MongoClient"
   ]
  },
  {
   "cell_type": "markdown",
   "metadata": {},
   "source": [
    "# Script-ized flow\n",
    "\n",
    "```python\n",
    "def get_login():\n",
    "    '''\n",
    "    Access keys from external file and placed in a list.\n",
    "\n",
    "    Parameters\n",
    "    ----------\n",
    "    None:\n",
    "\n",
    "    Returns\n",
    "    ----------\n",
    "    creds: (list)\n",
    "        Return keys used for session.\n",
    "    '''\n",
    "    f = open('../data/LI_login.txt', 'r')\n",
    "    creds = f.readlines()\n",
    "\n",
    "    for idx, key in enumerate(creds):\n",
    "        creds[idx] = key.replace('\\n', '')\n",
    "\n",
    "    return creds\n",
    "\n",
    "def li_login():\n",
    "    '''\n",
    "    Login into LinkedIn and webdriver session for more web manipulation.\n",
    "    Sets up flow to search in LinkedIn head search bar.\n",
    "\n",
    "    Parameters\n",
    "    ----------\n",
    "    None:\n",
    "\n",
    "    Returns\n",
    "    ----------\n",
    "    driver: (selenium.webdriver.chrome.webdriver.WebDriver)\n",
    "        Return webdriver session for web manipulation.\n",
    "    '''\n",
    "    # session keys for LI instance\n",
    "    email, pw = get_login()\n",
    "    \n",
    "    # selenium webdriver\n",
    "    driver = webdriver.Chrome()\n",
    "    driver.get('https://www.linkedin.com/')\n",
    "    # log in\n",
    "    driver.find_element_by_id('session_key').send_keys(email)\n",
    "    driver.find_element_by_id('session_password').send_keys(pw)\n",
    "    driver.find_element_by_id('session_password').send_keys(Keys.RETURN)\n",
    "\n",
    "    return driver\n",
    "```"
   ]
  },
  {
   "cell_type": "code",
   "execution_count": null,
   "metadata": {},
   "outputs": [],
   "source": [
    "def scrape_contacts(driver, co):\n",
    "    '''\n",
    "    Search company (co) in LinkedIn head search bar and scrape that company's contacts of interest.\n",
    "    Returns dictionary of {co: {name: link}}\n",
    "\n",
    "    Parameters\n",
    "    ----------\n",
    "    driver: (selenium.webdriver.chrome.webdriver.WebDriver)\n",
    "        Webdriver session for web manipulation.\n",
    "    co: (str)\n",
    "        Company string to search in head search bar.\n",
    "\n",
    "    Returns\n",
    "    ----------\n",
    "    d: (dict)\n",
    "        Return dictionary for mongo DB insert.\n",
    "    '''\n",
    "    driver.find_element_by_xpath('//*[@id=\"ember16\"]/input').send_keys(co)"
   ]
  },
  {
   "cell_type": "code",
   "execution_count": 131,
   "metadata": {},
   "outputs": [],
   "source": [
    "driver = li_login()"
   ]
  },
  {
   "cell_type": "code",
   "execution_count": 132,
   "metadata": {},
   "outputs": [],
   "source": [
    "driver.find_element_by_xpath('//*[@id=\"ember16\"]/input').send_keys('apple')"
   ]
  },
  {
   "cell_type": "markdown",
   "metadata": {},
   "source": [
    "### defining flow for `li_login` function"
   ]
  },
  {
   "cell_type": "code",
   "execution_count": 122,
   "metadata": {},
   "outputs": [
    {
     "data": {
      "text/plain": [
       "'TODO: .click() with xpath'"
      ]
     },
     "execution_count": 122,
     "metadata": {},
     "output_type": "execute_result"
    }
   ],
   "source": [
    "email, pw = get_login()\n",
    "# pull pw/login from external file\n",
    "driver = webdriver.Chrome()\n",
    "# inst chrome webdriver\n",
    "driver.get('https://www.linkedin.com/')\n",
    "# open LI page\n",
    "driver.find_element_by_id('session_key').send_keys(email)\n",
    "# pass in email\n",
    "driver.find_element_by_id('session_password').send_keys(pw)\n",
    "# pass in pw\n",
    "driver.find_element_by_xpath('/html/body/main/section[1]/div[2]/form/button').click()\n",
    "'''TODO: .click() with xpath'''\n",
    "\n",
    "# driver.find_element_by_id('homepage-basic_signin-form_submit-button').click()"
   ]
  },
  {
   "cell_type": "code",
   "execution_count": 4,
   "metadata": {},
   "outputs": [],
   "source": [
    "co_test = 'apple'"
   ]
  },
  {
   "cell_type": "code",
   "execution_count": 5,
   "metadata": {},
   "outputs": [],
   "source": [
    "driver.find_element_by_xpath('//*[@id=\"ember16\"]/input').send_keys(co_test)"
   ]
  },
  {
   "cell_type": "code",
   "execution_count": 6,
   "metadata": {},
   "outputs": [],
   "source": [
    "driver.find_element_by_xpath('//*[@id=\"ember16\"]/input').send_keys(Keys.RETURN)\n",
    "# enter search for co. name"
   ]
  },
  {
   "cell_type": "code",
   "execution_count": 7,
   "metadata": {},
   "outputs": [],
   "source": [
    "co_x_path = '/html/body/div[7]/div[3]/div/div[2]/div/div[2]/div/div/div/ul/li[1]/div/div/div[2]/a/h3'"
   ]
  },
  {
   "cell_type": "code",
   "execution_count": 8,
   "metadata": {},
   "outputs": [],
   "source": [
    "driver.find_element_by_xpath(co_x_path).click()\n",
    "# click co. link"
   ]
  },
  {
   "cell_type": "code",
   "execution_count": 9,
   "metadata": {},
   "outputs": [],
   "source": [
    "ppl_x_path = '/html/body/div[7]/div[3]/div/div[3]/div[2]/div[1]/div/div/nav/ul/li[5]/a'"
   ]
  },
  {
   "cell_type": "code",
   "execution_count": 10,
   "metadata": {},
   "outputs": [],
   "source": [
    "driver.find_element_by_xpath(ppl_x_path).click()\n",
    "# click People"
   ]
  },
  {
   "cell_type": "markdown",
   "metadata": {},
   "source": [
    "## ~~edit button testing~~\n",
    "### moving to general search, b/c more flexibility in search"
   ]
  },
  {
   "cell_type": "code",
   "execution_count": 11,
   "metadata": {},
   "outputs": [],
   "source": [
    "gen_search_xpath = '/html/body/div[7]/div[3]/div/div[3]/div[2]/div[2]/div[1]/div[2]/div/div/div/input'\n",
    "gal_alum = 'galvanize'\n",
    "tech_rec = 'technical recruiter'"
   ]
  },
  {
   "cell_type": "code",
   "execution_count": 12,
   "metadata": {},
   "outputs": [],
   "source": [
    "driver.find_element_by_xpath(gen_search_xpath).send_keys(gal_alum)\n",
    "driver.find_element_by_xpath(gen_search_xpath).send_keys(Keys.RETURN)"
   ]
  },
  {
   "cell_type": "code",
   "execution_count": 13,
   "metadata": {},
   "outputs": [],
   "source": [
    "r = driver.page_source"
   ]
  },
  {
   "cell_type": "code",
   "execution_count": 14,
   "metadata": {},
   "outputs": [],
   "source": [
    "soup = BeautifulSoup(r, 'html.parser')"
   ]
  },
  {
   "cell_type": "code",
   "execution_count": 94,
   "metadata": {},
   "outputs": [],
   "source": [
    "results = soup.find('ul', 'org-people-profiles-module__profile-list')"
   ]
  },
  {
   "cell_type": "code",
   "execution_count": 95,
   "metadata": {},
   "outputs": [
    {
     "data": {
      "text/plain": [
       "101"
      ]
     },
     "execution_count": 95,
     "metadata": {},
     "output_type": "execute_result"
    }
   ],
   "source": [
    "len(results)"
   ]
  },
  {
   "cell_type": "code",
   "execution_count": 96,
   "metadata": {},
   "outputs": [],
   "source": [
    "contact_elements = results.find_all('li', 'org-people-profiles-module__profile-item')"
   ]
  },
  {
   "cell_type": "markdown",
   "metadata": {},
   "source": [
    "### iterate through indecies of `contact_elements` to pull k-v pairs"
   ]
  },
  {
   "cell_type": "code",
   "execution_count": 103,
   "metadata": {},
   "outputs": [
    {
     "data": {
      "text/plain": [
       "'Erin Gong'"
      ]
     },
     "execution_count": 103,
     "metadata": {},
     "output_type": "execute_result"
    }
   ],
   "source": [
    "#k example\n",
    "name = contact_elements[0].find('div', 'org-people-profile-card__profile-title t-black lt-line-clamp lt-line-clamp--single-line ember-view').text.rstrip()\n",
    "name = name.replace(' ', '', 2)\n",
    "name"
   ]
  },
  {
   "cell_type": "code",
   "execution_count": 107,
   "metadata": {},
   "outputs": [
    {
     "data": {
      "text/plain": [
       "'https://www.linkedin.com/in/eringong/'"
      ]
     },
     "execution_count": 107,
     "metadata": {},
     "output_type": "execute_result"
    }
   ],
   "source": [
    "#v example\n",
    "#link to contact\n",
    "link = 'https://www.linkedin.com' + contact_elements[0].a['href']\n",
    "link"
   ]
  },
  {
   "cell_type": "code",
   "execution_count": 118,
   "metadata": {},
   "outputs": [],
   "source": [
    "# for loop and dictionary pop init\n",
    "d = defaultdict(dict)\n",
    "\n",
    "for contact in contact_elements:\n",
    "    name = contact.find('div', 'org-people-profile-card__profile-title t-black lt-line-clamp lt-line-clamp--single-line ember-view').text.rstrip()\n",
    "    name = name.replace(' ', '', 2)\n",
    "    link = 'https://www.linkedin.com' + contact.a['href']\n",
    "    \n",
    "    if co_test not in d:\n",
    "        d[co_test]\n",
    "        \n",
    "    if name not in co_test:\n",
    "        d[co_test][name] = link\n",
    "        "
   ]
  },
  {
   "cell_type": "code",
   "execution_count": 119,
   "metadata": {},
   "outputs": [
    {
     "data": {
      "text/plain": [
       "defaultdict(dict,\n",
       "            {'apple': {'Erin Gong': 'https://www.linkedin.com/in/eringong/',\n",
       "              'Kendal Holcombe (Chilcott)': 'https://www.linkedin.com/in/kendal-holcombe/',\n",
       "              'Ryan Hunter': 'https://www.linkedin.com/in/ryan-hunter-1313a53b/',\n",
       "              'Bob Mickus': 'https://www.linkedin.com/in/bobmickus/',\n",
       "              'Isaac Lessard': 'https://www.linkedin.com/in/isaaclessard/',\n",
       "              'Zhifan (Jeff) Sang': 'https://www.linkedin.com/in/zfsang/',\n",
       "              'Sierra Murphy': 'https://www.linkedin.com/in/sierra-murphy-81b75ba2/',\n",
       "              'Hao Ding': 'https://www.linkedin.com/in/haoding1/',\n",
       "              'Udaiveer Singh': 'https://www.linkedin.com/in/udaiveers/',\n",
       "              'Kevin Becerra': 'https://www.linkedin.com/in/kevinbece55/',\n",
       "              'Charlie (Changsong) Ding': 'https://www.linkedin.com/in/changsongding/',\n",
       "              'Bryce Schmidtchen': 'https://www.linkedin.com/in/bryceschmidtchen/',\n",
       "              'Omar Sobh': 'https://www.linkedin.com/in/omarsobh/',\n",
       "              'Wolfgang Morton': 'https://www.linkedin.com/in/wolfgangmorton/',\n",
       "              'Carly Marasco': 'https://www.linkedin.com/in/carlymarasco/',\n",
       "              'Eddie Burgess': 'https://www.linkedin.com/in/eddieburgess/',\n",
       "              'Dawn Braggs': 'https://www.linkedin.com/in/dawn-braggs-abb64291/',\n",
       "              'Hamlet Tamazian': 'https://www.linkedin.com/in/hamlettamazian/',\n",
       "              'Eddy Caldas': 'https://www.linkedin.com/in/eddy-caldas/',\n",
       "              'JJ Vélez': 'https://www.linkedin.com/in/velez-jose/',\n",
       "              'Kimberly Hancock-Mudge': 'https://www.linkedin.com/in/kbhmudge/',\n",
       "              'Antwan Little': 'https://www.linkedin.com/in/antwanlittle/',\n",
       "              'Carrie Kirkpatrick': 'https://www.linkedin.com/in/carrie-kirkpatrick-40831912/',\n",
       "              'Kenneth Tarr': 'https://www.linkedin.com/in/kennethtarr/',\n",
       "              'Zia Rauwolf': 'https://www.linkedin.com/in/zia-rauwolf/'}})"
      ]
     },
     "execution_count": 119,
     "metadata": {},
     "output_type": "execute_result"
    }
   ],
   "source": [
    "d"
   ]
  },
  {
   "cell_type": "code",
   "execution_count": null,
   "metadata": {},
   "outputs": [],
   "source": []
  },
  {
   "cell_type": "markdown",
   "metadata": {},
   "source": [
    "Ok, interacting with LI just fine. ~~Need to refine 'add' edu \"Galvanize\" and~~ Move to general search for flexbility. Able to search co. for my desired fields... Need to scrape portion of return employees. "
   ]
  },
  {
   "cell_type": "markdown",
   "metadata": {},
   "source": [
    "--> ~~beautifulsoup to scrape return cells for (k) employee name (v) url to profile~~"
   ]
  },
  {
   "cell_type": "markdown",
   "metadata": {},
   "source": [
    "--> script Just portion. Just need DF out. for list of co's to search"
   ]
  },
  {
   "cell_type": "markdown",
   "metadata": {},
   "source": [
    "--> MongoDB for k-v's"
   ]
  },
  {
   "cell_type": "markdown",
   "metadata": {},
   "source": [
    "--> Dataframes\n",
    "\n",
    "*perhaps load into psql for py wrapper struc. RDBMS experience*"
   ]
  }
 ],
 "metadata": {
  "kernelspec": {
   "display_name": "Python 3",
   "language": "python",
   "name": "python3"
  },
  "language_info": {
   "codemirror_mode": {
    "name": "ipython",
    "version": 3
   },
   "file_extension": ".py",
   "mimetype": "text/x-python",
   "name": "python",
   "nbconvert_exporter": "python",
   "pygments_lexer": "ipython3",
   "version": "3.7.7"
  }
 },
 "nbformat": 4,
 "nbformat_minor": 4
}
